{
 "cells": [
  {
   "cell_type": "markdown",
   "metadata": {},
   "source": [
    "## Links"
   ]
  },
  {
   "cell_type": "markdown",
   "metadata": {},
   "source": [
    "### Resources\n",
    "- https://docs.python.org/3/tutorial - Python Tutorial\n",
    "- http://www.learnpython.org - Another, interactive, Python tutorial\n",
    "- http://awesome-python.com - A curated list of awesome Python frameworks, libraries, software and resources \n",
    "- https://github.com/rasbt/python_reference - Useful functions, tutorials, and other Python-related things \n",
    "\n",
    "### Books\n",
    "- http://www.onlineprogrammingbooks.com/python/\n",
    "- http://www.diveintopython3.net/\n",
    "- http://www.greenteapress.com/thinkpython/thinkpython.pdf\n",
    "- http://learnpythonthehardway.org/book/\n",
    "- http://python.swaroopch.com/\n",
    "\n",
    "### Videos\n",
    "- https://github.com/s16h/py-must-watch\n",
    "- https://www.fullstackpython.com/best-python-videos.html\n",
    "\n",
    "### Bioinformatics\n",
    "- http://rosalind.info Rosalind is a platform for learning bioinformatics and programming through problem solving "
   ]
  },
  {
   "cell_type": "markdown",
   "metadata": {},
   "source": []
  }
 ],
 "metadata": {
  "kernelspec": {
   "display_name": "Python 3",
   "language": "python",
   "name": "python3"
  },
  "language_info": {
   "codemirror_mode": {
    "name": "ipython",
    "version": 3
   },
   "file_extension": ".py",
   "mimetype": "text/x-python",
   "name": "python",
   "nbconvert_exporter": "python",
   "pygments_lexer": "ipython3",
   "version": "3.4.3"
  }
 },
 "nbformat": 4,
 "nbformat_minor": 0
}
