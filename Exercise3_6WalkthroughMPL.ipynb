{
 "cells": [
  {
   "cell_type": "markdown",
   "metadata": {
    "collapsed": false,
    "slideshow": {
     "slide_type": "slide"
    }
   },
   "source": [
    "This notebook runs briefly through a solution to the exercise at the end of Worksheet 4 of the _Introduction to Python Programming_ course workbook."
   ]
  },
  {
   "cell_type": "markdown",
   "metadata": {
    "slideshow": {
     "slide_type": "subslide"
    }
   },
   "source": [
    "Start by importing the additional functionality that you need, to print the data structure and draw the plots."
   ]
  },
  {
   "cell_type": "code",
   "execution_count": null,
   "metadata": {
    "collapsed": false,
    "slideshow": {
     "slide_type": "-"
    }
   },
   "outputs": [],
   "source": [
    "import pprint\n",
    "import matplotlib.pyplot as plt\n",
    "\n",
    "# the next line is for plotting in the IPython notebook only\n",
    "%matplotlib inline"
   ]
  },
  {
   "cell_type": "markdown",
   "metadata": {
    "slideshow": {
     "slide_type": "slide"
    }
   },
   "source": [
    "Now define the function that will draw each barchart of observations. (This function definition contains a list of colors for the bars, as tuples of RGB values, that will plot each species in a different color.)"
   ]
  },
  {
   "cell_type": "code",
   "execution_count": null,
   "metadata": {
    "collapsed": true,
    "slideshow": {
     "slide_type": "subslide"
    }
   },
   "outputs": [],
   "source": [
    "def doBarChart(heights, labels, title, rows, columns, subplot):\n",
    "    plt.subplot(rows, columns, subplot)\n",
    "    plt.bar(range(len(labels)), heights, color=[(0.9,0.05,0.05),(0.35,1.0,0.35),(0.05,0.05,0.9),(0.9,1.0,0.0),(0.7,0.1,0.7),(0.05,0.9,0.05),(1.0,0.5,0.5),(0.0,0.0,0.5),(0.75,0.75,0.0),(0.0,0.3,0.3),(0.0,0.5,0.0),(0.2,0.8,0.8),(0.6,0.05,0.25)])\n",
    "    plt.title(title)\n",
    "    plt.xlabel('Taxon')\n",
    "    plt.ylabel('Abundance')\n",
    "    plt.axis([0, len(labels), 0, 25000])\n",
    "    tickPos = []\n",
    "    for pos in range(len(labels)):\n",
    "        tickPos.append(pos+0.4)\n",
    "    plt.xticks(tickPos,labels)"
   ]
  },
  {
   "cell_type": "markdown",
   "metadata": {
    "slideshow": {
     "slide_type": "slide"
    }
   },
   "source": [
    "Initialise an empty dictionary, to store the data for each site, and an empty list, to store the species names as you find them. Then, open a file object and read the data line-by-line, populating the data structures as you go."
   ]
  },
  {
   "cell_type": "code",
   "execution_count": null,
   "metadata": {
    "collapsed": false,
    "slideshow": {
     "slide_type": "subslide"
    }
   },
   "outputs": [],
   "source": [
    "sites = {}\n",
    "taxa = []\n",
    "# make sure that you change the file path below to specify the location of the data file on your system\n",
    "datafile = open('speciesDistribution.txt', 'r')\n",
    "\n",
    "for line in datafile:\n",
    "    line = line.strip()\n",
    "    if line.startswith('Site:'):\n",
    "        tag, siteName = line.split(\" \", 1)\n",
    "        sites[siteName] = {}\n",
    "    else:\n",
    "        taxonID, count = line.split()\n",
    "        count = int(count)\n",
    "        sites[siteName][taxonID] = count\n",
    "        if taxonID not in taxa:\n",
    "            taxa.append(taxonID)"
   ]
  },
  {
   "cell_type": "markdown",
   "metadata": {
    "slideshow": {
     "slide_type": "slide"
    }
   },
   "source": [
    "Now that you have read all of the data from the file, you need to loop over each site again, to add zero values for each species not observed. (Exercise 4.4)"
   ]
  },
  {
   "cell_type": "code",
   "execution_count": null,
   "metadata": {
    "collapsed": true,
    "slideshow": {
     "slide_type": "subslide"
    }
   },
   "outputs": [],
   "source": [
    "for site in sites:\n",
    "    for taxon in taxa:\n",
    "        if taxon not in sites[site]:\n",
    "            sites[site][taxon] = 0"
   ]
  },
  {
   "cell_type": "markdown",
   "metadata": {
    "slideshow": {
     "slide_type": "slide"
    }
   },
   "source": [
    "Now, you should have a dictionary, `sites`, keyed by site names, with values that are themselves dictionaries keyed by species ID. Each of these dictionaries within `sites` should have the same number of entries because you added the zero counts. To check out the overall data structure, you can use `pprint.PrettyPrinter`. (Exercise 4.5)"
   ]
  },
  {
   "cell_type": "markdown",
   "metadata": {
    "slideshow": {
     "slide_type": "notes"
    }
   },
   "source": [
    "this is a note. Ignore it."
   ]
  },
  {
   "cell_type": "code",
   "execution_count": null,
   "metadata": {
    "collapsed": false,
    "slideshow": {
     "slide_type": "subslide"
    }
   },
   "outputs": [],
   "source": [
    "pp = pprint.PrettyPrinter(indent=4)\n",
    "pp.pprint(sites)"
   ]
  },
  {
   "cell_type": "markdown",
   "metadata": {
    "slideshow": {
     "slide_type": "slide"
    }
   },
   "source": [
    "Looks good to me! Now, you want to be able to control the order in which the species and counts are extracted from this dictionary for plotting. To do this, you use the dictionary keys and the list of species names that were compiled when the data was read from the file. To make the plot more intuitive, you can make sure that both of these are sorted alphabetically."
   ]
  },
  {
   "cell_type": "code",
   "execution_count": null,
   "metadata": {
    "collapsed": false,
    "slideshow": {
     "slide_type": "fragment"
    }
   },
   "outputs": [],
   "source": [
    "speciesNames.sort()\n",
    "siteNames = sites.keys()\n",
    "siteNames.sort()"
   ]
  },
  {
   "cell_type": "markdown",
   "metadata": {
    "slideshow": {
     "slide_type": "skip"
    }
   },
   "source": [
    "Now, you are ready to plot the data using the function defined above. (Exercise 4.6)"
   ]
  },
  {
   "cell_type": "code",
   "execution_count": null,
   "metadata": {
    "collapsed": false,
    "slideshow": {
     "slide_type": "slide"
    }
   },
   "outputs": [],
   "source": [
    "plt.figure(1, figsize=(10,10)) # you can choose your own figure size or leave\n",
    "                               # this argument out to use the default setting.\n",
    "\n",
    "subnumber = 0\n",
    "\n",
    "for site in siteNames:\n",
    "    subnumber += 1\n",
    "    barValues = []\n",
    "    for species in speciesNames:\n",
    "        barValues.append(sites[site][species])\n",
    "    doBarChart(barValues, speciesNames, site, 4, 2, subnumber)\n",
    "\n",
    "plt.tight_layout()\n",
    "plt.show()"
   ]
  }
 ],
 "metadata": {
  "celltoolbar": "Slideshow",
  "kernelspec": {
   "display_name": "Python 3",
   "language": "python",
   "name": "python3"
  },
  "language_info": {
   "codemirror_mode": {
    "name": "ipython",
    "version": 3
   },
   "file_extension": ".py",
   "mimetype": "text/x-python",
   "name": "python",
   "nbconvert_exporter": "python",
   "pygments_lexer": "ipython3",
   "version": "3.5.1"
  }
 },
 "nbformat": 4,
 "nbformat_minor": 0
}
