{
 "cells": [
  {
   "cell_type": "markdown",
   "metadata": {
    "collapsed": false,
    "slideshow": {
     "slide_type": "slide"
    }
   },
   "source": [
    "This notebook runs briefly through a solution to the exercise at the end of Worksheet 4 of the _Introduction to Python Programming_ course workbook."
   ]
  },
  {
   "cell_type": "markdown",
   "metadata": {
    "slideshow": {
     "slide_type": "subslide"
    }
   },
   "source": [
    "Start by importing the additional functionality that you need, to print the data structure and draw the plots."
   ]
  },
  {
   "cell_type": "code",
   "execution_count": 1,
   "metadata": {
    "collapsed": false,
    "slideshow": {
     "slide_type": "-"
    }
   },
   "outputs": [],
   "source": [
    "import pprint\n",
    "import matplotlib.pyplot as plt\n",
    "\n",
    "# the next line is for plotting in the IPython notebook only\n",
    "%matplotlib inline"
   ]
  },
  {
   "cell_type": "markdown",
   "metadata": {
    "slideshow": {
     "slide_type": "slide"
    }
   },
   "source": [
    "Now define the function that will draw each barchart of observations. (This function definition contains a list of colors for the bars, as tuples of RGB values, that will plot each species in a different color.)"
   ]
  },
  {
   "cell_type": "code",
   "execution_count": 12,
   "metadata": {
    "collapsed": true,
    "slideshow": {
     "slide_type": "subslide"
    }
   },
   "outputs": [],
   "source": [
    "def doBarChart(heights, labels, title, rows, columns, subplot):\n",
    "    plt.subplot(rows, columns, subplot)\n",
    "    plt.bar(range(len(labels)), heights)#, color=[(0.9,0.05,0.05),(0.35,1.0,0.35),(0.05,0.05,0.9),(0.9,1.0,0.0),(0.7,0.1,0.7),(0.05,0.9,0.05),(1.0,0.5,0.5),(0.0,0.0,0.5),(0.75,0.75,0.0),(0.0,0.3,0.3),(0.0,0.5,0.0),(0.2,0.8,0.8),(0.6,0.05,0.25)])\n",
    "    plt.title(title)\n",
    "    plt.xlabel('Taxon')\n",
    "    plt.ylabel('Abundance')\n",
    "    plt.axis([0, len(labels), 0, 25000])\n",
    "    tickPos = []\n",
    "    for pos in range(len(labels)):\n",
    "        tickPos.append(pos+0.4)\n",
    "    plt.xticks(tickPos,labels)"
   ]
  },
  {
   "cell_type": "markdown",
   "metadata": {
    "slideshow": {
     "slide_type": "slide"
    }
   },
   "source": [
    "Initialise an empty dictionary, to store the data for each site, and an empty list, to store the species names as you find them. Then, open a file object and read the data line-by-line, populating the data structures as you go."
   ]
  },
  {
   "cell_type": "code",
   "execution_count": 13,
   "metadata": {
    "collapsed": false,
    "slideshow": {
     "slide_type": "subslide"
    }
   },
   "outputs": [],
   "source": [
    "sites = {}\n",
    "taxa = []\n",
    "# make sure that you change the file path below to specify the location of the data file on your system\n",
    "datafile = open('speciesDistribution.txt', 'r')\n",
    "\n",
    "for line in datafile:\n",
    "    line = line.strip()\n",
    "    if line.startswith('Site:'):\n",
    "        tag, siteName = line.split(\" \", 1)\n",
    "        sites[siteName] = {}\n",
    "    else:\n",
    "        taxonID, count = line.split()\n",
    "        count = int(count)\n",
    "        sites[siteName][taxonID] = count\n",
    "        if taxonID not in taxa:\n",
    "            taxa.append(taxonID)"
   ]
  },
  {
   "cell_type": "markdown",
   "metadata": {
    "slideshow": {
     "slide_type": "slide"
    }
   },
   "source": [
    "Now that you have read all of the data from the file, you need to loop over each site again, to add zero values for each species not observed. (Exercise 4.4)"
   ]
  },
  {
   "cell_type": "code",
   "execution_count": 14,
   "metadata": {
    "collapsed": true,
    "slideshow": {
     "slide_type": "subslide"
    }
   },
   "outputs": [],
   "source": [
    "for site in sites:\n",
    "    for taxon in taxa:\n",
    "        if taxon not in sites[site]:\n",
    "            sites[site][taxon] = 0"
   ]
  },
  {
   "cell_type": "markdown",
   "metadata": {
    "slideshow": {
     "slide_type": "slide"
    }
   },
   "source": [
    "Now, you should have a dictionary, `sites`, keyed by site names, with values that are themselves dictionaries keyed by species ID. Each of these dictionaries within `sites` should have the same number of entries because you added the zero counts. To check out the overall data structure, you can use `pprint.PrettyPrinter`. (Exercise 4.5)"
   ]
  },
  {
   "cell_type": "markdown",
   "metadata": {
    "slideshow": {
     "slide_type": "notes"
    }
   },
   "source": [
    "this is a note. Ignore it."
   ]
  },
  {
   "cell_type": "code",
   "execution_count": 15,
   "metadata": {
    "collapsed": false,
    "slideshow": {
     "slide_type": "subslide"
    }
   },
   "outputs": [
    {
     "name": "stdout",
     "output_type": "stream",
     "text": [
      "{   'Grimston Wood': {   'A': 123,\n",
      "                         'B': 1340,\n",
      "                         'C': 11984,\n",
      "                         'D': 0,\n",
      "                         'E': 9389,\n",
      "                         'F': 4320,\n",
      "                         'G': 1283,\n",
      "                         'H': 0,\n",
      "                         'I': 0,\n",
      "                         'J': 8193,\n",
      "                         'K': 193,\n",
      "                         'L': 0,\n",
      "                         'M': 0},\n",
      "    'Hagg Wood': {   'A': 2039,\n",
      "                     'B': 9394,\n",
      "                     'C': 19380,\n",
      "                     'D': 9102,\n",
      "                     'E': 932,\n",
      "                     'F': 0,\n",
      "                     'G': 893,\n",
      "                     'H': 5839,\n",
      "                     'I': 0,\n",
      "                     'J': 9302,\n",
      "                     'K': 0,\n",
      "                     'L': 984,\n",
      "                     'M': 0},\n",
      "    'Hetchell Wood N': {   'A': 12983,\n",
      "                           'B': 8493,\n",
      "                           'C': 948,\n",
      "                           'D': 9384,\n",
      "                           'E': 4942,\n",
      "                           'F': 0,\n",
      "                           'G': 9834,\n",
      "                           'H': 0,\n",
      "                           'I': 1293,\n",
      "                           'J': 9348,\n",
      "                           'K': 0,\n",
      "                           'L': 0,\n",
      "                           'M': 0},\n",
      "    'Hetchell Wood S': {   'A': 9380,\n",
      "                           'B': 13928,\n",
      "                           'C': 0,\n",
      "                           'D': 949,\n",
      "                           'E': 19023,\n",
      "                           'F': 9384,\n",
      "                           'G': 948,\n",
      "                           'H': 9284,\n",
      "                           'I': 0,\n",
      "                           'J': 1093,\n",
      "                           'K': 3029,\n",
      "                           'L': 0,\n",
      "                           'M': 0},\n",
      "    'Scoreby Wood': {   'A': 920,\n",
      "                        'B': 3928,\n",
      "                        'C': 0,\n",
      "                        'D': 9301,\n",
      "                        'E': 19384,\n",
      "                        'F': 12949,\n",
      "                        'G': 0,\n",
      "                        'H': 3892,\n",
      "                        'I': 9192,\n",
      "                        'J': 0,\n",
      "                        'K': 912,\n",
      "                        'L': 0,\n",
      "                        'M': 0},\n",
      "    'Sutton Wood': {   'A': 883,\n",
      "                       'B': 293,\n",
      "                       'C': 893,\n",
      "                       'D': 18990,\n",
      "                       'E': 0,\n",
      "                       'F': 3910,\n",
      "                       'G': 930,\n",
      "                       'H': 1738,\n",
      "                       'I': 819,\n",
      "                       'J': 0,\n",
      "                       'K': 0,\n",
      "                       'L': 0,\n",
      "                       'M': 9934},\n",
      "    'Wheldrake Wood': {   'A': 0,\n",
      "                          'B': 91,\n",
      "                          'C': 22649,\n",
      "                          'D': 2949,\n",
      "                          'E': 901,\n",
      "                          'F': 0,\n",
      "                          'G': 9204,\n",
      "                          'H': 2040,\n",
      "                          'I': 8173,\n",
      "                          'J': 0,\n",
      "                          'K': 0,\n",
      "                          'L': 6781,\n",
      "                          'M': 9184}}\n"
     ]
    }
   ],
   "source": [
    "pp = pprint.PrettyPrinter(indent=4)\n",
    "pp.pprint(sites)"
   ]
  },
  {
   "cell_type": "markdown",
   "metadata": {
    "slideshow": {
     "slide_type": "slide"
    }
   },
   "source": [
    "Looks good to me! Now, you want to be able to control the order in which the species and counts are extracted from this dictionary for plotting. To do this, you use the dictionary keys and the list of species names that were compiled when the data was read from the file. To make the plot more intuitive, you can make sure that both of these are sorted alphabetically."
   ]
  },
  {
   "cell_type": "code",
   "execution_count": 8,
   "metadata": {
    "collapsed": false,
    "slideshow": {
     "slide_type": "fragment"
    }
   },
   "outputs": [],
   "source": [
    "taxa.sort()\n",
    "siteNames = sites.keys()\n",
    "siteNames = sorted(siteNames)"
   ]
  },
  {
   "cell_type": "markdown",
   "metadata": {
    "slideshow": {
     "slide_type": "skip"
    }
   },
   "source": [
    "Now, you are ready to plot the data using the function defined above. (Exercise 4.6)"
   ]
  },
  {
   "cell_type": "code",
   "execution_count": 19,
   "metadata": {
    "collapsed": false,
    "slideshow": {
     "slide_type": "slide"
    }
   },
   "outputs": [
    {
     "data": {
      "image/png": "[encoded data removed]",
      "text/plain": [
       "<matplotlib.figure.Figure at 0x110068d68>"
      ]
     },
     "metadata": {},
     "output_type": "display_data"
    }
   ],
   "source": [
    "plt.figure(1, figsize=(10,10)) # you can choose your own figure size or leave\n",
    "                               # this argument out to use the default setting.\n",
    "\n",
    "subnumber = 0\n",
    "\n",
    "for site in siteNames:\n",
    "    subnumber += 1\n",
    "    barValues = []\n",
    "    for taxon in taxa:\n",
    "        barValues.append(sites[site][taxon])\n",
    "    doBarChart(barValues, taxa, site, 4, 2, subnumber)\n",
    "\n",
    "plt.tight_layout()\n",
    "plt.show()"
   ]
  }
 ],
 "metadata": {
  "celltoolbar": "Slideshow",
  "kernelspec": {
   "display_name": "Python 3",
   "language": "python",
   "name": "python3"
  },
  "language_info": {
   "codemirror_mode": {
    "name": "ipython",
    "version": 3
   },
   "file_extension": ".py",
   "mimetype": "text/x-python",
   "name": "python",
   "nbconvert_exporter": "python",
   "pygments_lexer": "ipython3",
   "version": "3.5.1"
  }
 },
 "nbformat": 4,
 "nbformat_minor": 0
}
