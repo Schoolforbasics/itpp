{
 "cells": [
  {
   "cell_type": "code",
   "execution_count": null,
   "metadata": {
    "collapsed": true
   },
   "outputs": [],
   "source": [
    "from bokeh.charts import Bar, output_notebook, show\n",
    "from bokeh.io import gridplot"
   ]
  },
  {
   "cell_type": "code",
   "execution_count": null,
   "metadata": {
    "collapsed": false
   },
   "outputs": [],
   "source": [
    "inputFile = 'speciesDistribution.txt'\n",
    "handle = open(inputFile, 'r')\n",
    "\n",
    "sites = {}\n",
    "taxa = []\n",
    "\n",
    "for line in handle.readlines():\n",
    "    line = line.strip()\n",
    "    if line.startswith('Site'):\n",
    "        siteName = line[6:]\n",
    "        sites[siteName] = {}\n",
    "    else:\n",
    "        taxonID, count = line.split('\\t')\n",
    "        if taxonID not in taxa:\n",
    "            taxa.append(taxonID)\n",
    "        sites[siteName][taxonID] = int(count)\n"
   ]
  },
  {
   "cell_type": "code",
   "execution_count": null,
   "metadata": {
    "collapsed": false
   },
   "outputs": [],
   "source": [
    "siteNames = sites.keys()\n",
    "siteNames = sorted(siteNames)\n",
    "taxa.sort()"
   ]
  },
  {
   "cell_type": "code",
   "execution_count": null,
   "metadata": {
    "collapsed": true
   },
   "outputs": [],
   "source": [
    "for site in siteNames:\n",
    "    for taxonID in taxa:\n",
    "        if taxonID not in sites[site]:\n",
    "            sites[site][taxonID] = 0\n"
   ]
  },
  {
   "cell_type": "code",
   "execution_count": null,
   "metadata": {
    "collapsed": false
   },
   "outputs": [],
   "source": [
    "data = {}\n",
    "for site in siteNames:\n",
    "    data[site] = []\n",
    "    for taxon in taxa:\n",
    "        data[site].append(sites[site][taxon])\n",
    "data['taxa'] = taxa\n"
   ]
  },
  {
   "cell_type": "code",
   "execution_count": null,
   "metadata": {
    "collapsed": false
   },
   "outputs": [],
   "source": [
    "output_notebook()"
   ]
  },
  {
   "cell_type": "code",
   "execution_count": null,
   "metadata": {
    "collapsed": false
   },
   "outputs": [],
   "source": [
    "plots = []\n",
    "for site in siteNames:\n",
    "    plot = Bar(data, 'taxa', values=site, color='taxa', title=site, xlabel='taxon', ylabel='abundance', tools='')\n",
    "    plots.append(plot)"
   ]
  },
  {
   "cell_type": "code",
   "execution_count": null,
   "metadata": {
    "collapsed": false
   },
   "outputs": [],
   "source": [
    "layout = gridplot([[plots[0],plots[1]],\\\n",
    "                   [plots[2],plots[3]],\\\n",
    "                   [plots[4],plots[5]],\\\n",
    "                   [plots[6]]])\n",
    "show(layout)"
   ]
  }
 ],
 "metadata": {
  "kernelspec": {
   "display_name": "Python 3",
   "language": "python",
   "name": "python3"
  },
  "language_info": {
   "codemirror_mode": {
    "name": "ipython",
    "version": 3
   },
   "file_extension": ".py",
   "mimetype": "text/x-python",
   "name": "python",
   "nbconvert_exporter": "python",
   "pygments_lexer": "ipython3",
   "version": "3.5.1"
  }
 },
 "nbformat": 4,
 "nbformat_minor": 0
}
