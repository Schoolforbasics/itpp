{
 "cells": [
  {
   "cell_type": "code",
   "execution_count": 18,
   "metadata": {
    "collapsed": true
   },
   "outputs": [],
   "source": [
    "% matplotlib inline"
   ]
  },
  {
   "cell_type": "markdown",
   "metadata": {},
   "source": [
    "# Introduction to Python Programming"
   ]
  },
  {
   "cell_type": "markdown",
   "metadata": {},
   "source": [
    "## 5. Plotting Data with Matplotlib and Bokeh"
   ]
  },
  {
   "cell_type": "markdown",
   "metadata": {},
   "source": [
    "#### Opening Files"
   ]
  },
  {
   "cell_type": "markdown",
   "metadata": {},
   "source": [
    "What we have been doing so far has required you to type the data into the programs by hand, which is a bit cruel. For this worksheet, we will be using a larger dataset (still tiny by many standards) and you can download a file containing the data from [GitHub](https://github.com/tobyhodges/ITPP/blob/v2/speciesDistribution.txt). Just right-click 'Raw' at the top of the file content and download/save the linked file into the same directory as you are keeping the Python scripts."
   ]
  },
  {
   "cell_type": "markdown",
   "metadata": {},
   "source": [
    "Of course, this requires that we know how to get data out of the file and into our Python program and that is what we are going to do in this worksheet. Specifically we are talking about reading data out of text files. Binary files face their own challenges, and I am not going to get into that in this course since handling them is very dependent on the implementation of the binary file. In any case, for a number of significant classes of binary files, such as images, BAM files or NetCDF formatted data, there are already Python modules to enable you to access the data in a simple way. But in any case, we will look at text files for now and firstly we need to know how to open them."
   ]
  },
  {
   "cell_type": "markdown",
   "metadata": {},
   "source": [
    "If you have downloaded the file, you should make sure that it is saved into the same folder where you are going to save the python programs that you will use to analyse it. We will start simple, just by opening the file at the Python shell prompt."
   ]
  },
  {
   "cell_type": "code",
   "execution_count": 19,
   "metadata": {
    "collapsed": false
   },
   "outputs": [],
   "source": [
    "f = open('speciesDistribution.txt', 'r')"
   ]
  },
  {
   "cell_type": "markdown",
   "metadata": {},
   "source": [
    "The file is now open, and `f` is a variable referring to a _file_ data type.  Obviously, the file argument for `open` is a string containing the filename, but the `'r'` probably needs to be explained. This argument is called the file mode, and `'r'` means that you only want to read data. If you specify `'w'`, it means that you want to write data into the file, which we will talk about later. One very important point is that when you open a file that already exists for writing, the contents of the file are cleared, and can’t be recovered. If you instead want to append data to an existing file you should specify `'a'` as the mode. If you specify `'r+'` then you can read and write to the file. These are the same regardless of the operating system that you are working on, but Windows has a few specific ones of it’s own, which you shouldn’t use if you can avoid them. "
   ]
  },
  {
   "cell_type": "markdown",
   "metadata": {},
   "source": [
    "As you might expect by now, file objects have their own methods and you can use some of these to read data from the file.  The easiest way of doing this is to use `.readlines()`:"
   ]
  },
  {
   "cell_type": "code",
   "execution_count": 20,
   "metadata": {
    "collapsed": true
   },
   "outputs": [],
   "source": [
    "lines = f.readlines()"
   ]
  },
  {
   "cell_type": "markdown",
   "metadata": {},
   "source": [
    "The variable lines now refers to a list of strings containing each of the lines in the file. Try looking at one or two of them. If you didn’t look at the contents of the file before you opened it with your program, have a look at it now. If you compare `lines[1]` in Python with the second line in the file, you will see some differences. Most obvious is the presence of a `\\n` at the end of each line in the Python list. These are _newline characters_ and we need to remember to remove these when we process the data from the file. Although it looks like two characters, it is what is called an escape character: just a single character but one with special meaning to the program and which we cannot normally see in a string. On most of the other lines there is another escape `\\t`, which is a _tab character_. Again, we need to remember this for use later. Tabs are often used to separate data items on the lines of text files because, amongst other reasons, they are much less likely to occur within the data than spaces."
   ]
  },
  {
   "cell_type": "markdown",
   "metadata": {},
   "source": [
    "#### Getting Data from Files"
   ]
  },
  {
   "cell_type": "markdown",
   "metadata": {},
   "source": [
    "Using `.readlines()` to create a list containing all of the lines is nice and simple, but has a major drawback. It’s fine when your file is small enough to read all of the lines into memory, but if you are reading a 32Gb SAM file, you are likely to run into problems. Here, you want to read one line at a time, and process it. Python files do have a `.readline()` method that will read only one line, but it’s best to just use a `for` loop. Python has an idea of 'iterable' data types which you can put into `for` loops. We have seen two of these so far: the list and the dictionary. For a list you get each element in turn, and for a dictionary you get each key in turn. Strings are also iterable and return each character in turn. The point of mentioning this now is that files are also iterable, and Python tries to pass you exactly what we want: one line at a time. So we can start to write a program now to start processing this data file. "
   ]
  },
  {
   "cell_type": "markdown",
   "metadata": {},
   "source": [
    "__Note__ This will be the largest program you have written so far, and what I do when I am embarking on writing a large program is to start with just the basic structure and make sure that works then add to the program step by step and keep running it to make sure it is doing what I expect before it gets too complicated."
   ]
  },
  {
   "cell_type": "markdown",
   "metadata": {},
   "source": [
    "To begin, in an editor window"
   ]
  },
  {
   "cell_type": "code",
   "execution_count": 21,
   "metadata": {
    "collapsed": false
   },
   "outputs": [
    {
     "name": "stdout",
     "output_type": "stream",
     "text": [
      "Site: Hetchell Wood N\n",
      "\n",
      "A\t12983\n",
      "\n",
      "B\t8493\n",
      "\n",
      "C\t948\n",
      "\n",
      "D\t9384\n",
      "\n",
      "E\t4942\n",
      "\n",
      "G\t9834\n",
      "\n",
      "I\t1293\n",
      "\n",
      "J\t9348\n",
      "\n",
      "Site: Hetchell Wood S\n",
      "\n",
      "A\t9380\n",
      "\n",
      "B\t13928\n",
      "\n",
      "D\t949\n",
      "\n",
      "E\t19023\n",
      "\n",
      "F\t9384\n",
      "\n",
      "G\t948\n",
      "\n",
      "H\t9284\n",
      "\n",
      "J\t1093\n",
      "\n",
      "K\t3029\n",
      "\n",
      "Site: Hagg Wood\n",
      "\n",
      "A\t2039\n",
      "\n",
      "B\t9394\n",
      "\n",
      "C\t19380\n",
      "\n",
      "D\t9102\n",
      "\n",
      "E\t932\n",
      "\n",
      "G\t893\n",
      "\n",
      "H\t5839\n",
      "\n",
      "J\t9302\n",
      "\n",
      "L\t984\n",
      "\n",
      "Site: Scoreby Wood\n",
      "\n",
      "A\t920\n",
      "\n",
      "B\t3928\n",
      "\n",
      "D\t9301\n",
      "\n",
      "E\t19384\n",
      "\n",
      "F\t12949\n",
      "\n",
      "H\t3892\n",
      "\n",
      "I\t9192\n",
      "\n",
      "K\t912\n",
      "\n",
      "Site: Grimston Wood\n",
      "\n",
      "A\t123\n",
      "\n",
      "B\t1340\n",
      "\n",
      "C\t11984\n",
      "\n",
      "E\t9389\n",
      "\n",
      "F\t4320\n",
      "\n",
      "G\t1283\n",
      "\n",
      "J\t8193\n",
      "\n",
      "K\t193\n",
      "\n",
      "Site: Sutton Wood\n",
      "\n",
      "A\t883\n",
      "\n",
      "B\t293\n",
      "\n",
      "C\t893\n",
      "\n",
      "D\t18990\n",
      "\n",
      "F\t3910\n",
      "\n",
      "G\t930\n",
      "\n",
      "H\t1738\n",
      "\n",
      "I\t819\n",
      "\n",
      "M\t9934\n",
      "\n",
      "Site: Wheldrake Wood\n",
      "\n",
      "B\t91\n",
      "\n",
      "C\t22649\n",
      "\n",
      "D\t2949\n",
      "\n",
      "E\t901\n",
      "\n",
      "G\t9204\n",
      "\n",
      "H\t2040\n",
      "\n",
      "I\t8173\n",
      "\n",
      "L\t6781\n",
      "\n",
      "M\t9184\n",
      "\n"
     ]
    }
   ],
   "source": [
    "datafile = open('speciesDistribution.txt', 'r')\n",
    "for line in datafile:\n",
    "    print(line)"
   ]
  },
  {
   "cell_type": "markdown",
   "metadata": {},
   "source": [
    "OK, so far so good, the program is basically printing the whole file out to the Python Shell window. However, I forgot about the newline characters at the end of the lines. You have probably noticed that the `print` statement automatically adds a newline to the end of everything it prints, so now we are getting two after each line, which is why the output is double-spaced. So the first thing to do is to fix that, by removing the newline characters from the lines as we read them in. Strings have a `.strip()` method which removes any newlines, spaces or tabs (we called these characters 'whitespace') at the start and end of each line. So add the line"
   ]
  },
  {
   "cell_type": "code",
   "execution_count": 22,
   "metadata": {
    "collapsed": false
   },
   "outputs": [],
   "source": [
    "line = line.strip()"
   ]
  },
  {
   "cell_type": "markdown",
   "metadata": {},
   "source": [
    "to the loop before the print statement (at the correct level of indentation) and try the program again.  Now the output should look single spaced."
   ]
  },
  {
   "cell_type": "code",
   "execution_count": 23,
   "metadata": {
    "collapsed": false
   },
   "outputs": [
    {
     "name": "stdout",
     "output_type": "stream",
     "text": [
      "Site: Hetchell Wood N\n",
      "A\t12983\n",
      "B\t8493\n",
      "C\t948\n",
      "D\t9384\n",
      "E\t4942\n",
      "G\t9834\n",
      "I\t1293\n",
      "J\t9348\n",
      "Site: Hetchell Wood S\n",
      "A\t9380\n",
      "B\t13928\n",
      "D\t949\n",
      "E\t19023\n",
      "F\t9384\n",
      "G\t948\n",
      "H\t9284\n",
      "J\t1093\n",
      "K\t3029\n",
      "Site: Hagg Wood\n",
      "A\t2039\n",
      "B\t9394\n",
      "C\t19380\n",
      "D\t9102\n",
      "E\t932\n",
      "G\t893\n",
      "H\t5839\n",
      "J\t9302\n",
      "L\t984\n",
      "Site: Scoreby Wood\n",
      "A\t920\n",
      "B\t3928\n",
      "D\t9301\n",
      "E\t19384\n",
      "F\t12949\n",
      "H\t3892\n",
      "I\t9192\n",
      "K\t912\n",
      "Site: Grimston Wood\n",
      "A\t123\n",
      "B\t1340\n",
      "C\t11984\n",
      "E\t9389\n",
      "F\t4320\n",
      "G\t1283\n",
      "J\t8193\n",
      "K\t193\n",
      "Site: Sutton Wood\n",
      "A\t883\n",
      "B\t293\n",
      "C\t893\n",
      "D\t18990\n",
      "F\t3910\n",
      "G\t930\n",
      "H\t1738\n",
      "I\t819\n",
      "M\t9934\n",
      "Site: Wheldrake Wood\n",
      "B\t91\n",
      "C\t22649\n",
      "D\t2949\n",
      "E\t901\n",
      "G\t9204\n",
      "H\t2040\n",
      "I\t8173\n",
      "L\t6781\n",
      "M\t9184\n"
     ]
    }
   ],
   "source": [
    "datafile = open('speciesDistribution.txt', 'r')\n",
    "for line in datafile:\n",
    "    line = line.strip()\n",
    "    print(line)"
   ]
  },
  {
   "cell_type": "markdown",
   "metadata": {},
   "source": [
    "#### Processing the File"
   ]
  },
  {
   "cell_type": "markdown",
   "metadata": {},
   "source": [
    "If we look again at the file, we can see that it consists of two types of data. Some lines contain the names of sampling sites and some contain a letter and a number. The letters are taxon designators and the numbers represent abundance of that taxon at that particular site (in this case, as measured by high-throughput DNA sequencing of 18S rRNA). We need to process the two line types differently and store the information in a suitable data structure."
   ]
  },
  {
   "cell_type": "markdown",
   "metadata": {},
   "source": [
    "Take a moment to think about how you think we might go about doing that, and what the best data structure type to use might be for storing the taxon codes and counts for each site. Don’t worry if you find this a little confusing and/or daunting: we are going to work through it one step at a time, starting by identifying each site described in the data."
   ]
  },
  {
   "cell_type": "markdown",
   "metadata": {},
   "source": [
    "The lines with the site names in them all start with the substring `Site:`, so they are easy to recognise.  We can use the string’s `.startswith()` method in an if statement to identify these lines so that we can process them separately.  Try using this method at the Python command line so you understand how it works before putting it into the program."
   ]
  },
  {
   "cell_type": "markdown",
   "metadata": {},
   "source": [
    "#### _Exercise 5.1_"
   ]
  },
  {
   "cell_type": "markdown",
   "metadata": {},
   "source": [
    "Change the program to only print out the lines that start with `Site:`"
   ]
  },
  {
   "cell_type": "markdown",
   "metadata": {},
   "source": [
    "Once that works, remove the `Site:` substring (and the space that follows it) from the string and just print the actual site name. Make sure that you store the name in a variable at this point as well - we will need it later."
   ]
  },
  {
   "cell_type": "markdown",
   "metadata": {},
   "source": [
    "#### Starting to Build the Data Structure"
   ]
  },
  {
   "cell_type": "markdown",
   "metadata": {},
   "source": [
    "Now that we have isolated the site names we can think some more about what kind of data structures we will use to store the data we read from the file. Remember what you learned in the previous worksheet, about how important it is to choose an appropriate data structure. In this case, we have some named sites and then some data corresponding to those sites. That to me sounds like a dictionary. The data we have for each site consists of several lines, which each contain a taxon code (the letter) and a count for that taxon. Again, this sounds like a dictionary."
   ]
  },
  {
   "cell_type": "markdown",
   "metadata": {},
   "source": [
    "So we need a dictionary keyed by each site name, for which the associated value is another dictionary, keyed by the taxon IDs with values that are the counts for that site. So we need to create a dictionary of dictionaries. As with the whole program, it’s probably best to start simple."
   ]
  },
  {
   "cell_type": "markdown",
   "metadata": {},
   "source": [
    "We need to create the top-level dictionary before we can populate it with the data from the file. We do this by defining an empty dictionary. You can do this by putting the line"
   ]
  },
  {
   "cell_type": "code",
   "execution_count": 24,
   "metadata": {
    "collapsed": true
   },
   "outputs": [],
   "source": [
    "sites = {}"
   ]
  },
  {
   "cell_type": "markdown",
   "metadata": {},
   "source": [
    "just before the start of the loop that reads the file. This is often referred to as “initialising” a data structure, and is a strategy that you will use a lot when working with data read into Python from other sources. Now every time you find the name of a new site in the file, you need to create the entry in this dictionary for that site name. Again, the value associated with this site name needs to be a new, empty dictionary. The example below shows how you can extract the site name from a line and create a new dictionary for it."
   ]
  },
  {
   "cell_type": "code",
   "execution_count": 25,
   "metadata": {
    "collapsed": false
   },
   "outputs": [],
   "source": [
    "datafile = open('speciesDistribution.txt', 'r')\n",
    "for line in datafile:\n",
    "    line = line.strip()\n",
    "    if line.startswith('Site: '):  # you should have come up with something similar to\n",
    "        siteName = line[6:]        # this in your solution to exercise .1 ...\n",
    "        sites[siteName] = {}"
   ]
  },
  {
   "cell_type": "markdown",
   "metadata": {},
   "source": [
    "#### _Exercise 5.2_"
   ]
  },
  {
   "cell_type": "markdown",
   "metadata": {},
   "source": [
    "Change your program to create the empty dictionaries as above, then right at the end, outside the loop, get it to print out the keys for the sites dictionary. These should be all of the site names."
   ]
  },
  {
   "cell_type": "markdown",
   "metadata": {},
   "source": [
    "#### Splitting Lines and Converting Data"
   ]
  },
  {
   "cell_type": "markdown",
   "metadata": {},
   "source": [
    "Now that we are creating a dictionary for each site, we just need to parse the taxon/count lines from the file and put them into the appropriate dictionary for their site. As is common, on these lines we have two items of data. (We know too that once we see one of these lines we must also have the site name, which we have kept in a variable since it was extracted from the `Site:` line.) We can split the line as we did before to get the separate fields. In this case there will be two fields and they are returned as a list, but we can unpack them directly into individual variables in the assignment statement if we want to. So, after inserting an `else:` statement to go with the `if` statement that contains the `.startswith()` test to find the site names, you could type (again with the appropriate level of indentation): "
   ]
  },
  {
   "cell_type": "markdown",
   "metadata": {},
   "source": [
    "`taxonID, count = line.split()`"
   ]
  },
  {
   "cell_type": "markdown",
   "metadata": {},
   "source": [
    "Just a couple of words of caution.  Firstly, this will split the string on all whitespace characters.  This is fine in our case, but if any of your data were to contain spaces (for example if the single letter taxon names were classic binomial species names like _Homo sapiens_ instead), they would be split too.  You can limit to just tabs with:"
   ]
  },
  {
   "cell_type": "markdown",
   "metadata": {},
   "source": [
    "`taxonID, count = line.split(‘\\t’)`"
   ]
  },
  {
   "cell_type": "markdown",
   "metadata": {},
   "source": [
    "That’s solved the first problem. The second issue here is the data types. Type the following at the Python shell prompt:"
   ]
  },
  {
   "cell_type": "code",
   "execution_count": 26,
   "metadata": {
    "collapsed": false
   },
   "outputs": [
    {
     "data": {
      "text/plain": [
       "'29304'"
      ]
     },
     "execution_count": 26,
     "metadata": {},
     "output_type": "execute_result"
    }
   ],
   "source": [
    "line = 'A\\t29304'\n",
    "taxonID, count = line.split('\\t')\n",
    "count"
   ]
  },
  {
   "cell_type": "code",
   "execution_count": 27,
   "metadata": {
    "collapsed": false
   },
   "outputs": [
    {
     "ename": "TypeError",
     "evalue": "Can't convert 'int' object to str implicitly",
     "output_type": "error",
     "traceback": [
      "\u001b[0;31m---------------------------------------------------------------------------\u001b[0m",
      "\u001b[0;31mTypeError\u001b[0m                                 Traceback (most recent call last)",
      "\u001b[0;32m<ipython-input-27-e0cb6e716f7d>\u001b[0m in \u001b[0;36m<module>\u001b[0;34m()\u001b[0m\n\u001b[0;32m----> 1\u001b[0;31m \u001b[0mcount\u001b[0m \u001b[0;34m=\u001b[0m \u001b[0mcount\u001b[0m \u001b[0;34m+\u001b[0m \u001b[0;36m99\u001b[0m\u001b[0;34m\u001b[0m\u001b[0m\n\u001b[0m",
      "\u001b[0;31mTypeError\u001b[0m: Can't convert 'int' object to str implicitly"
     ]
    }
   ],
   "source": [
    "count = count + 99"
   ]
  },
  {
   "cell_type": "code",
   "execution_count": 28,
   "metadata": {
    "collapsed": false
   },
   "outputs": [
    {
     "data": {
      "text/plain": [
       "29304"
      ]
     },
     "execution_count": 28,
     "metadata": {},
     "output_type": "execute_result"
    }
   ],
   "source": [
    "count = 29304\n",
    "count"
   ]
  },
  {
   "cell_type": "code",
   "execution_count": 29,
   "metadata": {
    "collapsed": true
   },
   "outputs": [],
   "source": [
    "count = count + 99"
   ]
  },
  {
   "cell_type": "markdown",
   "metadata": {},
   "source": [
    "The first time that Python prints the value of count, it has quotation marks around it, and you get an error when you try to add 99 to it. The second time it doesn’t have quotation marks and you don’t receive an error when adding 99. This is because the first time, the value of count is not a number but a string representing the number. Perl programmers don’t have to worry about this kind of thing, because Perl will automatically convert things for you when it thinks it needs to. With Python we have to be a bit more careful and convert the data ourselves.  This is done with"
   ]
  },
  {
   "cell_type": "code",
   "execution_count": 30,
   "metadata": {
    "collapsed": false
   },
   "outputs": [
    {
     "data": {
      "text/plain": [
       "29403"
      ]
     },
     "execution_count": 30,
     "metadata": {},
     "output_type": "execute_result"
    }
   ],
   "source": [
    "count = int(count)\n",
    "count"
   ]
  },
  {
   "cell_type": "markdown",
   "metadata": {},
   "source": [
    "to convert to an integer and, if needed, you could convert it back again with:"
   ]
  },
  {
   "cell_type": "code",
   "execution_count": 31,
   "metadata": {
    "collapsed": false
   },
   "outputs": [
    {
     "data": {
      "text/plain": [
       "'29403'"
      ]
     },
     "execution_count": 31,
     "metadata": {},
     "output_type": "execute_result"
    }
   ],
   "source": [
    "count = str(count)\n",
    "count"
   ]
  },
  {
   "cell_type": "markdown",
   "metadata": {},
   "source": [
    "Now when you add the lines to your program, you have variables containing the site name, the taxonID and the count (which you can now make sure is converted to a proper integer). You can put these into the dictionary of dictionaries like this: "
   ]
  },
  {
   "cell_type": "code",
   "execution_count": 32,
   "metadata": {
    "collapsed": true
   },
   "outputs": [],
   "source": [
    "sites[siteName][taxonID] = count"
   ]
  },
  {
   "cell_type": "markdown",
   "metadata": {},
   "source": [
    "In this statement, `sites[siteName]` refers to the dictionary we created for that site, so we can just append another subscript onto it to get a reference to the data item for this taxon in that site dictionary. Hopefully, that makes some sense. Take a look back at the discussion of nested dictionaries in Worksheet 3 if you need to. Now, finally, all of the data from the file is where we want it."
   ]
  },
  {
   "cell_type": "markdown",
   "metadata": {},
   "source": [
    "#### _Exercise 5.3_"
   ]
  },
  {
   "cell_type": "markdown",
   "metadata": {},
   "source": [
    "Make the changes and make sure your program runs without errors.  We will also need another change, to keep track of the names/IDs of taxa as we encounter them.  At the top of the program, create a new empty list of taxon IDs e.g.,:"
   ]
  },
  {
   "cell_type": "code",
   "execution_count": 33,
   "metadata": {
    "collapsed": true
   },
   "outputs": [],
   "source": [
    "taxa = []"
   ]
  },
  {
   "cell_type": "markdown",
   "metadata": {},
   "source": [
    "Now, when you add a count to the dictionary of dictionaries, check if the taxon ID is in this new list and add it if not (just like you did when merging the shopping lists in Worksheet 2).  We will then have a non-redundant list of taxon names to play with in a minute."
   ]
  },
  {
   "cell_type": "markdown",
   "metadata": {},
   "source": [
    "#### Filling in the Blanks"
   ]
  },
  {
   "cell_type": "markdown",
   "metadata": {},
   "source": [
    "Unfortunately, there is a problem with this data. Some of the taxa were not detected at every one of the sampled sites, so the data for these sites do not include counts associated with those taxa. This means that if we were, say, to plot the data in bar charts, some would have fewer bars than others or the bars would be in different positions, rather than just having a gap (or zero-height bar) where the taxon wasn’t found. What you need to do to avoid this is create new entries with counts of zero for the missing taxa at each site. "
   ]
  },
  {
   "cell_type": "markdown",
   "metadata": {},
   "source": [
    "#### _Exercise 5.4_"
   ]
  },
  {
   "cell_type": "markdown",
   "metadata": {},
   "source": [
    "Put the zero values in the data structure. To do this you will need to loop through the sites, and for each site, loop through the IDs in the full, non-redundant taxon list and if a taxon ID is not in the keys of the dictionary for the site, add it with an associated count of zero. Then you will need to check your program is working correctly. A good way to do that is described in the next section."
   ]
  },
  {
   "cell_type": "markdown",
   "metadata": {},
   "source": [
    "#### Formatting Data Structures"
   ]
  },
  {
   "cell_type": "markdown",
   "metadata": {},
   "source": [
    "When you are building up data structures like this, they can get very complex and it’s difficult to keep track and be sure that you are putting everything in the right place. Fortunately, there is a Python module (part of the standard library), which lets you print out the data in a comprehensible way. Of course, you could just print the entire data structure in one statement and this works, but it can be hard to read - there is no formatting at all - and it often doesn’t really help.  The `pprint` module formats the data in a hierarchical way, making it easier to understand. At the top of your program, you need to import the `pprint` module with:"
   ]
  },
  {
   "cell_type": "code",
   "execution_count": 34,
   "metadata": {
    "collapsed": true
   },
   "outputs": [],
   "source": [
    "import pprint"
   ]
  },
  {
   "cell_type": "markdown",
   "metadata": {},
   "source": [
    "You then create a formatter that will do the work for you with:"
   ]
  },
  {
   "cell_type": "code",
   "execution_count": 35,
   "metadata": {
    "collapsed": true
   },
   "outputs": [],
   "source": [
    "pp = pprint.PrettyPrinter(indent=4)"
   ]
  },
  {
   "cell_type": "markdown",
   "metadata": {},
   "source": [
    "Now, when you want to check a data structure, you can just do the following and get a nice readable printout of your data structure:"
   ]
  },
  {
   "cell_type": "code",
   "execution_count": 56,
   "metadata": {
    "collapsed": false
   },
   "outputs": [
    {
     "name": "stdout",
     "output_type": "stream",
     "text": [
      "{   'Bioscience Technology': 16,\n",
      "    'Computational Biology': 12,\n",
      "    'Ecology and Environmental Management': 3,\n",
      "    'Maths in the Living Environment': 0,\n",
      "    'Post-Genomic Biology': 20}\n"
     ]
    }
   ],
   "source": [
    "# this is the dictionary from Worksheet 2\n",
    "studentNumbers = { 'Bioscience Technology': 16, \n",
    "                   'Computational Biology': 12,\n",
    "                   'Post-Genomic Biology': 20,\n",
    "                   'Ecology and Environmental Management': 3,\n",
    "                   'Maths in the Living Environment': 0\n",
    "                 }\n",
    "variable = studentNumbers \n",
    "pp.pprint(variable)"
   ]
  },
  {
   "cell_type": "markdown",
   "metadata": {},
   "source": [
    "Compare this output to the way that the same dictionary is displayed by the default `print` function:"
   ]
  },
  {
   "cell_type": "code",
   "execution_count": 58,
   "metadata": {
    "collapsed": false
   },
   "outputs": [
    {
     "name": "stdout",
     "output_type": "stream",
     "text": [
      "{'Computational Biology': 12, 'Maths in the Living Environment': 0, 'Post-Genomic Biology': 20, 'Ecology and Environmental Management': 3, 'Bioscience Technology': 16}\n"
     ]
    }
   ],
   "source": [
    "print(studentNumbers)"
   ]
  },
  {
   "cell_type": "markdown",
   "metadata": {},
   "source": [
    "I hope you'll agree that the `pprint` version is much easier to interpret by eye."
   ]
  },
  {
   "cell_type": "markdown",
   "metadata": {},
   "source": [
    "#### _Exercise 5.5_"
   ]
  },
  {
   "cell_type": "markdown",
   "metadata": {},
   "source": [
    "Use the `pprint` module to dump out the contents of you data structure and check that the data corresponds with what you thought it should look like."
   ]
  },
  {
   "cell_type": "markdown",
   "metadata": {},
   "source": [
    "#### Plotting Data"
   ]
  },
  {
   "cell_type": "markdown",
   "metadata": {},
   "source": [
    "There are a number of options available for plotting data in Python. For many years the standard approach was to use a library called `pyplot` from the module `matplotlib`, which closely resembles the plotting interface of the mathematical programming language _MatLab_. "
   ]
  },
  {
   "cell_type": "markdown",
   "metadata": {},
   "source": [
    "To start plotting the data, you will need to use a couple of new modules installed which don’t come with the standard installation of Python. The first is `numpy`, which defines a new array data type which you can use in ways that will be familiar if you use _R_ or _MATLAB_ and is really just there because the second, `matplotlib`, relies heavily on it. `matplotlib` gives a whole range of graph plotting functions again similar to the facilities in _MATLAB_. We won’t use `numpy` directly, but I encourage you to play with `matplotlib`, and in particular the `pyplot` parts of it."
   ]
  },
  {
   "cell_type": "markdown",
   "metadata": {},
   "source": [
    "If you're using the Anaconda distribution of Python, then you already have all of the modules that are needed for the course. If not, then you might need to install the modules before you can follow the rest of the material. A quick guide to installing these is given below."
   ]
  },
  {
   "cell_type": "markdown",
   "metadata": {},
   "source": [
    "A couple of notes before we begin:   \n",
    "\n",
    "- __If you are using the Anaconda Python distribution you don't need to follow the next few steps!__ \n",
    "- To install modules, you will need to have administrator priviledges for the computer that you're working on. \n",
    "- If at any point you are unsure about how to follow these instructions, you should ask for help.  \n",
    "\n",
    "First of all, you should make sure that you have `pip` installed. To do this, you need to open a terminal/command prompt (_not the Python shell_) on your system (Applications -> Terminal on Mac) and type"
   ]
  },
  {
   "cell_type": "markdown",
   "metadata": {},
   "source": [
    "```Bash\n",
    "pip help\n",
    "```"
   ]
  },
  {
   "cell_type": "markdown",
   "metadata": {},
   "source": [
    "If you have `pip` installed, you should see some helpful output listing all the available options for running the package manager. If not, you will get an (equally helpful) error message. To install `pip` go [here](https://pip.pypa.io/en/stable/installing/) and follow the instructions."
   ]
  },
  {
   "cell_type": "markdown",
   "metadata": {},
   "source": [
    "To install the modules that we need with `pip`, you simply have to run the commands"
   ]
  },
  {
   "cell_type": "markdown",
   "metadata": {},
   "source": [
    "```Bash\n",
    "pip install numpy\n",
    "pip install matplotlib\n",
    "pip install bokeh\n",
    "```"
   ]
  },
  {
   "cell_type": "markdown",
   "metadata": {},
   "source": [
    "at the command line and respond to any prompts from the package manager. That’s it. (If you are working on a different operating system and/or distribution, ask for help and we will find a way for you to install the packages that you need.) Now you can return to the Python shell and type:"
   ]
  },
  {
   "cell_type": "code",
   "execution_count": 38,
   "metadata": {
    "collapsed": true
   },
   "outputs": [],
   "source": [
    "import numpy as np\n",
    "from matplotlib import pyplot as plt"
   ]
  },
  {
   "cell_type": "markdown",
   "metadata": {},
   "source": [
    "These statements make the functions, variables and classes of the two modules available to your program, but keep them at arms length, in their own 'namespaces'. This is to make sure that none of the names they use clash with anything in your program. It does mean that you have to type the prefix `np.` or `plt.` when you need to call them, but that’s not much of a price to pay for the safety that namespaces give you. If you are feeling reckless, you could, for example, have typed"
   ]
  },
  {
   "cell_type": "markdown",
   "metadata": {},
   "source": [
    "`from numpy import *`"
   ]
  },
  {
   "cell_type": "markdown",
   "metadata": {},
   "source": [
    "and then you wouldn’t have to deal with the prefix. This might seem like a good idea, but in fact it is quite risky. Our advice is not to do that. _Ever._ One day it will trip you up and it will take weeks to find out exactly what you have done wrong. Not that I’m talking from experience, or anything..."
   ]
  },
  {
   "cell_type": "markdown",
   "metadata": {},
   "source": [
    "Anyway, we now have the modules loaded and ready to go, so we can get on with trying to plot a bar chart of our data.  We will generate some fairly pretty plots. `pyplot` is a bit unusual as a Python module, because it doesn’t define objects and methods for you, it’s just a set of function calls. Normally, you might expect to create a figure object, then use it’s methods, to e.g., add data or change the layout. However, `pyplot` just remembers what you are doing and performs on the last figure or subplot that you used. This type of interface is called “stateful”. If you really don’t like working this way, there is an object interface as well, but the documentation isn’t quite as good for it. "
   ]
  },
  {
   "cell_type": "markdown",
   "metadata": {},
   "source": [
    "In our case, though, we want to start by creating a new figure (this is actually optional, but good practice - remember Python says “Explicit is better that implicit”)."
   ]
  },
  {
   "cell_type": "code",
   "execution_count": 39,
   "metadata": {
    "collapsed": false
   },
   "outputs": [
    {
     "data": {
      "text/plain": [
       "<matplotlib.figure.Figure at 0x10f0d5438>"
      ]
     },
     "execution_count": 39,
     "metadata": {},
     "output_type": "execute_result"
    },
    {
     "data": {
      "text/plain": [
       "<matplotlib.figure.Figure at 0x10f0d5438>"
      ]
     },
     "metadata": {},
     "output_type": "display_data"
    }
   ],
   "source": [
    "plt.figure(1)"
   ]
  },
  {
   "cell_type": "markdown",
   "metadata": {},
   "source": [
    "As soon as you executed this line, a new window might have appeared (it depends on your operating system) and this is where the figure will be drawn. Don’t worry if the window didn’t appear at this stage - it should show up when you’re done building the figure instead. Inline plotting is switched on in the IPython Notebook, so as we add things to the plot, you will see them appear below. The number argument to `plt.figure` is just a reference and lets you switch back to this figure later if you need to. The next step is to create a subplot. This is mostly used for figures with multiple panels, where each panel is a subplot. In this case, we’ll just do one for now, so we can just type one of the following statements:"
   ]
  },
  {
   "cell_type": "code",
   "execution_count": 40,
   "metadata": {
    "collapsed": false
   },
   "outputs": [
    {
     "data": {
      "text/plain": [
       "<matplotlib.axes._subplots.AxesSubplot at 0x10f007320>"
      ]
     },
     "execution_count": 40,
     "metadata": {},
     "output_type": "execute_result"
    },
    {
     "data": {
      "image/png": "[encoded data removed]",
      "text/plain": [
       "<matplotlib.figure.Figure at 0x10cb3e828>"
      ]
     },
     "metadata": {},
     "output_type": "display_data"
    }
   ],
   "source": [
    "plt.subplot(1,1,1)"
   ]
  },
  {
   "cell_type": "markdown",
   "metadata": {},
   "source": [
    "or"
   ]
  },
  {
   "cell_type": "code",
   "execution_count": 41,
   "metadata": {
    "collapsed": false
   },
   "outputs": [
    {
     "data": {
      "text/plain": [
       "<matplotlib.axes._subplots.AxesSubplot at 0x10f0ee9e8>"
      ]
     },
     "execution_count": 41,
     "metadata": {},
     "output_type": "execute_result"
    },
    {
     "data": {
      "image/png": "[encoded data removed]",
      "text/plain": [
       "<matplotlib.figure.Figure at 0x10f0f6c50>"
      ]
     },
     "metadata": {},
     "output_type": "display_data"
    }
   ],
   "source": [
    "plt.subplot(111)"
   ]
  },
  {
   "cell_type": "markdown",
   "metadata": {},
   "source": [
    "These are again optional if you only have one panel in your figure, but again it’s generally better to be explicit. The arguments for the second form are (rows, columns, subfig), specifying the number of rows of panels, the number of columns and which one you want to draw now (which is in the range 1 - rows\\*colums). So if you have twelve panels and you wanted to select the seventh, you would use one of"
   ]
  },
  {
   "cell_type": "code",
   "execution_count": 42,
   "metadata": {
    "collapsed": false
   },
   "outputs": [
    {
     "data": {
      "text/plain": [
       "<matplotlib.axes._subplots.AxesSubplot at 0x10f098b38>"
      ]
     },
     "execution_count": 42,
     "metadata": {},
     "output_type": "execute_result"
    },
    {
     "data": {
      "image/png": "[encoded data removed]",
      "text/plain": [
       "<matplotlib.figure.Figure at 0x10f093358>"
      ]
     },
     "metadata": {},
     "output_type": "display_data"
    }
   ],
   "source": [
    "plt.subplot(3,4,7)"
   ]
  },
  {
   "cell_type": "markdown",
   "metadata": {},
   "source": [
    "or"
   ]
  },
  {
   "cell_type": "code",
   "execution_count": 43,
   "metadata": {
    "collapsed": false
   },
   "outputs": [
    {
     "data": {
      "text/plain": [
       "<matplotlib.axes._subplots.AxesSubplot at 0x10f410f28>"
      ]
     },
     "execution_count": 43,
     "metadata": {},
     "output_type": "execute_result"
    },
    {
     "data": {
      "image/png": "[encoded data removed]",
      "text/plain": [
       "<matplotlib.figure.Figure at 0x10f40c240>"
      ]
     },
     "metadata": {},
     "output_type": "display_data"
    }
   ],
   "source": [
    "plt.subplot(4,3,7)"
   ]
  },
  {
   "cell_type": "markdown",
   "metadata": {},
   "source": [
    "depending on how many rows and columns you used. Subfigures/subplots are numbered as if read like text: left-right and top-bottom. If rows\\*columns is less than 10, you can use the top form without the commas e.g. `(321)` instead of `(3,2,1)`, but you might consider this to be less explicit."
   ]
  },
  {
   "cell_type": "markdown",
   "metadata": {},
   "source": [
    "#### Simple matplotlib plots"
   ]
  },
  {
   "cell_type": "markdown",
   "metadata": {},
   "source": [
    "Now, we can make up some data and plot it as a bar chart. The first thing is to create a list containing the heights of some bars, for which we can use:"
   ]
  },
  {
   "cell_type": "code",
   "execution_count": 44,
   "metadata": {
    "collapsed": true
   },
   "outputs": [],
   "source": [
    "barHeights = range(20,0,-1)"
   ]
  },
  {
   "cell_type": "markdown",
   "metadata": {},
   "source": [
    "We also need to specify where each of the bars will be drawn. This is the x-coordinate of the bottom left corner of the bar. For this we will use:"
   ]
  },
  {
   "cell_type": "code",
   "execution_count": 45,
   "metadata": {
    "collapsed": true
   },
   "outputs": [],
   "source": [
    "positions = range(20)"
   ]
  },
  {
   "cell_type": "markdown",
   "metadata": {},
   "source": [
    "Now we can draw the bar itself with"
   ]
  },
  {
   "cell_type": "code",
   "execution_count": 46,
   "metadata": {
    "collapsed": false
   },
   "outputs": [
    {
     "data": {
      "text/plain": [
       "<Container object of 20 artists>"
      ]
     },
     "execution_count": 46,
     "metadata": {},
     "output_type": "execute_result"
    },
    {
     "data": {
      "image/png": "[encoded data removed]",
      "text/plain": [
       "<matplotlib.figure.Figure at 0x10f53c390>"
      ]
     },
     "metadata": {},
     "output_type": "display_data"
    }
   ],
   "source": [
    "plt.bar(positions, barHeights)"
   ]
  },
  {
   "cell_type": "code",
   "execution_count": 47,
   "metadata": {
    "collapsed": true
   },
   "outputs": [],
   "source": [
    "plt.show() # you might need to run this line for your plot to appear"
   ]
  },
  {
   "cell_type": "markdown",
   "metadata": {},
   "source": [
    "and the chart should appear in the window. You will notice that the figure has rescaled to fit the data and the axes are just labelled with numbers. There are lots of ways to tweak the figures, such as the `plt.xlabel()` and `plt.ylabel()` methods, which put titles on the axes, or `plt.title()`, which puts a title on the plot."
   ]
  },
  {
   "cell_type": "markdown",
   "metadata": {},
   "source": [
    "Of course, what we really want to do is plot the data from our file of sites and taxa. To make it as easy as possible to compare the distributions at the different sites, we want to plot all of the data in a single figure. To help us do this, we are going to define a function to plot the figure, then we can pass the data for each figure into the function, one site at a time. We haven’t done this before, so I will give you the code for the function:"
   ]
  },
  {
   "cell_type": "code",
   "execution_count": 48,
   "metadata": {
    "collapsed": true
   },
   "outputs": [],
   "source": [
    "def doBarChart(heights, labels, title, rows, columns, subplot):\n",
    "    plt.subplot(rows, columns, subplot)\n",
    "    plt.bar(range(len(labels)), heights)\n",
    "    plt.title(title)\n",
    "    plt.xlabel('Taxon')\n",
    "    plt.ylabel('Abundance')\n",
    "    plt.axis([0, len(labels), 0, 25000])\n",
    "    tickPos = []\n",
    "    for pos in range(len(labels)):\n",
    "        tickPos.append(pos+0.4)\n",
    "    plt.xticks(tickPos,labels)"
   ]
  },
  {
   "cell_type": "markdown",
   "metadata": {},
   "source": [
    "This function takes a list of bar heights, a list of labels, a string to use as the title, then the number of rows and columns and the subplot number. First, the function passes these last three to `plt.subplot()` to initialise a new subplot on the figure. It then draws the bar chart, adds the title, labels the axes, and sets the minimum and maximum values for the axes. The last fiddly bit is to create a new list for the labels. By default, when you draw a bar chart, the widths of the bars are 0.8 units. So, we create a new list of positions which are offset by 0.4 units, so that the labels will centred relative to the bars. You can now add this function definition to the top of your program file along with the import statements and you will have everything you need to create the multi-panel figure. "
   ]
  },
  {
   "cell_type": "markdown",
   "metadata": {},
   "source": [
    "#### _Exercise 5.6_"
   ]
  },
  {
   "cell_type": "markdown",
   "metadata": {},
   "source": [
    "Plot all of the data that you read from the file earlier into a single figure of bar plots for each site. This is challenging, but take it bit by bit and you should be able to do it.  \n",
    "* You will need to start by calling `plt.figure(1)`, then start a loop over the sites. \n",
    "* In that loop, you need to \n",
    "  * gather the data for the bar heights (the counts),\n",
    "  * then call the `doBarChart` function, passing in the row heights, labels, the site name as a title and the number of rows, columns and subplot number. \n",
    "* Once you have it working like that, try changing the program so that the sites and taxon IDs are in alphabetical order. \n",
    "* Then use the plot configuration window to tidy up the figure and save it.  \n",
    "\n",
    "You should be able to get it to look as below."
   ]
  },
  {
   "cell_type": "markdown",
   "metadata": {},
   "source": [
    "![](images/exercise5_6example.png)"
   ]
  },
  {
   "cell_type": "markdown",
   "metadata": {},
   "source": [
    "#### Alternatives to matplotlib"
   ]
  },
  {
   "cell_type": "markdown",
   "metadata": {},
   "source": [
    "The `matplotlib` library is very powerful and extremely flexible, and it is still widely used, but I find the interface a little hard to work with and it is often confusing for beginners. Over recent years, the range of options for plotting data in Python has expanded, with several new modules being introduced that make it easy to create many standard types of plot."
   ]
  },
  {
   "cell_type": "markdown",
   "metadata": {},
   "source": [
    "One example is the `bokeh` plotting library, which can be used to create attractive, interactive plots that render in HTML. To provide a comparison of the two approaches, we'll use one of the standard chart-building functions in `bokeh` here to plot the same data as above."
   ]
  },
  {
   "cell_type": "code",
   "execution_count": 49,
   "metadata": {
    "collapsed": false
   },
   "outputs": [],
   "source": [
    "from bokeh.charts import Bar"
   ]
  },
  {
   "cell_type": "markdown",
   "metadata": {},
   "source": [
    "This statement imports only the function `Bar` from the `charts` library of the module `bokeh`. The `charts` library of `bokeh` provides a collection of functions that make it very easy to plot common types of figure - in this case a bar chart. In addition to this function, we will need two more - one to tell Python which file we want to write the HTML output to, and another to tell Python to create the figure. Both of these functions are also available through the `bokeh.charts` library, and we can import them with the same syntax as above."
   ]
  },
  {
   "cell_type": "code",
   "execution_count": 50,
   "metadata": {
    "collapsed": true
   },
   "outputs": [],
   "source": [
    "from bokeh.charts import Bar, output_file, output_notebook, show \n",
    "#This is the same as importing each function on a separate line, but saves us some space"
   ]
  },
  {
   "cell_type": "markdown",
   "metadata": {},
   "source": [
    "#### Simple bokeh Plots"
   ]
  },
  {
   "cell_type": "markdown",
   "metadata": {},
   "source": [
    "Ok, we now have `bokeh` loaded and ready to go, and we can get on with trying to plot a series of bar charts of our data. In the end, we will generate some fairly pretty plots, one for each site where data was collected. Each individual bar chart will be created with the `Bar` function that we have just imported. This function has a lot of options that control the appearance of the chart that is produced, but at its simplest it requires only a dictionary object containing the data to be plotted:"
   ]
  },
  {
   "cell_type": "code",
   "execution_count": 51,
   "metadata": {
    "collapsed": false
   },
   "outputs": [],
   "source": [
    "data = dict(x=list(range(0,21)), y=list(range(0,21)))\n",
    "myFirstPlot = Bar(data, 'x', 'y')"
   ]
  },
  {
   "cell_type": "markdown",
   "metadata": {},
   "source": [
    "To view this figure, we need to use the other two functions that we imported. I will use `output_notebook()` here, to render the plot directly into the Jupyter Notebook that these course materials are written in."
   ]
  },
  {
   "cell_type": "code",
   "execution_count": 52,
   "metadata": {
    "collapsed": false
   },
   "outputs": [
    {
     "data": {
      "text/html": [
       "\n",
       "    <div class=\"bk-banner\">\n",
       "        <a href=\"http://bokeh.pydata.org\" target=\"_blank\" class=\"bk-logo bk-logo-small bk-logo-notebook\"></a>\n",
       "        <span id=\"c66edfd6-8673-4472-adfe-35f3e05b57b3\">Loading BokehJS ...</span>\n",
       "    </div>"
      ]
     },
     "metadata": {},
     "output_type": "display_data"
    },
    {
     "data": {
      "application/javascript": [
       "\n",
       "(function(global) {\n",
       "  function now() {\n",
       "    return new Date();\n",
       "  }\n",
       "\n",
       "  if (typeof (window._bokeh_onload_callbacks) === \"undefined\") {\n",
       "    window._bokeh_onload_callbacks = [];\n",
       "  }\n",
       "\n",
       "  function run_callbacks() {\n",
       "    window._bokeh_onload_callbacks.forEach(function(callback) { callback() });\n",
       "    delete window._bokeh_onload_callbacks\n",
       "    console.info(\"Bokeh: all callbacks have finished\");\n",
       "  }\n",
       "\n",
       "  function load_libs(js_urls, callback) {\n",
       "    window._bokeh_onload_callbacks.push(callback);\n",
       "    if (window._bokeh_is_loading > 0) {\n",
       "      console.log(\"Bokeh: BokehJS is being loaded, scheduling callback at\", now());\n",
       "      return null;\n",
       "    }\n",
       "    if (js_urls == null || js_urls.length === 0) {\n",
       "      run_callbacks();\n",
       "      return null;\n",
       "    }\n",
       "    console.log(\"Bokeh: BokehJS not loaded, scheduling load and callback at\", now());\n",
       "    window._bokeh_is_loading = js_urls.length;\n",
       "    for (var i = 0; i < js_urls.length; i++) {\n",
       "      var url = js_urls[i];\n",
       "      var s = document.createElement('script');\n",
       "      s.src = url;\n",
       "      s.async = false;\n",
       "      s.onreadystatechange = s.onload = function() {\n",
       "        window._bokeh_is_loading--;\n",
       "        if (window._bokeh_is_loading === 0) {\n",
       "          console.log(\"Bokeh: all BokehJS libraries loaded\");\n",
       "          run_callbacks()\n",
       "        }\n",
       "      };\n",
       "      s.onerror = function() {\n",
       "        console.warn(\"failed to load library \" + url);\n",
       "      };\n",
       "      console.log(\"Bokeh: injecting script tag for BokehJS library: \", url);\n",
       "      document.getElementsByTagName(\"head\")[0].appendChild(s);\n",
       "    }\n",
       "  };\n",
       "\n",
       "  var js_urls = ['https://cdn.pydata.org/bokeh/release/bokeh-0.11.1.min.js', 'https://cdn.pydata.org/bokeh/release/bokeh-widgets-0.11.1.min.js', 'https://cdn.pydata.org/bokeh/release/bokeh-compiler-0.11.1.min.js'];\n",
       "\n",
       "  var inline_js = [\n",
       "    function(Bokeh) {\n",
       "      Bokeh.set_log_level(\"info\");\n",
       "    },\n",
       "    \n",
       "    function(Bokeh) {\n",
       "      Bokeh.$(\"#c66edfd6-8673-4472-adfe-35f3e05b57b3\").text(\"BokehJS successfully loaded\");\n",
       "    },\n",
       "    function(Bokeh) {\n",
       "      console.log(\"Bokeh: injecting CSS: https://cdn.pydata.org/bokeh/release/bokeh-0.11.1.min.css\");\n",
       "      Bokeh.embed.inject_css(\"https://cdn.pydata.org/bokeh/release/bokeh-0.11.1.min.css\");\n",
       "      console.log(\"Bokeh: injecting CSS: https://cdn.pydata.org/bokeh/release/bokeh-widgets-0.11.1.min.css\");\n",
       "      Bokeh.embed.inject_css(\"https://cdn.pydata.org/bokeh/release/bokeh-widgets-0.11.1.min.css\");\n",
       "    }\n",
       "  ];\n",
       "\n",
       "  function run_inline_js() {\n",
       "    for (var i = 0; i < inline_js.length; i++) {\n",
       "      inline_js[i](window.Bokeh);\n",
       "    }\n",
       "  }\n",
       "\n",
       "  if (window._bokeh_is_loading === 0) {\n",
       "    console.log(\"Bokeh: BokehJS loaded, going straight to plotting\");\n",
       "    run_inline_js();\n",
       "  } else {\n",
       "    load_libs(js_urls, function() {\n",
       "      console.log(\"Bokeh: BokehJS plotting callback run at\", now());\n",
       "      run_inline_js();\n",
       "    });\n",
       "  }\n",
       "}(this));"
      ]
     },
     "metadata": {},
     "output_type": "display_data"
    }
   ],
   "source": [
    "output_notebook()"
   ]
  },
  {
   "cell_type": "markdown",
   "metadata": {},
   "source": [
    "If you are working within the Python/IPython shell, you should use `output_file()`, a function that specifies the name of the file to which the figure is written."
   ]
  },
  {
   "cell_type": "markdown",
   "metadata": {
    "collapsed": true
   },
   "source": [
    "```Python\n",
    "output_file('myFirstPlot.html') # call the file whatever you like, but you should use a .html extension\n",
    "```"
   ]
  },
  {
   "cell_type": "markdown",
   "metadata": {},
   "source": [
    "And `show()` is used to tell Python that you are done creating the plot and want to output it:"
   ]
  },
  {
   "cell_type": "code",
   "execution_count": 53,
   "metadata": {
    "collapsed": false
   },
   "outputs": [
    {
     "data": {
      "text/html": [
       "\n",
       "\n",
       "    <div class=\"plotdiv\" id=\"19af210a-01bf-4351-bbf5-1997e78c121a\"></div>\n",
       "<script type=\"text/javascript\">\n",
       "  \n",
       "  (function(global) {\n",
       "    function now() {\n",
       "      return new Date();\n",
       "    }\n",
       "  \n",
       "    if (typeof (window._bokeh_onload_callbacks) === \"undefined\") {\n",
       "      window._bokeh_onload_callbacks = [];\n",
       "    }\n",
       "  \n",
       "    function run_callbacks() {\n",
       "      window._bokeh_onload_callbacks.forEach(function(callback) { callback() });\n",
       "      delete window._bokeh_onload_callbacks\n",
       "      console.info(\"Bokeh: all callbacks have finished\");\n",
       "    }\n",
       "  \n",
       "    function load_libs(js_urls, callback) {\n",
       "      window._bokeh_onload_callbacks.push(callback);\n",
       "      if (window._bokeh_is_loading > 0) {\n",
       "        console.log(\"Bokeh: BokehJS is being loaded, scheduling callback at\", now());\n",
       "        return null;\n",
       "      }\n",
       "      if (js_urls == null || js_urls.length === 0) {\n",
       "        run_callbacks();\n",
       "        return null;\n",
       "      }\n",
       "      console.log(\"Bokeh: BokehJS not loaded, scheduling load and callback at\", now());\n",
       "      window._bokeh_is_loading = js_urls.length;\n",
       "      for (var i = 0; i < js_urls.length; i++) {\n",
       "        var url = js_urls[i];\n",
       "        var s = document.createElement('script');\n",
       "        s.src = url;\n",
       "        s.async = false;\n",
       "        s.onreadystatechange = s.onload = function() {\n",
       "          window._bokeh_is_loading--;\n",
       "          if (window._bokeh_is_loading === 0) {\n",
       "            console.log(\"Bokeh: all BokehJS libraries loaded\");\n",
       "            run_callbacks()\n",
       "          }\n",
       "        };\n",
       "        s.onerror = function() {\n",
       "          console.warn(\"failed to load library \" + url);\n",
       "        };\n",
       "        console.log(\"Bokeh: injecting script tag for BokehJS library: \", url);\n",
       "        document.getElementsByTagName(\"head\")[0].appendChild(s);\n",
       "      }\n",
       "    };var element = document.getElementById(\"19af210a-01bf-4351-bbf5-1997e78c121a\");\n",
       "    if (element == null) {\n",
       "      console.log(\"Bokeh: ERROR: autoload.js configured with elementid '19af210a-01bf-4351-bbf5-1997e78c121a' but no matching script tag was found. \")\n",
       "      return false;\n",
       "    }\n",
       "  \n",
       "    var js_urls = [];\n",
       "  \n",
       "    var inline_js = [\n",
       "      function(Bokeh) {\n",
       "        Bokeh.$(function() {\n",
       "            var docs_json = {\"ceac6329-873c-4533-bc59-e6311d694bce\":{\"roots\":{\"references\":[{\"attributes\":{\"plot\":{\"id\":\"d00f583e-b9f2-4ea2-8d62-d58576f93a49\",\"subtype\":\"Chart\",\"type\":\"Plot\"},\"ticker\":{\"id\":\"e4b244ab-866c-4273-9276-da537c289fcf\",\"type\":\"BasicTicker\"}},\"id\":\"cd7aab10-d428-4fc6-a182-173d472605ee\",\"type\":\"Grid\"},{\"attributes\":{\"callback\":null,\"column_names\":[\"color\",\"line_color\",\"height\",\"width\",\"x\",\"fill_alpha\",\"y\",\"line_alpha\"],\"data\":{\"chart_index\":[{\"x\":0}],\"color\":[\"#f22c40\"],\"fill_alpha\":[0.8],\"height\":[0.0],\"line_alpha\":[1.0],\"line_color\":[\"white\"],\"width\":[0.8],\"x\":[0],\"y\":[0.0]}},\"id\":\"304b60f6-200b-4f5d-85f6-9f753cd047d8\",\"type\":\"ColumnDataSource\"},{\"attributes\":{\"fill_alpha\":{\"field\":\"fill_alpha\"},\"fill_color\":{\"field\":\"color\"},\"height\":{\"field\":\"height\",\"units\":\"data\"},\"line_color\":{\"field\":\"line_color\"},\"width\":{\"field\":\"width\",\"units\":\"data\"},\"x\":{\"field\":\"x\"},\"y\":{\"field\":\"y\"}},\"id\":\"6ee96cd7-8548-4d5c-869f-151f7f27b99e\",\"type\":\"Rect\"},{\"attributes\":{\"fill_alpha\":{\"field\":\"fill_alpha\"},\"fill_color\":{\"field\":\"color\"},\"height\":{\"field\":\"height\",\"units\":\"data\"},\"line_color\":{\"field\":\"line_color\"},\"width\":{\"field\":\"width\",\"units\":\"data\"},\"x\":{\"field\":\"x\"},\"y\":{\"field\":\"y\"}},\"id\":\"5d32e0e9-7e77-4738-9369-552b4a2d8304\",\"type\":\"Rect\"},{\"attributes\":{\"data_source\":{\"id\":\"3b08dd2b-6e21-47bb-bfee-7f1ec1bb65aa\",\"type\":\"ColumnDataSource\"},\"glyph\":{\"id\":\"3e4f3f67-cc3a-45a5-b088-6cfba592c415\",\"type\":\"Rect\"},\"hover_glyph\":null,\"nonselection_glyph\":null,\"selection_glyph\":null},\"id\":\"2f81a9e3-665f-473c-b22f-efdb366ae602\",\"type\":\"GlyphRenderer\"},{\"attributes\":{\"overlay\":{\"id\":\"75cddb07-ea16-436a-b3d4-c5392398edad\",\"type\":\"BoxAnnotation\"},\"plot\":{\"id\":\"9df36f1c-b1e5-47cf-bd02-8ca67964d13e\",\"subtype\":\"Chart\",\"type\":\"Plot\"}},\"id\":\"5ba23349-2c23-43cf-b65a-9a854631b3f9\",\"type\":\"BoxZoomTool\"},{\"attributes\":{\"fill_alpha\":{\"field\":\"fill_alpha\"},\"fill_color\":{\"field\":\"color\"},\"height\":{\"field\":\"height\",\"units\":\"data\"},\"line_color\":{\"field\":\"line_color\"},\"width\":{\"field\":\"width\",\"units\":\"data\"},\"x\":{\"field\":\"x\"},\"y\":{\"field\":\"y\"}},\"id\":\"ee1f21e6-d8d6-4c47-8f10-0a21b5e25777\",\"type\":\"Rect\"},{\"attributes\":{\"callback\":null,\"column_names\":[\"color\",\"line_color\",\"height\",\"width\",\"x\",\"fill_alpha\",\"y\",\"line_alpha\"],\"data\":{\"chart_index\":[{\"x\":4}],\"color\":[\"#f22c40\"],\"fill_alpha\":[0.8],\"height\":[4.0],\"line_alpha\":[1.0],\"line_color\":[\"white\"],\"width\":[0.8],\"x\":[4],\"y\":[2.0]}},\"id\":\"aa1f5f78-c659-41fe-8c04-7ad03d88aedc\",\"type\":\"ColumnDataSource\"},{\"attributes\":{\"data_source\":{\"id\":\"6c68f6be-703b-4ab7-b3c4-238da45dcb7b\",\"type\":\"ColumnDataSource\"},\"glyph\":{\"id\":\"12bedaba-67ee-4837-b743-a3d8929f380a\",\"type\":\"Rect\"},\"hover_glyph\":null,\"nonselection_glyph\":null,\"selection_glyph\":null},\"id\":\"13ef54eb-ed55-4498-af51-444b535d1f63\",\"type\":\"GlyphRenderer\"},{\"attributes\":{\"callback\":null,\"column_names\":[\"y_values\",\"x_values\"],\"data\":{\"S\":[\"A\",\"A\",\"A\",\"A\",\"A\",\"A\",\"A\",\"A\"],\"chart_index\":[{\"S\":\"A\"},{\"S\":\"A\"},{\"S\":\"A\"},{\"S\":\"A\"},{\"S\":\"A\"},{\"S\":\"A\"},{\"S\":\"A\"},{\"S\":\"A\"}],\"x_values\":[0,1,2,3,4,5,6,7],\"y_values\":[1,2,1,2,1,2,1,2]}},\"id\":\"b04f3801-0df8-476c-ba67-eafc4cf51fcb\",\"type\":\"ColumnDataSource\"},{\"attributes\":{\"below\":[{\"id\":\"b8c6305a-e2d9-4d16-b06b-13c41ba6e864\",\"type\":\"LinearAxis\"}],\"left\":[{\"id\":\"390037a3-6d70-4538-8554-dd0043328c18\",\"type\":\"LinearAxis\"}],\"legend\":\"top_right\",\"renderers\":[{\"id\":\"f0b7307f-a416-4c84-995f-39dd365779c2\",\"type\":\"BoxAnnotation\"},{\"id\":\"5ffa71e1-ea90-45b2-8e45-f322bc4aa4d7\",\"type\":\"GlyphRenderer\"},{\"id\":\"e22916fe-cb80-49e4-a787-63bc95ac383a\",\"type\":\"GlyphRenderer\"},{\"id\":\"0b9e0fe5-3df1-49ae-a5ec-161fc6bcef0b\",\"type\":\"Legend\"},{\"id\":\"b8c6305a-e2d9-4d16-b06b-13c41ba6e864\",\"type\":\"LinearAxis\"},{\"id\":\"390037a3-6d70-4538-8554-dd0043328c18\",\"type\":\"LinearAxis\"},{\"id\":\"cd7aab10-d428-4fc6-a182-173d472605ee\",\"type\":\"Grid\"},{\"id\":\"3ab4fba8-7682-4076-8a77-fefa4ef0600a\",\"type\":\"Grid\"}],\"title_text_font_size\":{\"value\":\"14pt\"},\"tool_events\":{\"id\":\"1a39e375-1faf-421c-8e76-95a4437dda6a\",\"type\":\"ToolEvents\"},\"tools\":[{\"id\":\"7bd09bb0-e246-4333-88b3-367fe021a354\",\"type\":\"PanTool\"},{\"id\":\"d358e4e0-eac5-4456-b2f5-b760f27170bc\",\"type\":\"WheelZoomTool\"},{\"id\":\"487e216f-6752-44aa-998a-603bcc40ce9b\",\"type\":\"BoxZoomTool\"},{\"id\":\"05074aae-925e-410e-81c3-61e58efb8207\",\"type\":\"PreviewSaveTool\"},{\"id\":\"becac1ee-6654-444f-97fb-237f5652159c\",\"type\":\"ResizeTool\"},{\"id\":\"61e6fc16-fdc5-4b0f-8371-91d61d123409\",\"type\":\"ResetTool\"},{\"id\":\"dba8dc55-d135-4029-b8ed-6d06f0d2e575\",\"type\":\"HelpTool\"}],\"x_mapper_type\":\"auto\",\"x_range\":{\"id\":\"ba87dbaa-e25c-4364-b33e-3aba0d954097\",\"type\":\"Range1d\"},\"xscale\":\"auto\",\"y_mapper_type\":\"auto\",\"y_range\":{\"id\":\"395441f7-da7f-4068-b584-fe0115ef2768\",\"type\":\"Range1d\"},\"yscale\":\"auto\"},\"id\":\"d00f583e-b9f2-4ea2-8d62-d58576f93a49\",\"subtype\":\"Chart\",\"type\":\"Plot\"},{\"attributes\":{\"plot\":{\"id\":\"9df36f1c-b1e5-47cf-bd02-8ca67964d13e\",\"subtype\":\"Chart\",\"type\":\"Plot\"}},\"id\":\"b7587747-03e7-446e-91aa-b32d3e697f94\",\"type\":\"WheelZoomTool\"},{\"attributes\":{\"data_source\":{\"id\":\"ca8b1a29-04de-42ef-aeea-82756cd2c7ce\",\"type\":\"ColumnDataSource\"},\"glyph\":{\"id\":\"03f95ed9-d68e-405f-a638-09593aba8173\",\"type\":\"Rect\"},\"hover_glyph\":null,\"nonselection_glyph\":null,\"selection_glyph\":null},\"id\":\"213b4174-fdb5-4a96-aa3c-e9c8c8e849a1\",\"type\":\"GlyphRenderer\"},{\"attributes\":{\"axis_label\":\"X\",\"formatter\":{\"id\":\"85fff5e6-2539-4fcd-ad42-913752fa35fb\",\"type\":\"CategoricalTickFormatter\"},\"major_label_orientation\":0.7853981633974483,\"plot\":{\"id\":\"9df36f1c-b1e5-47cf-bd02-8ca67964d13e\",\"subtype\":\"Chart\",\"type\":\"Plot\"},\"ticker\":{\"id\":\"d230dac1-bfb0-4e27-a941-10969f44e5bb\",\"type\":\"CategoricalTicker\"}},\"id\":\"5adbbf94-962b-4aad-a2f6-1a1c08f1c5e4\",\"type\":\"CategoricalAxis\"},{\"attributes\":{\"fill_alpha\":{\"field\":\"fill_alpha\"},\"fill_color\":{\"field\":\"color\"},\"height\":{\"field\":\"height\",\"units\":\"data\"},\"line_color\":{\"field\":\"line_color\"},\"width\":{\"field\":\"width\",\"units\":\"data\"},\"x\":{\"field\":\"x\"},\"y\":{\"field\":\"y\"}},\"id\":\"63951f4d-891e-47cd-926a-aca0f310b069\",\"type\":\"Rect\"},{\"attributes\":{\"data_source\":{\"id\":\"dcd77144-a3d9-41ed-b087-df20d7bc8209\",\"type\":\"ColumnDataSource\"},\"glyph\":{\"id\":\"d42db55b-0b90-430a-986e-c8f87b328be2\",\"type\":\"Rect\"},\"hover_glyph\":null,\"nonselection_glyph\":null,\"selection_glyph\":null},\"id\":\"a2035ffe-fa59-4f7a-bf63-af8be879dd76\",\"type\":\"GlyphRenderer\"},{\"attributes\":{\"callback\":null,\"column_names\":[\"color\",\"line_color\",\"height\",\"width\",\"x\",\"fill_alpha\",\"y\",\"line_alpha\"],\"data\":{\"chart_index\":[{\"x\":7}],\"color\":[\"#f22c40\"],\"fill_alpha\":[0.8],\"height\":[7.0],\"line_alpha\":[1.0],\"line_color\":[\"white\"],\"width\":[0.8],\"x\":[7],\"y\":[3.5]}},\"id\":\"ca8b1a29-04de-42ef-aeea-82756cd2c7ce\",\"type\":\"ColumnDataSource\"},{\"attributes\":{},\"id\":\"c469359b-d974-498b-86bb-c876474dbffc\",\"type\":\"ToolEvents\"},{\"attributes\":{\"data_source\":{\"id\":\"55581c09-db5c-47b6-bc22-3e2aa2877440\",\"type\":\"ColumnDataSource\"},\"glyph\":{\"id\":\"36612eaa-820e-4dcd-9708-e605297617eb\",\"type\":\"Rect\"},\"hover_glyph\":null,\"nonselection_glyph\":null,\"selection_glyph\":null},\"id\":\"43733469-89d9-413e-9e8f-d3aca22988fb\",\"type\":\"GlyphRenderer\"},{\"attributes\":{\"callback\":null,\"column_names\":[\"color\",\"line_color\",\"height\",\"width\",\"x\",\"fill_alpha\",\"y\",\"line_alpha\"],\"data\":{\"chart_index\":[{\"x\":17}],\"color\":[\"#f22c40\"],\"fill_alpha\":[0.8],\"height\":[17.0],\"line_alpha\":[1.0],\"line_color\":[\"white\"],\"width\":[0.8],\"x\":[17],\"y\":[8.5]}},\"id\":\"fe0580cf-ec03-4206-910b-11e85c58633f\",\"type\":\"ColumnDataSource\"},{\"attributes\":{\"fill_alpha\":{\"field\":\"fill_alpha\"},\"fill_color\":{\"field\":\"color\"},\"height\":{\"field\":\"height\",\"units\":\"data\"},\"line_color\":{\"field\":\"line_color\"},\"width\":{\"field\":\"width\",\"units\":\"data\"},\"x\":{\"field\":\"x\"},\"y\":{\"field\":\"y\"}},\"id\":\"ec795310-ef3b-4db9-83de-5fd21aa94997\",\"type\":\"Rect\"},{\"attributes\":{\"plot\":{\"id\":\"d00f583e-b9f2-4ea2-8d62-d58576f93a49\",\"subtype\":\"Chart\",\"type\":\"Plot\"}},\"id\":\"d358e4e0-eac5-4456-b2f5-b760f27170bc\",\"type\":\"WheelZoomTool\"},{\"attributes\":{\"data_source\":{\"id\":\"1555b0b1-ce2d-438d-a0bc-364b7a4c2c95\",\"type\":\"ColumnDataSource\"},\"glyph\":{\"id\":\"6e5be99a-0db5-46a5-b2c5-68662ac11a1f\",\"type\":\"Rect\"},\"hover_glyph\":null,\"nonselection_glyph\":null,\"selection_glyph\":null},\"id\":\"4c929d98-badf-4a57-a805-e9022e0e081d\",\"type\":\"GlyphRenderer\"},{\"attributes\":{\"callback\":null,\"column_names\":[\"color\",\"line_color\",\"height\",\"width\",\"x\",\"fill_alpha\",\"y\",\"line_alpha\"],\"data\":{\"chart_index\":[{\"x\":20}],\"color\":[\"#f22c40\"],\"fill_alpha\":[0.8],\"height\":[20.0],\"line_alpha\":[1.0],\"line_color\":[\"white\"],\"width\":[0.8],\"x\":[20],\"y\":[10.0]}},\"id\":\"ea4b7cd8-f0e9-41f9-aac7-a8466c236884\",\"type\":\"ColumnDataSource\"},{\"attributes\":{\"data_source\":{\"id\":\"91292b1e-5743-4054-8171-d86cead42835\",\"type\":\"ColumnDataSource\"},\"glyph\":{\"id\":\"514d8717-a898-4274-9c87-6a208580b287\",\"type\":\"Rect\"},\"hover_glyph\":null,\"nonselection_glyph\":null,\"selection_glyph\":null},\"id\":\"46cfe634-b415-47e2-be2b-98c37e11d866\",\"type\":\"GlyphRenderer\"},{\"attributes\":{\"fill_alpha\":{\"field\":\"fill_alpha\"},\"fill_color\":{\"field\":\"color\"},\"height\":{\"field\":\"height\",\"units\":\"data\"},\"line_color\":{\"field\":\"line_color\"},\"width\":{\"field\":\"width\",\"units\":\"data\"},\"x\":{\"field\":\"x\"},\"y\":{\"field\":\"y\"}},\"id\":\"d4d94cf2-edfd-47f9-b3c3-a07394271d87\",\"type\":\"Rect\"},{\"attributes\":{\"callback\":null,\"column_names\":[\"color\",\"line_color\",\"height\",\"width\",\"x\",\"fill_alpha\",\"y\",\"line_alpha\"],\"data\":{\"chart_index\":[{\"x\":15}],\"color\":[\"#f22c40\"],\"fill_alpha\":[0.8],\"height\":[15.0],\"line_alpha\":[1.0],\"line_color\":[\"white\"],\"width\":[0.8],\"x\":[15],\"y\":[7.5]}},\"id\":\"3b08dd2b-6e21-47bb-bfee-7f1ec1bb65aa\",\"type\":\"ColumnDataSource\"},{\"attributes\":{\"fill_alpha\":{\"field\":\"fill_alpha\"},\"fill_color\":{\"field\":\"color\"},\"height\":{\"field\":\"height\",\"units\":\"data\"},\"line_color\":{\"field\":\"line_color\"},\"width\":{\"field\":\"width\",\"units\":\"data\"},\"x\":{\"field\":\"x\"},\"y\":{\"field\":\"y\"}},\"id\":\"1fa7388c-d142-4e33-aff3-7cc322cfc424\",\"type\":\"Rect\"},{\"attributes\":{\"data_source\":{\"id\":\"4f127b08-c4e7-428d-91e2-89ea132ea611\",\"type\":\"ColumnDataSource\"},\"glyph\":{\"id\":\"1775b1ed-5d8b-42f7-a6b4-ddaa090e5f09\",\"type\":\"Rect\"},\"hover_glyph\":null,\"nonselection_glyph\":null,\"selection_glyph\":null},\"id\":\"d4a354c7-d23c-4345-a42c-c6fc1ec947b2\",\"type\":\"GlyphRenderer\"},{\"attributes\":{},\"id\":\"85fff5e6-2539-4fcd-ad42-913752fa35fb\",\"type\":\"CategoricalTickFormatter\"},{\"attributes\":{\"plot\":{\"id\":\"9df36f1c-b1e5-47cf-bd02-8ca67964d13e\",\"subtype\":\"Chart\",\"type\":\"Plot\"}},\"id\":\"f3fc1ea7-54f8-4993-ab72-4d555591cc1a\",\"type\":\"ResetTool\"},{\"attributes\":{\"fill_alpha\":{\"field\":\"fill_alpha\"},\"fill_color\":{\"field\":\"color\"},\"height\":{\"field\":\"height\",\"units\":\"data\"},\"line_color\":{\"field\":\"line_color\"},\"width\":{\"field\":\"width\",\"units\":\"data\"},\"x\":{\"field\":\"x\"},\"y\":{\"field\":\"y\"}},\"id\":\"03f95ed9-d68e-405f-a638-09593aba8173\",\"type\":\"Rect\"},{\"attributes\":{\"plot\":{\"id\":\"d00f583e-b9f2-4ea2-8d62-d58576f93a49\",\"subtype\":\"Chart\",\"type\":\"Plot\"}},\"id\":\"05074aae-925e-410e-81c3-61e58efb8207\",\"type\":\"PreviewSaveTool\"},{\"attributes\":{\"bottom_units\":\"screen\",\"fill_alpha\":{\"value\":0.5},\"fill_color\":{\"value\":\"lightgrey\"},\"left_units\":\"screen\",\"level\":\"overlay\",\"line_alpha\":{\"value\":1.0},\"line_color\":{\"value\":\"black\"},\"line_dash\":[4,4],\"line_width\":{\"value\":2},\"plot\":null,\"render_mode\":\"css\",\"right_units\":\"screen\",\"top_units\":\"screen\"},\"id\":\"f0b7307f-a416-4c84-995f-39dd365779c2\",\"type\":\"BoxAnnotation\"},{\"attributes\":{\"callback\":null,\"factors\":[\"0\",\"1\",\"2\",\"3\",\"4\",\"5\",\"6\",\"7\",\"8\",\"9\",\"10\",\"11\",\"12\",\"13\",\"14\",\"15\",\"16\",\"17\",\"18\",\"19\",\"20\"]},\"id\":\"0c6c3f1e-de31-47be-929d-11e1fd611810\",\"type\":\"FactorRange\"},{\"attributes\":{\"data_source\":{\"id\":\"ea4b7cd8-f0e9-41f9-aac7-a8466c236884\",\"type\":\"ColumnDataSource\"},\"glyph\":{\"id\":\"5d32e0e9-7e77-4738-9369-552b4a2d8304\",\"type\":\"Rect\"},\"hover_glyph\":null,\"nonselection_glyph\":null,\"selection_glyph\":null},\"id\":\"974eba74-1901-46ae-b3da-8e7c0e3ab51d\",\"type\":\"GlyphRenderer\"},{\"attributes\":{\"callback\":null,\"end\":21.0},\"id\":\"4750cb24-3731-47a0-b53c-1ca4c2118dee\",\"type\":\"Range1d\"},{\"attributes\":{\"fill_alpha\":{\"field\":\"fill_alpha\"},\"fill_color\":{\"field\":\"color\"},\"height\":{\"field\":\"height\",\"units\":\"data\"},\"line_color\":{\"field\":\"line_color\"},\"width\":{\"field\":\"width\",\"units\":\"data\"},\"x\":{\"field\":\"x\"},\"y\":{\"field\":\"y\"}},\"id\":\"514d8717-a898-4274-9c87-6a208580b287\",\"type\":\"Rect\"},{\"attributes\":{\"data_source\":{\"id\":\"aa1f5f78-c659-41fe-8c04-7ad03d88aedc\",\"type\":\"ColumnDataSource\"},\"glyph\":{\"id\":\"63951f4d-891e-47cd-926a-aca0f310b069\",\"type\":\"Rect\"},\"hover_glyph\":null,\"nonselection_glyph\":null,\"selection_glyph\":null},\"id\":\"9877bf72-d45b-46d0-a424-dd52a80b35d5\",\"type\":\"GlyphRenderer\"},{\"attributes\":{\"data_source\":{\"id\":\"eaa25800-a428-4b30-b7fb-26840b65fca6\",\"type\":\"ColumnDataSource\"},\"glyph\":{\"id\":\"4ec46815-52dc-4ac4-82b1-82e9016ccf58\",\"type\":\"Rect\"},\"hover_glyph\":null,\"nonselection_glyph\":null,\"selection_glyph\":null},\"id\":\"f60e39a5-6620-47be-96ce-886e85c4138e\",\"type\":\"GlyphRenderer\"},{\"attributes\":{\"fill_alpha\":{\"field\":\"fill_alpha\"},\"fill_color\":{\"field\":\"color\"},\"height\":{\"field\":\"height\",\"units\":\"data\"},\"line_color\":{\"field\":\"line_color\"},\"width\":{\"field\":\"width\",\"units\":\"data\"},\"x\":{\"field\":\"x\"},\"y\":{\"field\":\"y\"}},\"id\":\"087c8c4d-54f0-4cad-8307-c600b1a71760\",\"type\":\"Rect\"},{\"attributes\":{\"data_source\":{\"id\":\"2673e030-64d0-416d-b4b3-8aedf8bd8b23\",\"type\":\"ColumnDataSource\"},\"glyph\":{\"id\":\"087c8c4d-54f0-4cad-8307-c600b1a71760\",\"type\":\"Rect\"},\"hover_glyph\":null,\"nonselection_glyph\":null,\"selection_glyph\":null},\"id\":\"a3213469-f3f3-4208-89b1-7d13f58f1810\",\"type\":\"GlyphRenderer\"},{\"attributes\":{\"fill_alpha\":{\"field\":\"fill_alpha\"},\"fill_color\":{\"field\":\"color\"},\"height\":{\"field\":\"height\",\"units\":\"data\"},\"line_color\":{\"field\":\"line_color\"},\"width\":{\"field\":\"width\",\"units\":\"data\"},\"x\":{\"field\":\"x\"},\"y\":{\"field\":\"y\"}},\"id\":\"de4dcb13-1604-49c4-8e34-5d7bf9039a9b\",\"type\":\"Rect\"},{\"attributes\":{\"callback\":null,\"column_names\":[\"color\",\"line_color\",\"height\",\"width\",\"x\",\"fill_alpha\",\"y\",\"line_alpha\"],\"data\":{\"chart_index\":[{\"x\":16}],\"color\":[\"#f22c40\"],\"fill_alpha\":[0.8],\"height\":[16.0],\"line_alpha\":[1.0],\"line_color\":[\"white\"],\"width\":[0.8],\"x\":[16],\"y\":[8.0]}},\"id\":\"55581c09-db5c-47b6-bc22-3e2aa2877440\",\"type\":\"ColumnDataSource\"},{\"attributes\":{\"fill_alpha\":{\"field\":\"fill_alpha\"},\"fill_color\":{\"field\":\"color\"},\"height\":{\"field\":\"height\",\"units\":\"data\"},\"line_color\":{\"field\":\"line_color\"},\"width\":{\"field\":\"width\",\"units\":\"data\"},\"x\":{\"field\":\"x\"},\"y\":{\"field\":\"y\"}},\"id\":\"d42db55b-0b90-430a-986e-c8f87b328be2\",\"type\":\"Rect\"},{\"attributes\":{\"fill_alpha\":{\"field\":\"fill_alpha\"},\"fill_color\":{\"field\":\"color\"},\"height\":{\"field\":\"height\",\"units\":\"data\"},\"line_color\":{\"field\":\"line_color\"},\"width\":{\"field\":\"width\",\"units\":\"data\"},\"x\":{\"field\":\"x\"},\"y\":{\"field\":\"y\"}},\"id\":\"8f5db466-c70d-48cd-be45-0c167f411df2\",\"type\":\"Rect\"},{\"attributes\":{\"callback\":null,\"column_names\":[\"color\",\"line_color\",\"height\",\"width\",\"x\",\"fill_alpha\",\"y\",\"line_alpha\"],\"data\":{\"chart_index\":[{\"x\":2}],\"color\":[\"#f22c40\"],\"fill_alpha\":[0.8],\"height\":[2.0],\"line_alpha\":[1.0],\"line_color\":[\"white\"],\"width\":[0.8],\"x\":[2],\"y\":[1.0]}},\"id\":\"b6b86d4b-9cdc-4d87-b9c0-f4596f023cab\",\"type\":\"ColumnDataSource\"},{\"attributes\":{\"fill_alpha\":{\"field\":\"fill_alpha\"},\"fill_color\":{\"field\":\"color\"},\"height\":{\"field\":\"height\",\"units\":\"data\"},\"line_color\":{\"field\":\"line_color\"},\"width\":{\"field\":\"width\",\"units\":\"data\"},\"x\":{\"field\":\"x\"},\"y\":{\"field\":\"y\"}},\"id\":\"1775b1ed-5d8b-42f7-a6b4-ddaa090e5f09\",\"type\":\"Rect\"},{\"attributes\":{\"plot\":{\"id\":\"9df36f1c-b1e5-47cf-bd02-8ca67964d13e\",\"subtype\":\"Chart\",\"type\":\"Plot\"}},\"id\":\"4c0728aa-ba64-4b98-a2cc-fa7b7aaaa780\",\"type\":\"PanTool\"},{\"attributes\":{\"data_source\":{\"id\":\"6570913c-4d6e-4bc7-8535-5f063cc07fd3\",\"type\":\"ColumnDataSource\"},\"glyph\":{\"id\":\"6ee96cd7-8548-4d5c-869f-151f7f27b99e\",\"type\":\"Rect\"},\"hover_glyph\":null,\"nonselection_glyph\":null,\"selection_glyph\":null},\"id\":\"c69b3c81-9fd9-4b4a-b8c5-e1698d637c0c\",\"type\":\"GlyphRenderer\"},{\"attributes\":{\"fill_alpha\":{\"field\":\"fill_alpha\"},\"fill_color\":{\"field\":\"color\"},\"height\":{\"field\":\"height\",\"units\":\"data\"},\"line_color\":{\"field\":\"line_color\"},\"width\":{\"field\":\"width\",\"units\":\"data\"},\"x\":{\"field\":\"x\"},\"y\":{\"field\":\"y\"}},\"id\":\"36612eaa-820e-4dcd-9708-e605297617eb\",\"type\":\"Rect\"},{\"attributes\":{\"data_source\":{\"id\":\"e442a2c2-b8ba-4a67-9cad-30cc104fbcee\",\"type\":\"ColumnDataSource\"},\"glyph\":{\"id\":\"8f5db466-c70d-48cd-be45-0c167f411df2\",\"type\":\"Rect\"},\"hover_glyph\":null,\"nonselection_glyph\":null,\"selection_glyph\":null},\"id\":\"a1789627-add6-4bc4-8d00-1f46b3068165\",\"type\":\"GlyphRenderer\"},{\"attributes\":{\"data_source\":{\"id\":\"b04f3801-0df8-476c-ba67-eafc4cf51fcb\",\"type\":\"ColumnDataSource\"},\"glyph\":{\"id\":\"d6d80308-4d27-446e-b146-bc8ebffe3e7f\",\"type\":\"Circle\"},\"hover_glyph\":null,\"nonselection_glyph\":null,\"selection_glyph\":null},\"id\":\"5ffa71e1-ea90-45b2-8e45-f322bc4aa4d7\",\"type\":\"GlyphRenderer\"},{\"attributes\":{\"data_source\":{\"id\":\"4b2cf064-9cb9-4d25-bdc4-ef87918c4bfb\",\"type\":\"ColumnDataSource\"},\"glyph\":{\"id\":\"64b84739-f21e-4a53-95b7-492f1be92bf0\",\"type\":\"Rect\"},\"hover_glyph\":null,\"nonselection_glyph\":null,\"selection_glyph\":null},\"id\":\"4fe596e2-7308-4075-80a4-616abc893428\",\"type\":\"GlyphRenderer\"},{\"attributes\":{\"data_source\":{\"id\":\"304b60f6-200b-4f5d-85f6-9f753cd047d8\",\"type\":\"ColumnDataSource\"},\"glyph\":{\"id\":\"fbd4865a-d53f-46b4-8349-4347138d1f67\",\"type\":\"Rect\"},\"hover_glyph\":null,\"nonselection_glyph\":null,\"selection_glyph\":null},\"id\":\"b8159d21-67ed-4174-9b0d-eea0e2085e7a\",\"type\":\"GlyphRenderer\"},{\"attributes\":{\"callback\":null,\"column_names\":[\"color\",\"line_color\",\"height\",\"width\",\"x\",\"fill_alpha\",\"y\",\"line_alpha\"],\"data\":{\"chart_index\":[{\"x\":13}],\"color\":[\"#f22c40\"],\"fill_alpha\":[0.8],\"height\":[13.0],\"line_alpha\":[1.0],\"line_color\":[\"white\"],\"width\":[0.8],\"x\":[13],\"y\":[6.5]}},\"id\":\"eaa25800-a428-4b30-b7fb-26840b65fca6\",\"type\":\"ColumnDataSource\"},{\"attributes\":{\"fill_alpha\":{\"field\":\"fill_alpha\"},\"fill_color\":{\"field\":\"color\"},\"height\":{\"field\":\"height\",\"units\":\"data\"},\"line_color\":{\"field\":\"line_color\"},\"width\":{\"field\":\"width\",\"units\":\"data\"},\"x\":{\"field\":\"x\"},\"y\":{\"field\":\"y\"}},\"id\":\"12bedaba-67ee-4837-b743-a3d8929f380a\",\"type\":\"Rect\"},{\"attributes\":{\"fill_alpha\":{\"value\":0.7},\"fill_color\":{\"value\":\"#f22c40\"},\"line_color\":{\"value\":\"#f22c40\"},\"size\":{\"units\":\"screen\",\"value\":8},\"x\":{\"field\":\"x_values\"},\"y\":{\"field\":\"y_values\"}},\"id\":\"d6d80308-4d27-446e-b146-bc8ebffe3e7f\",\"type\":\"Circle\"},{\"attributes\":{\"callback\":null,\"column_names\":[\"color\",\"line_color\",\"height\",\"width\",\"x\",\"fill_alpha\",\"y\",\"line_alpha\"],\"data\":{\"chart_index\":[{\"x\":11}],\"color\":[\"#f22c40\"],\"fill_alpha\":[0.8],\"height\":[11.0],\"line_alpha\":[1.0],\"line_color\":[\"white\"],\"width\":[0.8],\"x\":[11],\"y\":[5.5]}},\"id\":\"e442a2c2-b8ba-4a67-9cad-30cc104fbcee\",\"type\":\"ColumnDataSource\"},{\"attributes\":{\"axis_label\":\"Sum( Y )\",\"formatter\":{\"id\":\"83b7b66b-d2fa-4cde-8d34-adc600658b3d\",\"type\":\"BasicTickFormatter\"},\"plot\":{\"id\":\"9df36f1c-b1e5-47cf-bd02-8ca67964d13e\",\"subtype\":\"Chart\",\"type\":\"Plot\"},\"ticker\":{\"id\":\"c6c7571d-88b8-4871-aaf7-a379265a794c\",\"type\":\"BasicTicker\"}},\"id\":\"3475158f-31cd-4456-85e6-ea2151e030e6\",\"type\":\"LinearAxis\"},{\"attributes\":{\"bottom_units\":\"screen\",\"fill_alpha\":{\"value\":0.5},\"fill_color\":{\"value\":\"lightgrey\"},\"left_units\":\"screen\",\"level\":\"overlay\",\"line_alpha\":{\"value\":1.0},\"line_color\":{\"value\":\"black\"},\"line_dash\":[4,4],\"line_width\":{\"value\":2},\"plot\":null,\"render_mode\":\"css\",\"right_units\":\"screen\",\"top_units\":\"screen\"},\"id\":\"75cddb07-ea16-436a-b3d4-c5392398edad\",\"type\":\"BoxAnnotation\"},{\"attributes\":{\"callback\":null,\"column_names\":[\"color\",\"line_color\",\"height\",\"width\",\"x\",\"fill_alpha\",\"y\",\"line_alpha\"],\"data\":{\"chart_index\":[{\"x\":18}],\"color\":[\"#f22c40\"],\"fill_alpha\":[0.8],\"height\":[18.0],\"line_alpha\":[1.0],\"line_color\":[\"white\"],\"width\":[0.8],\"x\":[18],\"y\":[9.0]}},\"id\":\"584aa545-a7a6-4757-9b43-d79476fc06f8\",\"type\":\"ColumnDataSource\"},{\"attributes\":{\"fill_alpha\":{\"field\":\"fill_alpha\"},\"fill_color\":{\"field\":\"color\"},\"height\":{\"field\":\"height\",\"units\":\"data\"},\"line_color\":{\"field\":\"line_color\"},\"width\":{\"field\":\"width\",\"units\":\"data\"},\"x\":{\"field\":\"x\"},\"y\":{\"field\":\"y\"}},\"id\":\"3e4f3f67-cc3a-45a5-b088-6cfba592c415\",\"type\":\"Rect\"},{\"attributes\":{\"fill_alpha\":{\"field\":\"fill_alpha\"},\"fill_color\":{\"field\":\"color\"},\"height\":{\"field\":\"height\",\"units\":\"data\"},\"line_color\":{\"field\":\"line_color\"},\"width\":{\"field\":\"width\",\"units\":\"data\"},\"x\":{\"field\":\"x\"},\"y\":{\"field\":\"y\"}},\"id\":\"64b84739-f21e-4a53-95b7-492f1be92bf0\",\"type\":\"Rect\"},{\"attributes\":{\"callback\":null,\"end\":3.2,\"start\":0.8},\"id\":\"395441f7-da7f-4068-b584-fe0115ef2768\",\"type\":\"Range1d\"},{\"attributes\":{\"legends\":[[\"A\",[{\"id\":\"5ffa71e1-ea90-45b2-8e45-f322bc4aa4d7\",\"type\":\"GlyphRenderer\"}]],[\"B\",[{\"id\":\"e22916fe-cb80-49e4-a787-63bc95ac383a\",\"type\":\"GlyphRenderer\"}]]],\"plot\":{\"id\":\"d00f583e-b9f2-4ea2-8d62-d58576f93a49\",\"subtype\":\"Chart\",\"type\":\"Plot\"}},\"id\":\"0b9e0fe5-3df1-49ae-a5ec-161fc6bcef0b\",\"type\":\"Legend\"},{\"attributes\":{\"callback\":null,\"column_names\":[\"color\",\"line_color\",\"height\",\"width\",\"x\",\"fill_alpha\",\"y\",\"line_alpha\"],\"data\":{\"chart_index\":[{\"x\":19}],\"color\":[\"#f22c40\"],\"fill_alpha\":[0.8],\"height\":[19.0],\"line_alpha\":[1.0],\"line_color\":[\"white\"],\"width\":[0.8],\"x\":[19],\"y\":[9.5]}},\"id\":\"91292b1e-5743-4054-8171-d86cead42835\",\"type\":\"ColumnDataSource\"},{\"attributes\":{\"data_source\":{\"id\":\"6f94e92c-c215-4148-a5d7-c553fb827e7d\",\"type\":\"ColumnDataSource\"},\"glyph\":{\"id\":\"ee1f21e6-d8d6-4c47-8f10-0a21b5e25777\",\"type\":\"Rect\"},\"hover_glyph\":null,\"nonselection_glyph\":null,\"selection_glyph\":null},\"id\":\"fef3cab2-57fd-4ba4-b86a-1c2394ebf563\",\"type\":\"GlyphRenderer\"},{\"attributes\":{\"below\":[{\"id\":\"5adbbf94-962b-4aad-a2f6-1a1c08f1c5e4\",\"type\":\"CategoricalAxis\"}],\"left\":[{\"id\":\"3475158f-31cd-4456-85e6-ea2151e030e6\",\"type\":\"LinearAxis\"}],\"legend\":null,\"renderers\":[{\"id\":\"75cddb07-ea16-436a-b3d4-c5392398edad\",\"type\":\"BoxAnnotation\"},{\"id\":\"b8159d21-67ed-4174-9b0d-eea0e2085e7a\",\"type\":\"GlyphRenderer\"},{\"id\":\"4c929d98-badf-4a57-a805-e9022e0e081d\",\"type\":\"GlyphRenderer\"},{\"id\":\"b5acdddf-054c-4931-ae4b-585982dc1b50\",\"type\":\"GlyphRenderer\"},{\"id\":\"c69b3c81-9fd9-4b4a-b8c5-e1698d637c0c\",\"type\":\"GlyphRenderer\"},{\"id\":\"9877bf72-d45b-46d0-a424-dd52a80b35d5\",\"type\":\"GlyphRenderer\"},{\"id\":\"a3213469-f3f3-4208-89b1-7d13f58f1810\",\"type\":\"GlyphRenderer\"},{\"id\":\"d4a354c7-d23c-4345-a42c-c6fc1ec947b2\",\"type\":\"GlyphRenderer\"},{\"id\":\"213b4174-fdb5-4a96-aa3c-e9c8c8e849a1\",\"type\":\"GlyphRenderer\"},{\"id\":\"4fe596e2-7308-4075-80a4-616abc893428\",\"type\":\"GlyphRenderer\"},{\"id\":\"fef3cab2-57fd-4ba4-b86a-1c2394ebf563\",\"type\":\"GlyphRenderer\"},{\"id\":\"a2035ffe-fa59-4f7a-bf63-af8be879dd76\",\"type\":\"GlyphRenderer\"},{\"id\":\"a1789627-add6-4bc4-8d00-1f46b3068165\",\"type\":\"GlyphRenderer\"},{\"id\":\"13ef54eb-ed55-4498-af51-444b535d1f63\",\"type\":\"GlyphRenderer\"},{\"id\":\"f60e39a5-6620-47be-96ce-886e85c4138e\",\"type\":\"GlyphRenderer\"},{\"id\":\"043107fd-2784-49a9-a659-11b4ffe3777b\",\"type\":\"GlyphRenderer\"},{\"id\":\"2f81a9e3-665f-473c-b22f-efdb366ae602\",\"type\":\"GlyphRenderer\"},{\"id\":\"43733469-89d9-413e-9e8f-d3aca22988fb\",\"type\":\"GlyphRenderer\"},{\"id\":\"ddd79f66-e4ea-47c9-9e73-320e5cc6de48\",\"type\":\"GlyphRenderer\"},{\"id\":\"4c47d3b1-4444-475d-b4cf-8c214b957991\",\"type\":\"GlyphRenderer\"},{\"id\":\"46cfe634-b415-47e2-be2b-98c37e11d866\",\"type\":\"GlyphRenderer\"},{\"id\":\"974eba74-1901-46ae-b3da-8e7c0e3ab51d\",\"type\":\"GlyphRenderer\"},{\"id\":\"5adbbf94-962b-4aad-a2f6-1a1c08f1c5e4\",\"type\":\"CategoricalAxis\"},{\"id\":\"3475158f-31cd-4456-85e6-ea2151e030e6\",\"type\":\"LinearAxis\"},{\"id\":\"9ac1c3ba-3901-4f66-920d-fe5a38327074\",\"type\":\"Grid\"}],\"title_text_font_size\":{\"value\":\"14pt\"},\"tool_events\":{\"id\":\"c469359b-d974-498b-86bb-c876474dbffc\",\"type\":\"ToolEvents\"},\"tools\":[{\"id\":\"4c0728aa-ba64-4b98-a2cc-fa7b7aaaa780\",\"type\":\"PanTool\"},{\"id\":\"b7587747-03e7-446e-91aa-b32d3e697f94\",\"type\":\"WheelZoomTool\"},{\"id\":\"5ba23349-2c23-43cf-b65a-9a854631b3f9\",\"type\":\"BoxZoomTool\"},{\"id\":\"1e27bcaf-e967-4b11-ad69-37b0b4a846f2\",\"type\":\"PreviewSaveTool\"},{\"id\":\"431428e4-f066-4303-9b24-1565d8db2d15\",\"type\":\"ResizeTool\"},{\"id\":\"f3fc1ea7-54f8-4993-ab72-4d555591cc1a\",\"type\":\"ResetTool\"},{\"id\":\"7794d5bb-ad76-4689-827d-2ab54e842f85\",\"type\":\"HelpTool\"}],\"x_mapper_type\":\"auto\",\"x_range\":{\"id\":\"0c6c3f1e-de31-47be-929d-11e1fd611810\",\"type\":\"FactorRange\"},\"xgrid\":false,\"xscale\":\"auto\",\"y_mapper_type\":\"auto\",\"y_range\":{\"id\":\"4750cb24-3731-47a0-b53c-1ca4c2118dee\",\"type\":\"Range1d\"},\"yscale\":\"auto\"},\"id\":\"9df36f1c-b1e5-47cf-bd02-8ca67964d13e\",\"subtype\":\"Chart\",\"type\":\"Plot\"},{\"attributes\":{\"callback\":null,\"column_names\":[\"color\",\"line_color\",\"height\",\"width\",\"x\",\"fill_alpha\",\"y\",\"line_alpha\"],\"data\":{\"chart_index\":[{\"x\":9}],\"color\":[\"#f22c40\"],\"fill_alpha\":[0.8],\"height\":[9.0],\"line_alpha\":[1.0],\"line_color\":[\"white\"],\"width\":[0.8],\"x\":[9],\"y\":[4.5]}},\"id\":\"6f94e92c-c215-4148-a5d7-c553fb827e7d\",\"type\":\"ColumnDataSource\"},{\"attributes\":{\"fill_alpha\":{\"value\":0.7},\"fill_color\":{\"value\":\"#5ab738\"},\"line_color\":{\"value\":\"#5ab738\"},\"size\":{\"units\":\"screen\",\"value\":8},\"x\":{\"field\":\"x_values\"},\"y\":{\"field\":\"y_values\"}},\"id\":\"262819f5-6321-4fd2-a4bd-a268be5a75cf\",\"type\":\"Circle\"},{\"attributes\":{\"dimension\":1,\"plot\":{\"id\":\"9df36f1c-b1e5-47cf-bd02-8ca67964d13e\",\"subtype\":\"Chart\",\"type\":\"Plot\"},\"ticker\":{\"id\":\"c6c7571d-88b8-4871-aaf7-a379265a794c\",\"type\":\"BasicTicker\"}},\"id\":\"9ac1c3ba-3901-4f66-920d-fe5a38327074\",\"type\":\"Grid\"},{\"attributes\":{\"callback\":null,\"column_names\":[\"color\",\"line_color\",\"height\",\"width\",\"x\",\"fill_alpha\",\"y\",\"line_alpha\"],\"data\":{\"chart_index\":[{\"x\":1}],\"color\":[\"#f22c40\"],\"fill_alpha\":[0.8],\"height\":[1.0],\"line_alpha\":[1.0],\"line_color\":[\"white\"],\"width\":[0.8],\"x\":[1],\"y\":[0.5]}},\"id\":\"1555b0b1-ce2d-438d-a0bc-364b7a4c2c95\",\"type\":\"ColumnDataSource\"},{\"attributes\":{\"plot\":{\"id\":\"d00f583e-b9f2-4ea2-8d62-d58576f93a49\",\"subtype\":\"Chart\",\"type\":\"Plot\"}},\"id\":\"becac1ee-6654-444f-97fb-237f5652159c\",\"type\":\"ResizeTool\"},{\"attributes\":{\"callback\":null,\"column_names\":[\"color\",\"line_color\",\"height\",\"width\",\"x\",\"fill_alpha\",\"y\",\"line_alpha\"],\"data\":{\"chart_index\":[{\"x\":3}],\"color\":[\"#f22c40\"],\"fill_alpha\":[0.8],\"height\":[3.0],\"line_alpha\":[1.0],\"line_color\":[\"white\"],\"width\":[0.8],\"x\":[3],\"y\":[1.5]}},\"id\":\"6570913c-4d6e-4bc7-8535-5f063cc07fd3\",\"type\":\"ColumnDataSource\"},{\"attributes\":{},\"id\":\"ce01eaeb-a42d-47db-9bcf-1e5f17c89cd5\",\"type\":\"BasicTicker\"},{\"attributes\":{},\"id\":\"f2cccfd8-b0bc-4ce5-8839-b95678dcf469\",\"type\":\"BasicTickFormatter\"},{\"attributes\":{\"callback\":null,\"column_names\":[\"color\",\"line_color\",\"height\",\"width\",\"x\",\"fill_alpha\",\"y\",\"line_alpha\"],\"data\":{\"chart_index\":[{\"x\":6}],\"color\":[\"#f22c40\"],\"fill_alpha\":[0.8],\"height\":[6.0],\"line_alpha\":[1.0],\"line_color\":[\"white\"],\"width\":[0.8],\"x\":[6],\"y\":[3.0]}},\"id\":\"4f127b08-c4e7-428d-91e2-89ea132ea611\",\"type\":\"ColumnDataSource\"},{\"attributes\":{\"plot\":{\"id\":\"d00f583e-b9f2-4ea2-8d62-d58576f93a49\",\"subtype\":\"Chart\",\"type\":\"Plot\"}},\"id\":\"61e6fc16-fdc5-4b0f-8371-91d61d123409\",\"type\":\"ResetTool\"},{\"attributes\":{\"callback\":null,\"column_names\":[\"color\",\"line_color\",\"height\",\"width\",\"x\",\"fill_alpha\",\"y\",\"line_alpha\"],\"data\":{\"chart_index\":[{\"x\":12}],\"color\":[\"#f22c40\"],\"fill_alpha\":[0.8],\"height\":[12.0],\"line_alpha\":[1.0],\"line_color\":[\"white\"],\"width\":[0.8],\"x\":[12],\"y\":[6.0]}},\"id\":\"6c68f6be-703b-4ab7-b3c4-238da45dcb7b\",\"type\":\"ColumnDataSource\"},{\"attributes\":{\"axis_label\":\"Y\",\"formatter\":{\"id\":\"6db3a2b5-01c0-4bf6-b7f8-0df0b9f0b24c\",\"type\":\"BasicTickFormatter\"},\"plot\":{\"id\":\"d00f583e-b9f2-4ea2-8d62-d58576f93a49\",\"subtype\":\"Chart\",\"type\":\"Plot\"},\"ticker\":{\"id\":\"ce01eaeb-a42d-47db-9bcf-1e5f17c89cd5\",\"type\":\"BasicTicker\"}},\"id\":\"390037a3-6d70-4538-8554-dd0043328c18\",\"type\":\"LinearAxis\"},{\"attributes\":{\"data_source\":{\"id\":\"8997144a-dc86-47b6-b395-a657341b599e\",\"type\":\"ColumnDataSource\"},\"glyph\":{\"id\":\"262819f5-6321-4fd2-a4bd-a268be5a75cf\",\"type\":\"Circle\"},\"hover_glyph\":null,\"nonselection_glyph\":null,\"selection_glyph\":null},\"id\":\"e22916fe-cb80-49e4-a787-63bc95ac383a\",\"type\":\"GlyphRenderer\"},{\"attributes\":{},\"id\":\"e4b244ab-866c-4273-9276-da537c289fcf\",\"type\":\"BasicTicker\"},{\"attributes\":{},\"id\":\"6db3a2b5-01c0-4bf6-b7f8-0df0b9f0b24c\",\"type\":\"BasicTickFormatter\"},{\"attributes\":{\"callback\":null,\"column_names\":[\"color\",\"line_color\",\"height\",\"width\",\"x\",\"fill_alpha\",\"y\",\"line_alpha\"],\"data\":{\"chart_index\":[{\"x\":14}],\"color\":[\"#f22c40\"],\"fill_alpha\":[0.8],\"height\":[14.0],\"line_alpha\":[1.0],\"line_color\":[\"white\"],\"width\":[0.8],\"x\":[14],\"y\":[7.0]}},\"id\":\"fb10e7e0-6f8f-401c-8dd8-a5edd8f2396c\",\"type\":\"ColumnDataSource\"},{\"attributes\":{\"callback\":null,\"column_names\":[\"color\",\"line_color\",\"height\",\"width\",\"x\",\"fill_alpha\",\"y\",\"line_alpha\"],\"data\":{\"chart_index\":[{\"x\":10}],\"color\":[\"#f22c40\"],\"fill_alpha\":[0.8],\"height\":[10.0],\"line_alpha\":[1.0],\"line_color\":[\"white\"],\"width\":[0.8],\"x\":[10],\"y\":[5.0]}},\"id\":\"dcd77144-a3d9-41ed-b087-df20d7bc8209\",\"type\":\"ColumnDataSource\"},{\"attributes\":{\"data_source\":{\"id\":\"b6b86d4b-9cdc-4d87-b9c0-f4596f023cab\",\"type\":\"ColumnDataSource\"},\"glyph\":{\"id\":\"1fa7388c-d142-4e33-aff3-7cc322cfc424\",\"type\":\"Rect\"},\"hover_glyph\":null,\"nonselection_glyph\":null,\"selection_glyph\":null},\"id\":\"b5acdddf-054c-4931-ae4b-585982dc1b50\",\"type\":\"GlyphRenderer\"},{\"attributes\":{\"callback\":null,\"column_names\":[\"y_values\",\"x_values\"],\"data\":{\"S\":[\"B\",\"B\",\"B\",\"B\",\"B\",\"B\",\"B\",\"B\"],\"chart_index\":[{\"S\":\"B\"},{\"S\":\"B\"},{\"S\":\"B\"},{\"S\":\"B\"},{\"S\":\"B\"},{\"S\":\"B\"},{\"S\":\"B\"},{\"S\":\"B\"}],\"x_values\":[0,1,2,3,4,5,6,7],\"y_values\":[3,1,2,3,3,3,2,1]}},\"id\":\"8997144a-dc86-47b6-b395-a657341b599e\",\"type\":\"ColumnDataSource\"},{\"attributes\":{\"overlay\":{\"id\":\"f0b7307f-a416-4c84-995f-39dd365779c2\",\"type\":\"BoxAnnotation\"},\"plot\":{\"id\":\"d00f583e-b9f2-4ea2-8d62-d58576f93a49\",\"subtype\":\"Chart\",\"type\":\"Plot\"}},\"id\":\"487e216f-6752-44aa-998a-603bcc40ce9b\",\"type\":\"BoxZoomTool\"},{\"attributes\":{\"plot\":{\"id\":\"d00f583e-b9f2-4ea2-8d62-d58576f93a49\",\"subtype\":\"Chart\",\"type\":\"Plot\"}},\"id\":\"dba8dc55-d135-4029-b8ed-6d06f0d2e575\",\"type\":\"HelpTool\"},{\"attributes\":{\"callback\":null,\"column_names\":[\"color\",\"line_color\",\"height\",\"width\",\"x\",\"fill_alpha\",\"y\",\"line_alpha\"],\"data\":{\"chart_index\":[{\"x\":5}],\"color\":[\"#f22c40\"],\"fill_alpha\":[0.8],\"height\":[5.0],\"line_alpha\":[1.0],\"line_color\":[\"white\"],\"width\":[0.8],\"x\":[5],\"y\":[2.5]}},\"id\":\"2673e030-64d0-416d-b4b3-8aedf8bd8b23\",\"type\":\"ColumnDataSource\"},{\"attributes\":{\"fill_alpha\":{\"field\":\"fill_alpha\"},\"fill_color\":{\"field\":\"color\"},\"height\":{\"field\":\"height\",\"units\":\"data\"},\"line_color\":{\"field\":\"line_color\"},\"width\":{\"field\":\"width\",\"units\":\"data\"},\"x\":{\"field\":\"x\"},\"y\":{\"field\":\"y\"}},\"id\":\"fbd4865a-d53f-46b4-8349-4347138d1f67\",\"type\":\"Rect\"},{\"attributes\":{\"data_source\":{\"id\":\"fe0580cf-ec03-4206-910b-11e85c58633f\",\"type\":\"ColumnDataSource\"},\"glyph\":{\"id\":\"de4dcb13-1604-49c4-8e34-5d7bf9039a9b\",\"type\":\"Rect\"},\"hover_glyph\":null,\"nonselection_glyph\":null,\"selection_glyph\":null},\"id\":\"ddd79f66-e4ea-47c9-9e73-320e5cc6de48\",\"type\":\"GlyphRenderer\"},{\"attributes\":{\"axis_label\":\"X\",\"formatter\":{\"id\":\"f2cccfd8-b0bc-4ce5-8839-b95678dcf469\",\"type\":\"BasicTickFormatter\"},\"plot\":{\"id\":\"d00f583e-b9f2-4ea2-8d62-d58576f93a49\",\"subtype\":\"Chart\",\"type\":\"Plot\"},\"ticker\":{\"id\":\"e4b244ab-866c-4273-9276-da537c289fcf\",\"type\":\"BasicTicker\"}},\"id\":\"b8c6305a-e2d9-4d16-b06b-13c41ba6e864\",\"type\":\"LinearAxis\"},{\"attributes\":{\"dimension\":1,\"plot\":{\"id\":\"d00f583e-b9f2-4ea2-8d62-d58576f93a49\",\"subtype\":\"Chart\",\"type\":\"Plot\"},\"ticker\":{\"id\":\"ce01eaeb-a42d-47db-9bcf-1e5f17c89cd5\",\"type\":\"BasicTicker\"}},\"id\":\"3ab4fba8-7682-4076-8a77-fefa4ef0600a\",\"type\":\"Grid\"},{\"attributes\":{\"fill_alpha\":{\"field\":\"fill_alpha\"},\"fill_color\":{\"field\":\"color\"},\"height\":{\"field\":\"height\",\"units\":\"data\"},\"line_color\":{\"field\":\"line_color\"},\"width\":{\"field\":\"width\",\"units\":\"data\"},\"x\":{\"field\":\"x\"},\"y\":{\"field\":\"y\"}},\"id\":\"4ec46815-52dc-4ac4-82b1-82e9016ccf58\",\"type\":\"Rect\"},{\"attributes\":{\"callback\":null,\"end\":7.7,\"start\":-0.7000000000000001},\"id\":\"ba87dbaa-e25c-4364-b33e-3aba0d954097\",\"type\":\"Range1d\"},{\"attributes\":{\"data_source\":{\"id\":\"fb10e7e0-6f8f-401c-8dd8-a5edd8f2396c\",\"type\":\"ColumnDataSource\"},\"glyph\":{\"id\":\"ec795310-ef3b-4db9-83de-5fd21aa94997\",\"type\":\"Rect\"},\"hover_glyph\":null,\"nonselection_glyph\":null,\"selection_glyph\":null},\"id\":\"043107fd-2784-49a9-a659-11b4ffe3777b\",\"type\":\"GlyphRenderer\"},{\"attributes\":{},\"id\":\"83b7b66b-d2fa-4cde-8d34-adc600658b3d\",\"type\":\"BasicTickFormatter\"},{\"attributes\":{},\"id\":\"d230dac1-bfb0-4e27-a941-10969f44e5bb\",\"type\":\"CategoricalTicker\"},{\"attributes\":{\"callback\":null,\"column_names\":[\"color\",\"line_color\",\"height\",\"width\",\"x\",\"fill_alpha\",\"y\",\"line_alpha\"],\"data\":{\"chart_index\":[{\"x\":8}],\"color\":[\"#f22c40\"],\"fill_alpha\":[0.8],\"height\":[8.0],\"line_alpha\":[1.0],\"line_color\":[\"white\"],\"width\":[0.8],\"x\":[8],\"y\":[4.0]}},\"id\":\"4b2cf064-9cb9-4d25-bdc4-ef87918c4bfb\",\"type\":\"ColumnDataSource\"},{\"attributes\":{\"plot\":{\"id\":\"9df36f1c-b1e5-47cf-bd02-8ca67964d13e\",\"subtype\":\"Chart\",\"type\":\"Plot\"}},\"id\":\"431428e4-f066-4303-9b24-1565d8db2d15\",\"type\":\"ResizeTool\"},{\"attributes\":{\"data_source\":{\"id\":\"584aa545-a7a6-4757-9b43-d79476fc06f8\",\"type\":\"ColumnDataSource\"},\"glyph\":{\"id\":\"d4d94cf2-edfd-47f9-b3c3-a07394271d87\",\"type\":\"Rect\"},\"hover_glyph\":null,\"nonselection_glyph\":null,\"selection_glyph\":null},\"id\":\"4c47d3b1-4444-475d-b4cf-8c214b957991\",\"type\":\"GlyphRenderer\"},{\"attributes\":{\"plot\":{\"id\":\"9df36f1c-b1e5-47cf-bd02-8ca67964d13e\",\"subtype\":\"Chart\",\"type\":\"Plot\"}},\"id\":\"7794d5bb-ad76-4689-827d-2ab54e842f85\",\"type\":\"HelpTool\"},{\"attributes\":{},\"id\":\"1a39e375-1faf-421c-8e76-95a4437dda6a\",\"type\":\"ToolEvents\"},{\"attributes\":{\"plot\":{\"id\":\"d00f583e-b9f2-4ea2-8d62-d58576f93a49\",\"subtype\":\"Chart\",\"type\":\"Plot\"}},\"id\":\"7bd09bb0-e246-4333-88b3-367fe021a354\",\"type\":\"PanTool\"},{\"attributes\":{\"plot\":{\"id\":\"9df36f1c-b1e5-47cf-bd02-8ca67964d13e\",\"subtype\":\"Chart\",\"type\":\"Plot\"}},\"id\":\"1e27bcaf-e967-4b11-ad69-37b0b4a846f2\",\"type\":\"PreviewSaveTool\"},{\"attributes\":{},\"id\":\"c6c7571d-88b8-4871-aaf7-a379265a794c\",\"type\":\"BasicTicker\"},{\"attributes\":{\"fill_alpha\":{\"field\":\"fill_alpha\"},\"fill_color\":{\"field\":\"color\"},\"height\":{\"field\":\"height\",\"units\":\"data\"},\"line_color\":{\"field\":\"line_color\"},\"width\":{\"field\":\"width\",\"units\":\"data\"},\"x\":{\"field\":\"x\"},\"y\":{\"field\":\"y\"}},\"id\":\"6e5be99a-0db5-46a5-b2c5-68662ac11a1f\",\"type\":\"Rect\"}],\"root_ids\":[\"d00f583e-b9f2-4ea2-8d62-d58576f93a49\",\"9df36f1c-b1e5-47cf-bd02-8ca67964d13e\"]},\"title\":\"Bokeh Application\",\"version\":\"0.11.1\"}};\n",
       "            var render_items = [{\"docid\":\"ceac6329-873c-4533-bc59-e6311d694bce\",\"elementid\":\"19af210a-01bf-4351-bbf5-1997e78c121a\",\"modelid\":\"9df36f1c-b1e5-47cf-bd02-8ca67964d13e\",\"notebook_comms_target\":\"f57510aa-c963-4002-82f2-9f99424aed53\"}];\n",
       "            \n",
       "            Bokeh.embed.embed_items(docs_json, render_items);\n",
       "        });\n",
       "      },\n",
       "      function(Bokeh) {\n",
       "      }\n",
       "    ];\n",
       "  \n",
       "    function run_inline_js() {\n",
       "      for (var i = 0; i < inline_js.length; i++) {\n",
       "        inline_js[i](window.Bokeh);\n",
       "      }\n",
       "    }\n",
       "  \n",
       "    if (window._bokeh_is_loading === 0) {\n",
       "      console.log(\"Bokeh: BokehJS loaded, going straight to plotting\");\n",
       "      run_inline_js();\n",
       "    } else {\n",
       "      load_libs(js_urls, function() {\n",
       "        console.log(\"Bokeh: BokehJS plotting callback run at\", now());\n",
       "        run_inline_js();\n",
       "      });\n",
       "    }\n",
       "  }(this));\n",
       "</script>"
      ]
     },
     "metadata": {},
     "output_type": "display_data"
    },
    {
     "data": {
      "text/html": [
       "<p><code>&lt;Bokeh Notebook handle for <strong>In[2]</strong>&gt;</code></p>"
      ],
      "text/plain": [
       "<bokeh.io._CommsHandle at 0x10f7624e0>"
      ]
     },
     "execution_count": 53,
     "metadata": {},
     "output_type": "execute_result"
    }
   ],
   "source": [
    "show(myFirstPlot)"
   ]
  },
  {
   "cell_type": "markdown",
   "metadata": {},
   "source": [
    "Great! We've produced our first `bokeh` figure! You might have noticed that the scaling of axes has been taken care of for you, and there is a toolbar along the top of the plot. Included in these tools is panning and scroll zooming, alowing you to zoom in and out of the plot and navigate around to better interrogate plotted data. This can be really helpful, but can also get a little annoying when we want our view of the data to remain static. That's ok: it's really easy to switch off. Let's do that, at the same time as adding a title and axis names to the plot:"
   ]
  },
  {
   "cell_type": "code",
   "execution_count": 54,
   "metadata": {
    "collapsed": false
   },
   "outputs": [
    {
     "data": {
      "text/html": [
       "\n",
       "\n",
       "    <div class=\"plotdiv\" id=\"d544e6e5-2569-463c-9ace-c7f0922259d1\"></div>\n",
       "<script type=\"text/javascript\">\n",
       "  \n",
       "  (function(global) {\n",
       "    function now() {\n",
       "      return new Date();\n",
       "    }\n",
       "  \n",
       "    if (typeof (window._bokeh_onload_callbacks) === \"undefined\") {\n",
       "      window._bokeh_onload_callbacks = [];\n",
       "    }\n",
       "  \n",
       "    function run_callbacks() {\n",
       "      window._bokeh_onload_callbacks.forEach(function(callback) { callback() });\n",
       "      delete window._bokeh_onload_callbacks\n",
       "      console.info(\"Bokeh: all callbacks have finished\");\n",
       "    }\n",
       "  \n",
       "    function load_libs(js_urls, callback) {\n",
       "      window._bokeh_onload_callbacks.push(callback);\n",
       "      if (window._bokeh_is_loading > 0) {\n",
       "        console.log(\"Bokeh: BokehJS is being loaded, scheduling callback at\", now());\n",
       "        return null;\n",
       "      }\n",
       "      if (js_urls == null || js_urls.length === 0) {\n",
       "        run_callbacks();\n",
       "        return null;\n",
       "      }\n",
       "      console.log(\"Bokeh: BokehJS not loaded, scheduling load and callback at\", now());\n",
       "      window._bokeh_is_loading = js_urls.length;\n",
       "      for (var i = 0; i < js_urls.length; i++) {\n",
       "        var url = js_urls[i];\n",
       "        var s = document.createElement('script');\n",
       "        s.src = url;\n",
       "        s.async = false;\n",
       "        s.onreadystatechange = s.onload = function() {\n",
       "          window._bokeh_is_loading--;\n",
       "          if (window._bokeh_is_loading === 0) {\n",
       "            console.log(\"Bokeh: all BokehJS libraries loaded\");\n",
       "            run_callbacks()\n",
       "          }\n",
       "        };\n",
       "        s.onerror = function() {\n",
       "          console.warn(\"failed to load library \" + url);\n",
       "        };\n",
       "        console.log(\"Bokeh: injecting script tag for BokehJS library: \", url);\n",
       "        document.getElementsByTagName(\"head\")[0].appendChild(s);\n",
       "      }\n",
       "    };var element = document.getElementById(\"d544e6e5-2569-463c-9ace-c7f0922259d1\");\n",
       "    if (element == null) {\n",
       "      console.log(\"Bokeh: ERROR: autoload.js configured with elementid 'd544e6e5-2569-463c-9ace-c7f0922259d1' but no matching script tag was found. \")\n",
       "      return false;\n",
       "    }\n",
       "  \n",
       "    var js_urls = [];\n",
       "  \n",
       "    var inline_js = [\n",
       "      function(Bokeh) {\n",
       "        Bokeh.$(function() {\n",
       "            var docs_json = {\"2c5b3bb9-251b-4c29-b446-f091ac9f7b23\":{\"roots\":{\"references\":[{\"attributes\":{\"fill_alpha\":{\"field\":\"fill_alpha\"},\"fill_color\":{\"field\":\"color\"},\"height\":{\"field\":\"height\",\"units\":\"data\"},\"line_color\":{\"field\":\"line_color\"},\"width\":{\"field\":\"width\",\"units\":\"data\"},\"x\":{\"field\":\"x\"},\"y\":{\"field\":\"y\"}},\"id\":\"8d4aea70-caf6-4ff5-a558-552bcb46ab86\",\"type\":\"Rect\"},{\"attributes\":{\"callback\":null,\"column_names\":[\"color\",\"line_color\",\"height\",\"width\",\"x\",\"fill_alpha\",\"y\",\"line_alpha\"],\"data\":{\"chart_index\":[{\"x\":18}],\"color\":[\"#f22c40\"],\"fill_alpha\":[0.8],\"height\":[18.0],\"line_alpha\":[1.0],\"line_color\":[\"white\"],\"width\":[0.8],\"x\":[18],\"y\":[9.0]}},\"id\":\"a6d00c8c-4ef0-499b-9ce6-71fb4c6bf5fe\",\"type\":\"ColumnDataSource\"},{\"attributes\":{\"plot\":{\"id\":\"d00f583e-b9f2-4ea2-8d62-d58576f93a49\",\"subtype\":\"Chart\",\"type\":\"Plot\"}},\"id\":\"05074aae-925e-410e-81c3-61e58efb8207\",\"type\":\"PreviewSaveTool\"},{\"attributes\":{\"fill_alpha\":{\"field\":\"fill_alpha\"},\"fill_color\":{\"field\":\"color\"},\"height\":{\"field\":\"height\",\"units\":\"data\"},\"line_color\":{\"field\":\"line_color\"},\"width\":{\"field\":\"width\",\"units\":\"data\"},\"x\":{\"field\":\"x\"},\"y\":{\"field\":\"y\"}},\"id\":\"d5edb015-071c-4a80-808f-916a848dbbfb\",\"type\":\"Rect\"},{\"attributes\":{\"fill_alpha\":{\"field\":\"fill_alpha\"},\"fill_color\":{\"field\":\"color\"},\"height\":{\"field\":\"height\",\"units\":\"data\"},\"line_color\":{\"field\":\"line_color\"},\"width\":{\"field\":\"width\",\"units\":\"data\"},\"x\":{\"field\":\"x\"},\"y\":{\"field\":\"y\"}},\"id\":\"ea46513c-f07d-4631-ad39-29c11c058bdb\",\"type\":\"Rect\"},{\"attributes\":{\"callback\":null,\"column_names\":[\"color\",\"line_color\",\"height\",\"width\",\"x\",\"fill_alpha\",\"y\",\"line_alpha\"],\"data\":{\"chart_index\":[{\"x\":4}],\"color\":[\"#f22c40\"],\"fill_alpha\":[0.8],\"height\":[4.0],\"line_alpha\":[1.0],\"line_color\":[\"white\"],\"width\":[0.8],\"x\":[4],\"y\":[2.0]}},\"id\":\"aa1f5f78-c659-41fe-8c04-7ad03d88aedc\",\"type\":\"ColumnDataSource\"},{\"attributes\":{\"callback\":null,\"column_names\":[\"y_values\",\"x_values\"],\"data\":{\"S\":[\"A\",\"A\",\"A\",\"A\",\"A\",\"A\",\"A\",\"A\"],\"chart_index\":[{\"S\":\"A\"},{\"S\":\"A\"},{\"S\":\"A\"},{\"S\":\"A\"},{\"S\":\"A\"},{\"S\":\"A\"},{\"S\":\"A\"},{\"S\":\"A\"}],\"x_values\":[0,1,2,3,4,5,6,7],\"y_values\":[1,2,1,2,1,2,1,2]}},\"id\":\"b04f3801-0df8-476c-ba67-eafc4cf51fcb\",\"type\":\"ColumnDataSource\"},{\"attributes\":{\"data_source\":{\"id\":\"382fac64-a053-40f8-a094-ee7a0422311d\",\"type\":\"ColumnDataSource\"},\"glyph\":{\"id\":\"ea46513c-f07d-4631-ad39-29c11c058bdb\",\"type\":\"Rect\"},\"hover_glyph\":null,\"nonselection_glyph\":null,\"selection_glyph\":null},\"id\":\"d2a89d44-7823-4e6f-bda3-22f738ef0522\",\"type\":\"GlyphRenderer\"},{\"attributes\":{\"plot\":{\"id\":\"9df36f1c-b1e5-47cf-bd02-8ca67964d13e\",\"subtype\":\"Chart\",\"type\":\"Plot\"}},\"id\":\"b7587747-03e7-446e-91aa-b32d3e697f94\",\"type\":\"WheelZoomTool\"},{\"attributes\":{\"callback\":null,\"column_names\":[\"color\",\"line_color\",\"height\",\"width\",\"x\",\"fill_alpha\",\"y\",\"line_alpha\"],\"data\":{\"chart_index\":[{\"x\":16}],\"color\":[\"#f22c40\"],\"fill_alpha\":[0.8],\"height\":[16.0],\"line_alpha\":[1.0],\"line_color\":[\"white\"],\"width\":[0.8],\"x\":[16],\"y\":[8.0]}},\"id\":\"f9a68fde-d3bf-4214-b6ef-ea264964d6fd\",\"type\":\"ColumnDataSource\"},{\"attributes\":{\"plot\":{\"id\":\"d00f583e-b9f2-4ea2-8d62-d58576f93a49\",\"subtype\":\"Chart\",\"type\":\"Plot\"},\"ticker\":{\"id\":\"e4b244ab-866c-4273-9276-da537c289fcf\",\"type\":\"BasicTicker\"}},\"id\":\"cd7aab10-d428-4fc6-a182-173d472605ee\",\"type\":\"Grid\"},{\"attributes\":{\"callback\":null,\"column_names\":[\"color\",\"line_color\",\"height\",\"width\",\"x\",\"fill_alpha\",\"y\",\"line_alpha\"],\"data\":{\"chart_index\":[{\"x\":17}],\"color\":[\"#f22c40\"],\"fill_alpha\":[0.8],\"height\":[17.0],\"line_alpha\":[1.0],\"line_color\":[\"white\"],\"width\":[0.8],\"x\":[17],\"y\":[8.5]}},\"id\":\"484a041b-7489-40ae-80a6-a20534e4f8e8\",\"type\":\"ColumnDataSource\"},{\"attributes\":{\"callback\":null,\"column_names\":[\"color\",\"line_color\",\"height\",\"width\",\"x\",\"fill_alpha\",\"y\",\"line_alpha\"],\"data\":{\"chart_index\":[{\"x\":12}],\"color\":[\"#f22c40\"],\"fill_alpha\":[0.8],\"height\":[12.0],\"line_alpha\":[1.0],\"line_color\":[\"white\"],\"width\":[0.8],\"x\":[12],\"y\":[6.0]}},\"id\":\"3a608a3a-0212-4e43-b1c2-da76a44ca682\",\"type\":\"ColumnDataSource\"},{\"attributes\":{\"callback\":null,\"column_names\":[\"color\",\"line_color\",\"height\",\"width\",\"x\",\"fill_alpha\",\"y\",\"line_alpha\"],\"data\":{\"chart_index\":[{\"x\":5}],\"color\":[\"#f22c40\"],\"fill_alpha\":[0.8],\"height\":[5.0],\"line_alpha\":[1.0],\"line_color\":[\"white\"],\"width\":[0.8],\"x\":[5],\"y\":[2.5]}},\"id\":\"2673e030-64d0-416d-b4b3-8aedf8bd8b23\",\"type\":\"ColumnDataSource\"},{\"attributes\":{\"fill_alpha\":{\"field\":\"fill_alpha\"},\"fill_color\":{\"field\":\"color\"},\"height\":{\"field\":\"height\",\"units\":\"data\"},\"line_color\":{\"field\":\"line_color\"},\"width\":{\"field\":\"width\",\"units\":\"data\"},\"x\":{\"field\":\"x\"},\"y\":{\"field\":\"y\"}},\"id\":\"2f824cdb-b075-4540-a36d-9aa422092171\",\"type\":\"Rect\"},{\"attributes\":{\"data_source\":{\"id\":\"dcd77144-a3d9-41ed-b087-df20d7bc8209\",\"type\":\"ColumnDataSource\"},\"glyph\":{\"id\":\"d42db55b-0b90-430a-986e-c8f87b328be2\",\"type\":\"Rect\"},\"hover_glyph\":null,\"nonselection_glyph\":null,\"selection_glyph\":null},\"id\":\"a2035ffe-fa59-4f7a-bf63-af8be879dd76\",\"type\":\"GlyphRenderer\"},{\"attributes\":{\"data_source\":{\"id\":\"a6d00c8c-4ef0-499b-9ce6-71fb4c6bf5fe\",\"type\":\"ColumnDataSource\"},\"glyph\":{\"id\":\"1d53a587-bc8a-4227-8194-5275a37a0415\",\"type\":\"Rect\"},\"hover_glyph\":null,\"nonselection_glyph\":null,\"selection_glyph\":null},\"id\":\"3edc0d6f-4263-4da8-b31b-396882051782\",\"type\":\"GlyphRenderer\"},{\"attributes\":{\"callback\":null,\"column_names\":[\"color\",\"line_color\",\"height\",\"width\",\"x\",\"fill_alpha\",\"y\",\"line_alpha\"],\"data\":{\"chart_index\":[{\"x\":7}],\"color\":[\"#f22c40\"],\"fill_alpha\":[0.8],\"height\":[7.0],\"line_alpha\":[1.0],\"line_color\":[\"white\"],\"width\":[0.8],\"x\":[7],\"y\":[3.5]}},\"id\":\"ca8b1a29-04de-42ef-aeea-82756cd2c7ce\",\"type\":\"ColumnDataSource\"},{\"attributes\":{\"callback\":null,\"column_names\":[\"color\",\"line_color\",\"height\",\"width\",\"x\",\"fill_alpha\",\"y\",\"line_alpha\"],\"data\":{\"chart_index\":[{\"x\":17}],\"color\":[\"#f22c40\"],\"fill_alpha\":[0.8],\"height\":[17.0],\"line_alpha\":[1.0],\"line_color\":[\"white\"],\"width\":[0.8],\"x\":[17],\"y\":[8.5]}},\"id\":\"fe0580cf-ec03-4206-910b-11e85c58633f\",\"type\":\"ColumnDataSource\"},{\"attributes\":{\"plot\":{\"id\":\"d00f583e-b9f2-4ea2-8d62-d58576f93a49\",\"subtype\":\"Chart\",\"type\":\"Plot\"}},\"id\":\"d358e4e0-eac5-4456-b2f5-b760f27170bc\",\"type\":\"WheelZoomTool\"},{\"attributes\":{\"callback\":null,\"column_names\":[\"color\",\"line_color\",\"height\",\"width\",\"x\",\"fill_alpha\",\"y\",\"line_alpha\"],\"data\":{\"chart_index\":[{\"x\":20}],\"color\":[\"#f22c40\"],\"fill_alpha\":[0.8],\"height\":[20.0],\"line_alpha\":[1.0],\"line_color\":[\"white\"],\"width\":[0.8],\"x\":[20],\"y\":[10.0]}},\"id\":\"ea4b7cd8-f0e9-41f9-aac7-a8466c236884\",\"type\":\"ColumnDataSource\"},{\"attributes\":{\"fill_alpha\":{\"field\":\"fill_alpha\"},\"fill_color\":{\"field\":\"color\"},\"height\":{\"field\":\"height\",\"units\":\"data\"},\"line_color\":{\"field\":\"line_color\"},\"width\":{\"field\":\"width\",\"units\":\"data\"},\"x\":{\"field\":\"x\"},\"y\":{\"field\":\"y\"}},\"id\":\"d4d94cf2-edfd-47f9-b3c3-a07394271d87\",\"type\":\"Rect\"},{\"attributes\":{\"callback\":null,\"column_names\":[\"color\",\"line_color\",\"height\",\"width\",\"x\",\"fill_alpha\",\"y\",\"line_alpha\"],\"data\":{\"chart_index\":[{\"x\":11}],\"color\":[\"#f22c40\"],\"fill_alpha\":[0.8],\"height\":[11.0],\"line_alpha\":[1.0],\"line_color\":[\"white\"],\"width\":[0.8],\"x\":[11],\"y\":[5.5]}},\"id\":\"382fac64-a053-40f8-a094-ee7a0422311d\",\"type\":\"ColumnDataSource\"},{\"attributes\":{},\"id\":\"1a39e375-1faf-421c-8e76-95a4437dda6a\",\"type\":\"ToolEvents\"},{\"attributes\":{\"fill_alpha\":{\"field\":\"fill_alpha\"},\"fill_color\":{\"field\":\"color\"},\"height\":{\"field\":\"height\",\"units\":\"data\"},\"line_color\":{\"field\":\"line_color\"},\"width\":{\"field\":\"width\",\"units\":\"data\"},\"x\":{\"field\":\"x\"},\"y\":{\"field\":\"y\"}},\"id\":\"1fa7388c-d142-4e33-aff3-7cc322cfc424\",\"type\":\"Rect\"},{\"attributes\":{\"data_source\":{\"id\":\"4f127b08-c4e7-428d-91e2-89ea132ea611\",\"type\":\"ColumnDataSource\"},\"glyph\":{\"id\":\"1775b1ed-5d8b-42f7-a6b4-ddaa090e5f09\",\"type\":\"Rect\"},\"hover_glyph\":null,\"nonselection_glyph\":null,\"selection_glyph\":null},\"id\":\"d4a354c7-d23c-4345-a42c-c6fc1ec947b2\",\"type\":\"GlyphRenderer\"},{\"attributes\":{},\"id\":\"85fff5e6-2539-4fcd-ad42-913752fa35fb\",\"type\":\"CategoricalTickFormatter\"},{\"attributes\":{\"plot\":{\"id\":\"9df36f1c-b1e5-47cf-bd02-8ca67964d13e\",\"subtype\":\"Chart\",\"type\":\"Plot\"}},\"id\":\"f3fc1ea7-54f8-4993-ab72-4d555591cc1a\",\"type\":\"ResetTool\"},{\"attributes\":{},\"id\":\"86f49a4f-99cc-42fe-aea2-f85ba430df2e\",\"type\":\"ToolEvents\"},{\"attributes\":{\"callback\":null,\"column_names\":[\"color\",\"line_color\",\"height\",\"width\",\"x\",\"fill_alpha\",\"y\",\"line_alpha\"],\"data\":{\"chart_index\":[{\"x\":20}],\"color\":[\"#f22c40\"],\"fill_alpha\":[0.8],\"height\":[20.0],\"line_alpha\":[1.0],\"line_color\":[\"white\"],\"width\":[0.8],\"x\":[20],\"y\":[10.0]}},\"id\":\"973f0289-f7e0-4978-b212-e0ec95634efd\",\"type\":\"ColumnDataSource\"},{\"attributes\":{\"fill_alpha\":{\"field\":\"fill_alpha\"},\"fill_color\":{\"field\":\"color\"},\"height\":{\"field\":\"height\",\"units\":\"data\"},\"line_color\":{\"field\":\"line_color\"},\"width\":{\"field\":\"width\",\"units\":\"data\"},\"x\":{\"field\":\"x\"},\"y\":{\"field\":\"y\"}},\"id\":\"94f187e6-c550-419b-9b3c-ffeee0ae430f\",\"type\":\"Rect\"},{\"attributes\":{\"fill_alpha\":{\"field\":\"fill_alpha\"},\"fill_color\":{\"field\":\"color\"},\"height\":{\"field\":\"height\",\"units\":\"data\"},\"line_color\":{\"field\":\"line_color\"},\"width\":{\"field\":\"width\",\"units\":\"data\"},\"x\":{\"field\":\"x\"},\"y\":{\"field\":\"y\"}},\"id\":\"03f95ed9-d68e-405f-a638-09593aba8173\",\"type\":\"Rect\"},{\"attributes\":{\"data_source\":{\"id\":\"9ecd2b1b-c3c1-407e-a358-be8ee944b986\",\"type\":\"ColumnDataSource\"},\"glyph\":{\"id\":\"cf6c16a5-ed30-484c-84f4-9600be1b7c22\",\"type\":\"Rect\"},\"hover_glyph\":null,\"nonselection_glyph\":null,\"selection_glyph\":null},\"id\":\"fe0f8fbd-72de-4c1f-97ca-712e569461d0\",\"type\":\"GlyphRenderer\"},{\"attributes\":{\"plot\":{\"id\":\"d00f583e-b9f2-4ea2-8d62-d58576f93a49\",\"subtype\":\"Chart\",\"type\":\"Plot\"}},\"id\":\"becac1ee-6654-444f-97fb-237f5652159c\",\"type\":\"ResizeTool\"},{\"attributes\":{\"fill_alpha\":{\"field\":\"fill_alpha\"},\"fill_color\":{\"field\":\"color\"},\"height\":{\"field\":\"height\",\"units\":\"data\"},\"line_color\":{\"field\":\"line_color\"},\"width\":{\"field\":\"width\",\"units\":\"data\"},\"x\":{\"field\":\"x\"},\"y\":{\"field\":\"y\"}},\"id\":\"00e84c5a-c3b2-47d0-996e-0a1e33a61ae8\",\"type\":\"Rect\"},{\"attributes\":{\"data_source\":{\"id\":\"973f0289-f7e0-4978-b212-e0ec95634efd\",\"type\":\"ColumnDataSource\"},\"glyph\":{\"id\":\"8d4aea70-caf6-4ff5-a558-552bcb46ab86\",\"type\":\"Rect\"},\"hover_glyph\":null,\"nonselection_glyph\":null,\"selection_glyph\":null},\"id\":\"804c1ae4-7b5f-4f98-ae6e-1ed061c5f773\",\"type\":\"GlyphRenderer\"},{\"attributes\":{\"data_source\":{\"id\":\"96f1030e-d575-4047-9f7f-ad23e8b4b250\",\"type\":\"ColumnDataSource\"},\"glyph\":{\"id\":\"48cb7a51-daae-463a-be81-91589e5e9732\",\"type\":\"Rect\"},\"hover_glyph\":null,\"nonselection_glyph\":null,\"selection_glyph\":null},\"id\":\"a1f87e3c-240d-46b3-bd98-f453fca6ccae\",\"type\":\"GlyphRenderer\"},{\"attributes\":{\"callback\":null,\"column_names\":[\"color\",\"line_color\",\"height\",\"width\",\"x\",\"fill_alpha\",\"y\",\"line_alpha\"],\"data\":{\"chart_index\":[{\"x\":1}],\"color\":[\"#f22c40\"],\"fill_alpha\":[0.8],\"height\":[1.0],\"line_alpha\":[1.0],\"line_color\":[\"white\"],\"width\":[0.8],\"x\":[1],\"y\":[0.5]}},\"id\":\"f7864e2c-61be-4933-9076-80388748bdc1\",\"type\":\"ColumnDataSource\"},{\"attributes\":{\"fill_alpha\":{\"field\":\"fill_alpha\"},\"fill_color\":{\"field\":\"color\"},\"height\":{\"field\":\"height\",\"units\":\"data\"},\"line_color\":{\"field\":\"line_color\"},\"width\":{\"field\":\"width\",\"units\":\"data\"},\"x\":{\"field\":\"x\"},\"y\":{\"field\":\"y\"}},\"id\":\"514d8717-a898-4274-9c87-6a208580b287\",\"type\":\"Rect\"},{\"attributes\":{\"data_source\":{\"id\":\"aa1f5f78-c659-41fe-8c04-7ad03d88aedc\",\"type\":\"ColumnDataSource\"},\"glyph\":{\"id\":\"63951f4d-891e-47cd-926a-aca0f310b069\",\"type\":\"Rect\"},\"hover_glyph\":null,\"nonselection_glyph\":null,\"selection_glyph\":null},\"id\":\"9877bf72-d45b-46d0-a424-dd52a80b35d5\",\"type\":\"GlyphRenderer\"},{\"attributes\":{\"callback\":null,\"column_names\":[\"color\",\"line_color\",\"height\",\"width\",\"x\",\"fill_alpha\",\"y\",\"line_alpha\"],\"data\":{\"chart_index\":[{\"x\":14}],\"color\":[\"#f22c40\"],\"fill_alpha\":[0.8],\"height\":[14.0],\"line_alpha\":[1.0],\"line_color\":[\"white\"],\"width\":[0.8],\"x\":[14],\"y\":[7.0]}},\"id\":\"bc217606-70df-4276-b3a0-b8c0c762db85\",\"type\":\"ColumnDataSource\"},{\"attributes\":{\"data_source\":{\"id\":\"f9a68fde-d3bf-4214-b6ef-ea264964d6fd\",\"type\":\"ColumnDataSource\"},\"glyph\":{\"id\":\"e4ad32fd-db50-4f23-a472-a67870672170\",\"type\":\"Rect\"},\"hover_glyph\":null,\"nonselection_glyph\":null,\"selection_glyph\":null},\"id\":\"b7908eea-3936-4e01-aa1a-30201dd1b3f0\",\"type\":\"GlyphRenderer\"},{\"attributes\":{\"fill_alpha\":{\"field\":\"fill_alpha\"},\"fill_color\":{\"field\":\"color\"},\"height\":{\"field\":\"height\",\"units\":\"data\"},\"line_color\":{\"field\":\"line_color\"},\"width\":{\"field\":\"width\",\"units\":\"data\"},\"x\":{\"field\":\"x\"},\"y\":{\"field\":\"y\"}},\"id\":\"be75e484-2779-4f7e-ab55-8aa2f8736ab8\",\"type\":\"Rect\"},{\"attributes\":{\"callback\":null,\"column_names\":[\"color\",\"line_color\",\"height\",\"width\",\"x\",\"fill_alpha\",\"y\",\"line_alpha\"],\"data\":{\"chart_index\":[{\"x\":13}],\"color\":[\"#f22c40\"],\"fill_alpha\":[0.8],\"height\":[13.0],\"line_alpha\":[1.0],\"line_color\":[\"white\"],\"width\":[0.8],\"x\":[13],\"y\":[6.5]}},\"id\":\"0f8aa8bd-67dd-4d7b-8b96-2ccf32b467e7\",\"type\":\"ColumnDataSource\"},{\"attributes\":{\"fill_alpha\":{\"field\":\"fill_alpha\"},\"fill_color\":{\"field\":\"color\"},\"height\":{\"field\":\"height\",\"units\":\"data\"},\"line_color\":{\"field\":\"line_color\"},\"width\":{\"field\":\"width\",\"units\":\"data\"},\"x\":{\"field\":\"x\"},\"y\":{\"field\":\"y\"}},\"id\":\"c6fdf657-06cd-45f0-acc8-b87a43e9f703\",\"type\":\"Rect\"},{\"attributes\":{\"callback\":null,\"column_names\":[\"color\",\"line_color\",\"height\",\"width\",\"x\",\"fill_alpha\",\"y\",\"line_alpha\"],\"data\":{\"chart_index\":[{\"x\":16}],\"color\":[\"#f22c40\"],\"fill_alpha\":[0.8],\"height\":[16.0],\"line_alpha\":[1.0],\"line_color\":[\"white\"],\"width\":[0.8],\"x\":[16],\"y\":[8.0]}},\"id\":\"55581c09-db5c-47b6-bc22-3e2aa2877440\",\"type\":\"ColumnDataSource\"},{\"attributes\":{\"callback\":null,\"column_names\":[\"color\",\"line_color\",\"height\",\"width\",\"x\",\"fill_alpha\",\"y\",\"line_alpha\"],\"data\":{\"chart_index\":[{\"x\":3}],\"color\":[\"#f22c40\"],\"fill_alpha\":[0.8],\"height\":[3.0],\"line_alpha\":[1.0],\"line_color\":[\"white\"],\"width\":[0.8],\"x\":[3],\"y\":[1.5]}},\"id\":\"6570913c-4d6e-4bc7-8535-5f063cc07fd3\",\"type\":\"ColumnDataSource\"},{\"attributes\":{\"fill_alpha\":{\"field\":\"fill_alpha\"},\"fill_color\":{\"field\":\"color\"},\"height\":{\"field\":\"height\",\"units\":\"data\"},\"line_color\":{\"field\":\"line_color\"},\"width\":{\"field\":\"width\",\"units\":\"data\"},\"x\":{\"field\":\"x\"},\"y\":{\"field\":\"y\"}},\"id\":\"8f5db466-c70d-48cd-be45-0c167f411df2\",\"type\":\"Rect\"},{\"attributes\":{\"callback\":null,\"column_names\":[\"color\",\"line_color\",\"height\",\"width\",\"x\",\"fill_alpha\",\"y\",\"line_alpha\"],\"data\":{\"chart_index\":[{\"x\":9}],\"color\":[\"#f22c40\"],\"fill_alpha\":[0.8],\"height\":[9.0],\"line_alpha\":[1.0],\"line_color\":[\"white\"],\"width\":[0.8],\"x\":[9],\"y\":[4.5]}},\"id\":\"2ab0d82e-f95f-476f-806c-01104983ac76\",\"type\":\"ColumnDataSource\"},{\"attributes\":{\"fill_alpha\":{\"field\":\"fill_alpha\"},\"fill_color\":{\"field\":\"color\"},\"height\":{\"field\":\"height\",\"units\":\"data\"},\"line_color\":{\"field\":\"line_color\"},\"width\":{\"field\":\"width\",\"units\":\"data\"},\"x\":{\"field\":\"x\"},\"y\":{\"field\":\"y\"}},\"id\":\"1775b1ed-5d8b-42f7-a6b4-ddaa090e5f09\",\"type\":\"Rect\"},{\"attributes\":{\"callback\":null,\"column_names\":[\"color\",\"line_color\",\"height\",\"width\",\"x\",\"fill_alpha\",\"y\",\"line_alpha\"],\"data\":{\"chart_index\":[{\"x\":0}],\"color\":[\"#f22c40\"],\"fill_alpha\":[0.8],\"height\":[0.0],\"line_alpha\":[1.0],\"line_color\":[\"white\"],\"width\":[0.8],\"x\":[0],\"y\":[0.0]}},\"id\":\"753c0e8d-caad-4871-83bb-895a05863bd1\",\"type\":\"ColumnDataSource\"},{\"attributes\":{\"fill_alpha\":{\"field\":\"fill_alpha\"},\"fill_color\":{\"field\":\"color\"},\"height\":{\"field\":\"height\",\"units\":\"data\"},\"line_color\":{\"field\":\"line_color\"},\"width\":{\"field\":\"width\",\"units\":\"data\"},\"x\":{\"field\":\"x\"},\"y\":{\"field\":\"y\"}},\"id\":\"e765c0a2-831c-4808-bda1-a75be2399635\",\"type\":\"Rect\"},{\"attributes\":{\"data_source\":{\"id\":\"f7864e2c-61be-4933-9076-80388748bdc1\",\"type\":\"ColumnDataSource\"},\"glyph\":{\"id\":\"00e84c5a-c3b2-47d0-996e-0a1e33a61ae8\",\"type\":\"Rect\"},\"hover_glyph\":null,\"nonselection_glyph\":null,\"selection_glyph\":null},\"id\":\"b6efcc0b-cc49-4baf-9f27-a7157e0afe28\",\"type\":\"GlyphRenderer\"},{\"attributes\":{\"dimension\":1,\"plot\":{\"id\":\"2bf18d35-a858-4449-b12f-fd366d466bda\",\"subtype\":\"Chart\",\"type\":\"Plot\"},\"ticker\":{\"id\":\"9ecf0cbd-3b94-4153-8a6d-b6bbcd0f8258\",\"type\":\"BasicTicker\"}},\"id\":\"3f9d21f5-4623-44b4-bc44-96284ffca6ca\",\"type\":\"Grid\"},{\"attributes\":{\"data_source\":{\"id\":\"484a041b-7489-40ae-80a6-a20534e4f8e8\",\"type\":\"ColumnDataSource\"},\"glyph\":{\"id\":\"e1bba0d4-0486-4a14-ac8b-65efc56e5dae\",\"type\":\"Rect\"},\"hover_glyph\":null,\"nonselection_glyph\":null,\"selection_glyph\":null},\"id\":\"a8513373-dfe6-4c7b-b53b-581fe32ec7e4\",\"type\":\"GlyphRenderer\"},{\"attributes\":{\"fill_alpha\":{\"field\":\"fill_alpha\"},\"fill_color\":{\"field\":\"color\"},\"height\":{\"field\":\"height\",\"units\":\"data\"},\"line_color\":{\"field\":\"line_color\"},\"width\":{\"field\":\"width\",\"units\":\"data\"},\"x\":{\"field\":\"x\"},\"y\":{\"field\":\"y\"}},\"id\":\"36612eaa-820e-4dcd-9708-e605297617eb\",\"type\":\"Rect\"},{\"attributes\":{\"data_source\":{\"id\":\"eaa25800-a428-4b30-b7fb-26840b65fca6\",\"type\":\"ColumnDataSource\"},\"glyph\":{\"id\":\"4ec46815-52dc-4ac4-82b1-82e9016ccf58\",\"type\":\"Rect\"},\"hover_glyph\":null,\"nonselection_glyph\":null,\"selection_glyph\":null},\"id\":\"f60e39a5-6620-47be-96ce-886e85c4138e\",\"type\":\"GlyphRenderer\"},{\"attributes\":{\"data_source\":{\"id\":\"b04f3801-0df8-476c-ba67-eafc4cf51fcb\",\"type\":\"ColumnDataSource\"},\"glyph\":{\"id\":\"d6d80308-4d27-446e-b146-bc8ebffe3e7f\",\"type\":\"Circle\"},\"hover_glyph\":null,\"nonselection_glyph\":null,\"selection_glyph\":null},\"id\":\"5ffa71e1-ea90-45b2-8e45-f322bc4aa4d7\",\"type\":\"GlyphRenderer\"},{\"attributes\":{\"data_source\":{\"id\":\"304b60f6-200b-4f5d-85f6-9f753cd047d8\",\"type\":\"ColumnDataSource\"},\"glyph\":{\"id\":\"fbd4865a-d53f-46b4-8349-4347138d1f67\",\"type\":\"Rect\"},\"hover_glyph\":null,\"nonselection_glyph\":null,\"selection_glyph\":null},\"id\":\"b8159d21-67ed-4174-9b0d-eea0e2085e7a\",\"type\":\"GlyphRenderer\"},{\"attributes\":{\"fill_alpha\":{\"field\":\"fill_alpha\"},\"fill_color\":{\"field\":\"color\"},\"height\":{\"field\":\"height\",\"units\":\"data\"},\"line_color\":{\"field\":\"line_color\"},\"width\":{\"field\":\"width\",\"units\":\"data\"},\"x\":{\"field\":\"x\"},\"y\":{\"field\":\"y\"}},\"id\":\"087c8c4d-54f0-4cad-8307-c600b1a71760\",\"type\":\"Rect\"},{\"attributes\":{\"below\":[{\"id\":\"b8c6305a-e2d9-4d16-b06b-13c41ba6e864\",\"type\":\"LinearAxis\"}],\"left\":[{\"id\":\"390037a3-6d70-4538-8554-dd0043328c18\",\"type\":\"LinearAxis\"}],\"legend\":\"top_right\",\"renderers\":[{\"id\":\"f0b7307f-a416-4c84-995f-39dd365779c2\",\"type\":\"BoxAnnotation\"},{\"id\":\"5ffa71e1-ea90-45b2-8e45-f322bc4aa4d7\",\"type\":\"GlyphRenderer\"},{\"id\":\"e22916fe-cb80-49e4-a787-63bc95ac383a\",\"type\":\"GlyphRenderer\"},{\"id\":\"0b9e0fe5-3df1-49ae-a5ec-161fc6bcef0b\",\"type\":\"Legend\"},{\"id\":\"b8c6305a-e2d9-4d16-b06b-13c41ba6e864\",\"type\":\"LinearAxis\"},{\"id\":\"390037a3-6d70-4538-8554-dd0043328c18\",\"type\":\"LinearAxis\"},{\"id\":\"cd7aab10-d428-4fc6-a182-173d472605ee\",\"type\":\"Grid\"},{\"id\":\"3ab4fba8-7682-4076-8a77-fefa4ef0600a\",\"type\":\"Grid\"}],\"title_text_font_size\":{\"value\":\"14pt\"},\"tool_events\":{\"id\":\"1a39e375-1faf-421c-8e76-95a4437dda6a\",\"type\":\"ToolEvents\"},\"tools\":[{\"id\":\"7bd09bb0-e246-4333-88b3-367fe021a354\",\"type\":\"PanTool\"},{\"id\":\"d358e4e0-eac5-4456-b2f5-b760f27170bc\",\"type\":\"WheelZoomTool\"},{\"id\":\"487e216f-6752-44aa-998a-603bcc40ce9b\",\"type\":\"BoxZoomTool\"},{\"id\":\"05074aae-925e-410e-81c3-61e58efb8207\",\"type\":\"PreviewSaveTool\"},{\"id\":\"becac1ee-6654-444f-97fb-237f5652159c\",\"type\":\"ResizeTool\"},{\"id\":\"61e6fc16-fdc5-4b0f-8371-91d61d123409\",\"type\":\"ResetTool\"},{\"id\":\"dba8dc55-d135-4029-b8ed-6d06f0d2e575\",\"type\":\"HelpTool\"}],\"x_mapper_type\":\"auto\",\"x_range\":{\"id\":\"ba87dbaa-e25c-4364-b33e-3aba0d954097\",\"type\":\"Range1d\"},\"xscale\":\"auto\",\"y_mapper_type\":\"auto\",\"y_range\":{\"id\":\"395441f7-da7f-4068-b584-fe0115ef2768\",\"type\":\"Range1d\"},\"yscale\":\"auto\"},\"id\":\"d00f583e-b9f2-4ea2-8d62-d58576f93a49\",\"subtype\":\"Chart\",\"type\":\"Plot\"},{\"attributes\":{\"fill_alpha\":{\"field\":\"fill_alpha\"},\"fill_color\":{\"field\":\"color\"},\"height\":{\"field\":\"height\",\"units\":\"data\"},\"line_color\":{\"field\":\"line_color\"},\"width\":{\"field\":\"width\",\"units\":\"data\"},\"x\":{\"field\":\"x\"},\"y\":{\"field\":\"y\"}},\"id\":\"64b84739-f21e-4a53-95b7-492f1be92bf0\",\"type\":\"Rect\"},{\"attributes\":{\"below\":[{\"id\":\"5adbbf94-962b-4aad-a2f6-1a1c08f1c5e4\",\"type\":\"CategoricalAxis\"}],\"left\":[{\"id\":\"3475158f-31cd-4456-85e6-ea2151e030e6\",\"type\":\"LinearAxis\"}],\"legend\":null,\"renderers\":[{\"id\":\"75cddb07-ea16-436a-b3d4-c5392398edad\",\"type\":\"BoxAnnotation\"},{\"id\":\"b8159d21-67ed-4174-9b0d-eea0e2085e7a\",\"type\":\"GlyphRenderer\"},{\"id\":\"4c929d98-badf-4a57-a805-e9022e0e081d\",\"type\":\"GlyphRenderer\"},{\"id\":\"b5acdddf-054c-4931-ae4b-585982dc1b50\",\"type\":\"GlyphRenderer\"},{\"id\":\"c69b3c81-9fd9-4b4a-b8c5-e1698d637c0c\",\"type\":\"GlyphRenderer\"},{\"id\":\"9877bf72-d45b-46d0-a424-dd52a80b35d5\",\"type\":\"GlyphRenderer\"},{\"id\":\"a3213469-f3f3-4208-89b1-7d13f58f1810\",\"type\":\"GlyphRenderer\"},{\"id\":\"d4a354c7-d23c-4345-a42c-c6fc1ec947b2\",\"type\":\"GlyphRenderer\"},{\"id\":\"213b4174-fdb5-4a96-aa3c-e9c8c8e849a1\",\"type\":\"GlyphRenderer\"},{\"id\":\"4fe596e2-7308-4075-80a4-616abc893428\",\"type\":\"GlyphRenderer\"},{\"id\":\"fef3cab2-57fd-4ba4-b86a-1c2394ebf563\",\"type\":\"GlyphRenderer\"},{\"id\":\"a2035ffe-fa59-4f7a-bf63-af8be879dd76\",\"type\":\"GlyphRenderer\"},{\"id\":\"a1789627-add6-4bc4-8d00-1f46b3068165\",\"type\":\"GlyphRenderer\"},{\"id\":\"13ef54eb-ed55-4498-af51-444b535d1f63\",\"type\":\"GlyphRenderer\"},{\"id\":\"f60e39a5-6620-47be-96ce-886e85c4138e\",\"type\":\"GlyphRenderer\"},{\"id\":\"043107fd-2784-49a9-a659-11b4ffe3777b\",\"type\":\"GlyphRenderer\"},{\"id\":\"2f81a9e3-665f-473c-b22f-efdb366ae602\",\"type\":\"GlyphRenderer\"},{\"id\":\"43733469-89d9-413e-9e8f-d3aca22988fb\",\"type\":\"GlyphRenderer\"},{\"id\":\"ddd79f66-e4ea-47c9-9e73-320e5cc6de48\",\"type\":\"GlyphRenderer\"},{\"id\":\"4c47d3b1-4444-475d-b4cf-8c214b957991\",\"type\":\"GlyphRenderer\"},{\"id\":\"46cfe634-b415-47e2-be2b-98c37e11d866\",\"type\":\"GlyphRenderer\"},{\"id\":\"974eba74-1901-46ae-b3da-8e7c0e3ab51d\",\"type\":\"GlyphRenderer\"},{\"id\":\"5adbbf94-962b-4aad-a2f6-1a1c08f1c5e4\",\"type\":\"CategoricalAxis\"},{\"id\":\"3475158f-31cd-4456-85e6-ea2151e030e6\",\"type\":\"LinearAxis\"},{\"id\":\"9ac1c3ba-3901-4f66-920d-fe5a38327074\",\"type\":\"Grid\"}],\"title_text_font_size\":{\"value\":\"14pt\"},\"tool_events\":{\"id\":\"c469359b-d974-498b-86bb-c876474dbffc\",\"type\":\"ToolEvents\"},\"tools\":[{\"id\":\"4c0728aa-ba64-4b98-a2cc-fa7b7aaaa780\",\"type\":\"PanTool\"},{\"id\":\"b7587747-03e7-446e-91aa-b32d3e697f94\",\"type\":\"WheelZoomTool\"},{\"id\":\"5ba23349-2c23-43cf-b65a-9a854631b3f9\",\"type\":\"BoxZoomTool\"},{\"id\":\"1e27bcaf-e967-4b11-ad69-37b0b4a846f2\",\"type\":\"PreviewSaveTool\"},{\"id\":\"431428e4-f066-4303-9b24-1565d8db2d15\",\"type\":\"ResizeTool\"},{\"id\":\"f3fc1ea7-54f8-4993-ab72-4d555591cc1a\",\"type\":\"ResetTool\"},{\"id\":\"7794d5bb-ad76-4689-827d-2ab54e842f85\",\"type\":\"HelpTool\"}],\"x_mapper_type\":\"auto\",\"x_range\":{\"id\":\"0c6c3f1e-de31-47be-929d-11e1fd611810\",\"type\":\"FactorRange\"},\"xgrid\":false,\"xscale\":\"auto\",\"y_mapper_type\":\"auto\",\"y_range\":{\"id\":\"4750cb24-3731-47a0-b53c-1ca4c2118dee\",\"type\":\"Range1d\"},\"yscale\":\"auto\"},\"id\":\"9df36f1c-b1e5-47cf-bd02-8ca67964d13e\",\"subtype\":\"Chart\",\"type\":\"Plot\"},{\"attributes\":{\"callback\":null,\"column_names\":[\"color\",\"line_color\",\"height\",\"width\",\"x\",\"fill_alpha\",\"y\",\"line_alpha\"],\"data\":{\"chart_index\":[{\"x\":9}],\"color\":[\"#f22c40\"],\"fill_alpha\":[0.8],\"height\":[9.0],\"line_alpha\":[1.0],\"line_color\":[\"white\"],\"width\":[0.8],\"x\":[9],\"y\":[4.5]}},\"id\":\"6f94e92c-c215-4148-a5d7-c553fb827e7d\",\"type\":\"ColumnDataSource\"},{\"attributes\":{\"dimension\":1,\"plot\":{\"id\":\"9df36f1c-b1e5-47cf-bd02-8ca67964d13e\",\"subtype\":\"Chart\",\"type\":\"Plot\"},\"ticker\":{\"id\":\"c6c7571d-88b8-4871-aaf7-a379265a794c\",\"type\":\"BasicTicker\"}},\"id\":\"9ac1c3ba-3901-4f66-920d-fe5a38327074\",\"type\":\"Grid\"},{\"attributes\":{\"data_source\":{\"id\":\"00ab5d83-703d-4d60-8c58-d9843730dd57\",\"type\":\"ColumnDataSource\"},\"glyph\":{\"id\":\"320efc47-5c42-410f-be27-79268ae59803\",\"type\":\"Rect\"},\"hover_glyph\":null,\"nonselection_glyph\":null,\"selection_glyph\":null},\"id\":\"7e857c8d-5958-4e86-8ce4-c7302268786f\",\"type\":\"GlyphRenderer\"},{\"attributes\":{\"callback\":null,\"column_names\":[\"color\",\"line_color\",\"height\",\"width\",\"x\",\"fill_alpha\",\"y\",\"line_alpha\"],\"data\":{\"chart_index\":[{\"x\":1}],\"color\":[\"#f22c40\"],\"fill_alpha\":[0.8],\"height\":[1.0],\"line_alpha\":[1.0],\"line_color\":[\"white\"],\"width\":[0.8],\"x\":[1],\"y\":[0.5]}},\"id\":\"1555b0b1-ce2d-438d-a0bc-364b7a4c2c95\",\"type\":\"ColumnDataSource\"},{\"attributes\":{\"data_source\":{\"id\":\"ea4b7cd8-f0e9-41f9-aac7-a8466c236884\",\"type\":\"ColumnDataSource\"},\"glyph\":{\"id\":\"5d32e0e9-7e77-4738-9369-552b4a2d8304\",\"type\":\"Rect\"},\"hover_glyph\":null,\"nonselection_glyph\":null,\"selection_glyph\":null},\"id\":\"974eba74-1901-46ae-b3da-8e7c0e3ab51d\",\"type\":\"GlyphRenderer\"},{\"attributes\":{\"data_source\":{\"id\":\"3a608a3a-0212-4e43-b1c2-da76a44ca682\",\"type\":\"ColumnDataSource\"},\"glyph\":{\"id\":\"58e15e61-ee8c-4a65-b585-671102b01806\",\"type\":\"Rect\"},\"hover_glyph\":null,\"nonselection_glyph\":null,\"selection_glyph\":null},\"id\":\"963c634a-0ccc-468e-a8aa-ad839ee594b8\",\"type\":\"GlyphRenderer\"},{\"attributes\":{\"fill_alpha\":{\"field\":\"fill_alpha\"},\"fill_color\":{\"field\":\"color\"},\"height\":{\"field\":\"height\",\"units\":\"data\"},\"line_color\":{\"field\":\"line_color\"},\"width\":{\"field\":\"width\",\"units\":\"data\"},\"x\":{\"field\":\"x\"},\"y\":{\"field\":\"y\"}},\"id\":\"320efc47-5c42-410f-be27-79268ae59803\",\"type\":\"Rect\"},{\"attributes\":{\"callback\":null,\"column_names\":[\"color\",\"line_color\",\"height\",\"width\",\"x\",\"fill_alpha\",\"y\",\"line_alpha\"],\"data\":{\"chart_index\":[{\"x\":10}],\"color\":[\"#f22c40\"],\"fill_alpha\":[0.8],\"height\":[10.0],\"line_alpha\":[1.0],\"line_color\":[\"white\"],\"width\":[0.8],\"x\":[10],\"y\":[5.0]}},\"id\":\"b01ecf3d-a2f0-4909-8295-1a87ced509c6\",\"type\":\"ColumnDataSource\"},{\"attributes\":{\"callback\":null,\"column_names\":[\"color\",\"line_color\",\"height\",\"width\",\"x\",\"fill_alpha\",\"y\",\"line_alpha\"],\"data\":{\"chart_index\":[{\"x\":6}],\"color\":[\"#f22c40\"],\"fill_alpha\":[0.8],\"height\":[6.0],\"line_alpha\":[1.0],\"line_color\":[\"white\"],\"width\":[0.8],\"x\":[6],\"y\":[3.0]}},\"id\":\"55935138-5a75-49cd-a24c-46181aad579a\",\"type\":\"ColumnDataSource\"},{\"attributes\":{\"data_source\":{\"id\":\"1ed1ad7c-79c0-469d-bdda-880ec8c27068\",\"type\":\"ColumnDataSource\"},\"glyph\":{\"id\":\"ff83a63c-844e-41dc-9179-3051ea87bfb1\",\"type\":\"Rect\"},\"hover_glyph\":null,\"nonselection_glyph\":null,\"selection_glyph\":null},\"id\":\"e8b00d50-d2d3-4425-be2b-251191e979b1\",\"type\":\"GlyphRenderer\"},{\"attributes\":{\"callback\":null,\"end\":21.0},\"id\":\"08f3f578-1b70-4e9d-b7aa-8dd647a51854\",\"type\":\"Range1d\"},{\"attributes\":{\"callback\":null,\"column_names\":[\"color\",\"line_color\",\"height\",\"width\",\"x\",\"fill_alpha\",\"y\",\"line_alpha\"],\"data\":{\"chart_index\":[{\"x\":8}],\"color\":[\"#f22c40\"],\"fill_alpha\":[0.8],\"height\":[8.0],\"line_alpha\":[1.0],\"line_color\":[\"white\"],\"width\":[0.8],\"x\":[8],\"y\":[4.0]}},\"id\":\"a4458a96-8f82-48a3-9988-df74b79db011\",\"type\":\"ColumnDataSource\"},{\"attributes\":{\"callback\":null,\"column_names\":[\"color\",\"line_color\",\"height\",\"width\",\"x\",\"fill_alpha\",\"y\",\"line_alpha\"],\"data\":{\"chart_index\":[{\"x\":12}],\"color\":[\"#f22c40\"],\"fill_alpha\":[0.8],\"height\":[12.0],\"line_alpha\":[1.0],\"line_color\":[\"white\"],\"width\":[0.8],\"x\":[12],\"y\":[6.0]}},\"id\":\"6c68f6be-703b-4ab7-b3c4-238da45dcb7b\",\"type\":\"ColumnDataSource\"},{\"attributes\":{\"data_source\":{\"id\":\"2673e030-64d0-416d-b4b3-8aedf8bd8b23\",\"type\":\"ColumnDataSource\"},\"glyph\":{\"id\":\"087c8c4d-54f0-4cad-8307-c600b1a71760\",\"type\":\"Rect\"},\"hover_glyph\":null,\"nonselection_glyph\":null,\"selection_glyph\":null},\"id\":\"a3213469-f3f3-4208-89b1-7d13f58f1810\",\"type\":\"GlyphRenderer\"},{\"attributes\":{},\"id\":\"e4b244ab-866c-4273-9276-da537c289fcf\",\"type\":\"BasicTicker\"},{\"attributes\":{},\"id\":\"6db3a2b5-01c0-4bf6-b7f8-0df0b9f0b24c\",\"type\":\"BasicTickFormatter\"},{\"attributes\":{\"callback\":null,\"column_names\":[\"color\",\"line_color\",\"height\",\"width\",\"x\",\"fill_alpha\",\"y\",\"line_alpha\"],\"data\":{\"chart_index\":[{\"x\":10}],\"color\":[\"#f22c40\"],\"fill_alpha\":[0.8],\"height\":[10.0],\"line_alpha\":[1.0],\"line_color\":[\"white\"],\"width\":[0.8],\"x\":[10],\"y\":[5.0]}},\"id\":\"dcd77144-a3d9-41ed-b087-df20d7bc8209\",\"type\":\"ColumnDataSource\"},{\"attributes\":{\"callback\":null,\"column_names\":[\"color\",\"line_color\",\"height\",\"width\",\"x\",\"fill_alpha\",\"y\",\"line_alpha\"],\"data\":{\"chart_index\":[{\"x\":7}],\"color\":[\"#f22c40\"],\"fill_alpha\":[0.8],\"height\":[7.0],\"line_alpha\":[1.0],\"line_color\":[\"white\"],\"width\":[0.8],\"x\":[7],\"y\":[3.5]}},\"id\":\"cbaa2739-9374-4eb5-a4ab-43df296cfbb5\",\"type\":\"ColumnDataSource\"},{\"attributes\":{\"data_source\":{\"id\":\"ca8b1a29-04de-42ef-aeea-82756cd2c7ce\",\"type\":\"ColumnDataSource\"},\"glyph\":{\"id\":\"03f95ed9-d68e-405f-a638-09593aba8173\",\"type\":\"Rect\"},\"hover_glyph\":null,\"nonselection_glyph\":null,\"selection_glyph\":null},\"id\":\"213b4174-fdb5-4a96-aa3c-e9c8c8e849a1\",\"type\":\"GlyphRenderer\"},{\"attributes\":{\"data_source\":{\"id\":\"55935138-5a75-49cd-a24c-46181aad579a\",\"type\":\"ColumnDataSource\"},\"glyph\":{\"id\":\"1a561b72-b1c6-403e-8ace-50048c603264\",\"type\":\"Rect\"},\"hover_glyph\":null,\"nonselection_glyph\":null,\"selection_glyph\":null},\"id\":\"8b6c5048-5aa0-4c20-8b46-c39b551f0299\",\"type\":\"GlyphRenderer\"},{\"attributes\":{\"data_source\":{\"id\":\"bc217606-70df-4276-b3a0-b8c0c762db85\",\"type\":\"ColumnDataSource\"},\"glyph\":{\"id\":\"06b426b9-329b-4f20-92b0-331fa3471fa3\",\"type\":\"Rect\"},\"hover_glyph\":null,\"nonselection_glyph\":null,\"selection_glyph\":null},\"id\":\"bf48657f-cfad-4b99-8fe0-9e075449214c\",\"type\":\"GlyphRenderer\"},{\"attributes\":{},\"id\":\"9ecf0cbd-3b94-4153-8a6d-b6bbcd0f8258\",\"type\":\"BasicTicker\"},{\"attributes\":{\"fill_alpha\":{\"field\":\"fill_alpha\"},\"fill_color\":{\"field\":\"color\"},\"height\":{\"field\":\"height\",\"units\":\"data\"},\"line_color\":{\"field\":\"line_color\"},\"width\":{\"field\":\"width\",\"units\":\"data\"},\"x\":{\"field\":\"x\"},\"y\":{\"field\":\"y\"}},\"id\":\"fbd4865a-d53f-46b4-8349-4347138d1f67\",\"type\":\"Rect\"},{\"attributes\":{\"fill_alpha\":{\"field\":\"fill_alpha\"},\"fill_color\":{\"field\":\"color\"},\"height\":{\"field\":\"height\",\"units\":\"data\"},\"line_color\":{\"field\":\"line_color\"},\"width\":{\"field\":\"width\",\"units\":\"data\"},\"x\":{\"field\":\"x\"},\"y\":{\"field\":\"y\"}},\"id\":\"4ec46815-52dc-4ac4-82b1-82e9016ccf58\",\"type\":\"Rect\"},{\"attributes\":{\"callback\":null,\"end\":7.7,\"start\":-0.7000000000000001},\"id\":\"ba87dbaa-e25c-4364-b33e-3aba0d954097\",\"type\":\"Range1d\"},{\"attributes\":{\"data_source\":{\"id\":\"fb10e7e0-6f8f-401c-8dd8-a5edd8f2396c\",\"type\":\"ColumnDataSource\"},\"glyph\":{\"id\":\"ec795310-ef3b-4db9-83de-5fd21aa94997\",\"type\":\"Rect\"},\"hover_glyph\":null,\"nonselection_glyph\":null,\"selection_glyph\":null},\"id\":\"043107fd-2784-49a9-a659-11b4ffe3777b\",\"type\":\"GlyphRenderer\"},{\"attributes\":{\"callback\":null,\"column_names\":[\"color\",\"line_color\",\"height\",\"width\",\"x\",\"fill_alpha\",\"y\",\"line_alpha\"],\"data\":{\"chart_index\":[{\"x\":13}],\"color\":[\"#f22c40\"],\"fill_alpha\":[0.8],\"height\":[13.0],\"line_alpha\":[1.0],\"line_color\":[\"white\"],\"width\":[0.8],\"x\":[13],\"y\":[6.5]}},\"id\":\"eaa25800-a428-4b30-b7fb-26840b65fca6\",\"type\":\"ColumnDataSource\"},{\"attributes\":{\"fill_alpha\":{\"field\":\"fill_alpha\"},\"fill_color\":{\"field\":\"color\"},\"height\":{\"field\":\"height\",\"units\":\"data\"},\"line_color\":{\"field\":\"line_color\"},\"width\":{\"field\":\"width\",\"units\":\"data\"},\"x\":{\"field\":\"x\"},\"y\":{\"field\":\"y\"}},\"id\":\"48cb7a51-daae-463a-be81-91589e5e9732\",\"type\":\"Rect\"},{\"attributes\":{\"callback\":null,\"column_names\":[\"color\",\"line_color\",\"height\",\"width\",\"x\",\"fill_alpha\",\"y\",\"line_alpha\"],\"data\":{\"chart_index\":[{\"x\":8}],\"color\":[\"#f22c40\"],\"fill_alpha\":[0.8],\"height\":[8.0],\"line_alpha\":[1.0],\"line_color\":[\"white\"],\"width\":[0.8],\"x\":[8],\"y\":[4.0]}},\"id\":\"4b2cf064-9cb9-4d25-bdc4-ef87918c4bfb\",\"type\":\"ColumnDataSource\"},{\"attributes\":{\"data_source\":{\"id\":\"b6b86d4b-9cdc-4d87-b9c0-f4596f023cab\",\"type\":\"ColumnDataSource\"},\"glyph\":{\"id\":\"1fa7388c-d142-4e33-aff3-7cc322cfc424\",\"type\":\"Rect\"},\"hover_glyph\":null,\"nonselection_glyph\":null,\"selection_glyph\":null},\"id\":\"b5acdddf-054c-4931-ae4b-585982dc1b50\",\"type\":\"GlyphRenderer\"},{\"attributes\":{\"fill_alpha\":{\"value\":0.7},\"fill_color\":{\"value\":\"#5ab738\"},\"line_color\":{\"value\":\"#5ab738\"},\"size\":{\"units\":\"screen\",\"value\":8},\"x\":{\"field\":\"x_values\"},\"y\":{\"field\":\"y_values\"}},\"id\":\"262819f5-6321-4fd2-a4bd-a268be5a75cf\",\"type\":\"Circle\"},{\"attributes\":{\"plot\":{\"id\":\"9df36f1c-b1e5-47cf-bd02-8ca67964d13e\",\"subtype\":\"Chart\",\"type\":\"Plot\"}},\"id\":\"1e27bcaf-e967-4b11-ad69-37b0b4a846f2\",\"type\":\"PreviewSaveTool\"},{\"attributes\":{\"fill_alpha\":{\"field\":\"fill_alpha\"},\"fill_color\":{\"field\":\"color\"},\"height\":{\"field\":\"height\",\"units\":\"data\"},\"line_color\":{\"field\":\"line_color\"},\"width\":{\"field\":\"width\",\"units\":\"data\"},\"x\":{\"field\":\"x\"},\"y\":{\"field\":\"y\"}},\"id\":\"6e5be99a-0db5-46a5-b2c5-68662ac11a1f\",\"type\":\"Rect\"},{\"attributes\":{\"fill_alpha\":{\"field\":\"fill_alpha\"},\"fill_color\":{\"field\":\"color\"},\"height\":{\"field\":\"height\",\"units\":\"data\"},\"line_color\":{\"field\":\"line_color\"},\"width\":{\"field\":\"width\",\"units\":\"data\"},\"x\":{\"field\":\"x\"},\"y\":{\"field\":\"y\"}},\"id\":\"59c533f1-feff-41db-8e6f-0096c33f5638\",\"type\":\"Rect\"},{\"attributes\":{},\"id\":\"04bc55e4-926d-46d5-ab79-168a3182434b\",\"type\":\"BasicTickFormatter\"},{\"attributes\":{\"callback\":null,\"column_names\":[\"color\",\"line_color\",\"height\",\"width\",\"x\",\"fill_alpha\",\"y\",\"line_alpha\"],\"data\":{\"chart_index\":[{\"x\":0}],\"color\":[\"#f22c40\"],\"fill_alpha\":[0.8],\"height\":[0.0],\"line_alpha\":[1.0],\"line_color\":[\"white\"],\"width\":[0.8],\"x\":[0],\"y\":[0.0]}},\"id\":\"304b60f6-200b-4f5d-85f6-9f753cd047d8\",\"type\":\"ColumnDataSource\"},{\"attributes\":{\"fill_alpha\":{\"field\":\"fill_alpha\"},\"fill_color\":{\"field\":\"color\"},\"height\":{\"field\":\"height\",\"units\":\"data\"},\"line_color\":{\"field\":\"line_color\"},\"width\":{\"field\":\"width\",\"units\":\"data\"},\"x\":{\"field\":\"x\"},\"y\":{\"field\":\"y\"}},\"id\":\"6ee96cd7-8548-4d5c-869f-151f7f27b99e\",\"type\":\"Rect\"},{\"attributes\":{\"fill_alpha\":{\"field\":\"fill_alpha\"},\"fill_color\":{\"field\":\"color\"},\"height\":{\"field\":\"height\",\"units\":\"data\"},\"line_color\":{\"field\":\"line_color\"},\"width\":{\"field\":\"width\",\"units\":\"data\"},\"x\":{\"field\":\"x\"},\"y\":{\"field\":\"y\"}},\"id\":\"5d32e0e9-7e77-4738-9369-552b4a2d8304\",\"type\":\"Rect\"},{\"attributes\":{\"data_source\":{\"id\":\"3b08dd2b-6e21-47bb-bfee-7f1ec1bb65aa\",\"type\":\"ColumnDataSource\"},\"glyph\":{\"id\":\"3e4f3f67-cc3a-45a5-b088-6cfba592c415\",\"type\":\"Rect\"},\"hover_glyph\":null,\"nonselection_glyph\":null,\"selection_glyph\":null},\"id\":\"2f81a9e3-665f-473c-b22f-efdb366ae602\",\"type\":\"GlyphRenderer\"},{\"attributes\":{\"callback\":null,\"column_names\":[\"y_values\",\"x_values\"],\"data\":{\"S\":[\"B\",\"B\",\"B\",\"B\",\"B\",\"B\",\"B\",\"B\"],\"chart_index\":[{\"S\":\"B\"},{\"S\":\"B\"},{\"S\":\"B\"},{\"S\":\"B\"},{\"S\":\"B\"},{\"S\":\"B\"},{\"S\":\"B\"},{\"S\":\"B\"}],\"x_values\":[0,1,2,3,4,5,6,7],\"y_values\":[3,1,2,3,3,3,2,1]}},\"id\":\"8997144a-dc86-47b6-b395-a657341b599e\",\"type\":\"ColumnDataSource\"},{\"attributes\":{\"overlay\":{\"id\":\"75cddb07-ea16-436a-b3d4-c5392398edad\",\"type\":\"BoxAnnotation\"},\"plot\":{\"id\":\"9df36f1c-b1e5-47cf-bd02-8ca67964d13e\",\"subtype\":\"Chart\",\"type\":\"Plot\"}},\"id\":\"5ba23349-2c23-43cf-b65a-9a854631b3f9\",\"type\":\"BoxZoomTool\"},{\"attributes\":{\"fill_alpha\":{\"field\":\"fill_alpha\"},\"fill_color\":{\"field\":\"color\"},\"height\":{\"field\":\"height\",\"units\":\"data\"},\"line_color\":{\"field\":\"line_color\"},\"width\":{\"field\":\"width\",\"units\":\"data\"},\"x\":{\"field\":\"x\"},\"y\":{\"field\":\"y\"}},\"id\":\"ff83a63c-844e-41dc-9179-3051ea87bfb1\",\"type\":\"Rect\"},{\"attributes\":{\"data_source\":{\"id\":\"6c68f6be-703b-4ab7-b3c4-238da45dcb7b\",\"type\":\"ColumnDataSource\"},\"glyph\":{\"id\":\"12bedaba-67ee-4837-b743-a3d8929f380a\",\"type\":\"Rect\"},\"hover_glyph\":null,\"nonselection_glyph\":null,\"selection_glyph\":null},\"id\":\"13ef54eb-ed55-4498-af51-444b535d1f63\",\"type\":\"GlyphRenderer\"},{\"attributes\":{\"callback\":null,\"column_names\":[\"color\",\"line_color\",\"height\",\"width\",\"x\",\"fill_alpha\",\"y\",\"line_alpha\"],\"data\":{\"chart_index\":[{\"x\":3}],\"color\":[\"#f22c40\"],\"fill_alpha\":[0.8],\"height\":[3.0],\"line_alpha\":[1.0],\"line_color\":[\"white\"],\"width\":[0.8],\"x\":[3],\"y\":[1.5]}},\"id\":\"ea0b4641-cbb7-4941-98ee-7910f2a55981\",\"type\":\"ColumnDataSource\"},{\"attributes\":{\"axis_label\":\"Y\",\"formatter\":{\"id\":\"6db3a2b5-01c0-4bf6-b7f8-0df0b9f0b24c\",\"type\":\"BasicTickFormatter\"},\"plot\":{\"id\":\"d00f583e-b9f2-4ea2-8d62-d58576f93a49\",\"subtype\":\"Chart\",\"type\":\"Plot\"},\"ticker\":{\"id\":\"ce01eaeb-a42d-47db-9bcf-1e5f17c89cd5\",\"type\":\"BasicTicker\"}},\"id\":\"390037a3-6d70-4538-8554-dd0043328c18\",\"type\":\"LinearAxis\"},{\"attributes\":{\"fill_alpha\":{\"field\":\"fill_alpha\"},\"fill_color\":{\"field\":\"color\"},\"height\":{\"field\":\"height\",\"units\":\"data\"},\"line_color\":{\"field\":\"line_color\"},\"width\":{\"field\":\"width\",\"units\":\"data\"},\"x\":{\"field\":\"x\"},\"y\":{\"field\":\"y\"}},\"id\":\"e1bba0d4-0486-4a14-ac8b-65efc56e5dae\",\"type\":\"Rect\"},{\"attributes\":{\"callback\":null,\"column_names\":[\"color\",\"line_color\",\"height\",\"width\",\"x\",\"fill_alpha\",\"y\",\"line_alpha\"],\"data\":{\"chart_index\":[{\"x\":11}],\"color\":[\"#f22c40\"],\"fill_alpha\":[0.8],\"height\":[11.0],\"line_alpha\":[1.0],\"line_color\":[\"white\"],\"width\":[0.8],\"x\":[11],\"y\":[5.5]}},\"id\":\"e442a2c2-b8ba-4a67-9cad-30cc104fbcee\",\"type\":\"ColumnDataSource\"},{\"attributes\":{\"fill_alpha\":{\"field\":\"fill_alpha\"},\"fill_color\":{\"field\":\"color\"},\"height\":{\"field\":\"height\",\"units\":\"data\"},\"line_color\":{\"field\":\"line_color\"},\"width\":{\"field\":\"width\",\"units\":\"data\"},\"x\":{\"field\":\"x\"},\"y\":{\"field\":\"y\"}},\"id\":\"63951f4d-891e-47cd-926a-aca0f310b069\",\"type\":\"Rect\"},{\"attributes\":{},\"id\":\"c469359b-d974-498b-86bb-c876474dbffc\",\"type\":\"ToolEvents\"},{\"attributes\":{\"data_source\":{\"id\":\"55581c09-db5c-47b6-bc22-3e2aa2877440\",\"type\":\"ColumnDataSource\"},\"glyph\":{\"id\":\"36612eaa-820e-4dcd-9708-e605297617eb\",\"type\":\"Rect\"},\"hover_glyph\":null,\"nonselection_glyph\":null,\"selection_glyph\":null},\"id\":\"43733469-89d9-413e-9e8f-d3aca22988fb\",\"type\":\"GlyphRenderer\"},{\"attributes\":{\"fill_alpha\":{\"field\":\"fill_alpha\"},\"fill_color\":{\"field\":\"color\"},\"height\":{\"field\":\"height\",\"units\":\"data\"},\"line_color\":{\"field\":\"line_color\"},\"width\":{\"field\":\"width\",\"units\":\"data\"},\"x\":{\"field\":\"x\"},\"y\":{\"field\":\"y\"}},\"id\":\"ec795310-ef3b-4db9-83de-5fd21aa94997\",\"type\":\"Rect\"},{\"attributes\":{\"data_source\":{\"id\":\"1555b0b1-ce2d-438d-a0bc-364b7a4c2c95\",\"type\":\"ColumnDataSource\"},\"glyph\":{\"id\":\"6e5be99a-0db5-46a5-b2c5-68662ac11a1f\",\"type\":\"Rect\"},\"hover_glyph\":null,\"nonselection_glyph\":null,\"selection_glyph\":null},\"id\":\"4c929d98-badf-4a57-a805-e9022e0e081d\",\"type\":\"GlyphRenderer\"},{\"attributes\":{\"fill_alpha\":{\"field\":\"fill_alpha\"},\"fill_color\":{\"field\":\"color\"},\"height\":{\"field\":\"height\",\"units\":\"data\"},\"line_color\":{\"field\":\"line_color\"},\"width\":{\"field\":\"width\",\"units\":\"data\"},\"x\":{\"field\":\"x\"},\"y\":{\"field\":\"y\"}},\"id\":\"58e15e61-ee8c-4a65-b585-671102b01806\",\"type\":\"Rect\"},{\"attributes\":{\"data_source\":{\"id\":\"91292b1e-5743-4054-8171-d86cead42835\",\"type\":\"ColumnDataSource\"},\"glyph\":{\"id\":\"514d8717-a898-4274-9c87-6a208580b287\",\"type\":\"Rect\"},\"hover_glyph\":null,\"nonselection_glyph\":null,\"selection_glyph\":null},\"id\":\"46cfe634-b415-47e2-be2b-98c37e11d866\",\"type\":\"GlyphRenderer\"},{\"attributes\":{\"dimension\":1,\"plot\":{\"id\":\"d00f583e-b9f2-4ea2-8d62-d58576f93a49\",\"subtype\":\"Chart\",\"type\":\"Plot\"},\"ticker\":{\"id\":\"ce01eaeb-a42d-47db-9bcf-1e5f17c89cd5\",\"type\":\"BasicTicker\"}},\"id\":\"3ab4fba8-7682-4076-8a77-fefa4ef0600a\",\"type\":\"Grid\"},{\"attributes\":{},\"id\":\"13136558-1ef1-4cbf-9216-269744bded97\",\"type\":\"CategoricalTicker\"},{\"attributes\":{\"callback\":null,\"column_names\":[\"color\",\"line_color\",\"height\",\"width\",\"x\",\"fill_alpha\",\"y\",\"line_alpha\"],\"data\":{\"chart_index\":[{\"x\":15}],\"color\":[\"#f22c40\"],\"fill_alpha\":[0.8],\"height\":[15.0],\"line_alpha\":[1.0],\"line_color\":[\"white\"],\"width\":[0.8],\"x\":[15],\"y\":[7.5]}},\"id\":\"3b08dd2b-6e21-47bb-bfee-7f1ec1bb65aa\",\"type\":\"ColumnDataSource\"},{\"attributes\":{\"data_source\":{\"id\":\"4b2cf064-9cb9-4d25-bdc4-ef87918c4bfb\",\"type\":\"ColumnDataSource\"},\"glyph\":{\"id\":\"64b84739-f21e-4a53-95b7-492f1be92bf0\",\"type\":\"Rect\"},\"hover_glyph\":null,\"nonselection_glyph\":null,\"selection_glyph\":null},\"id\":\"4fe596e2-7308-4075-80a4-616abc893428\",\"type\":\"GlyphRenderer\"},{\"attributes\":{\"data_source\":{\"id\":\"fe0580cf-ec03-4206-910b-11e85c58633f\",\"type\":\"ColumnDataSource\"},\"glyph\":{\"id\":\"de4dcb13-1604-49c4-8e34-5d7bf9039a9b\",\"type\":\"Rect\"},\"hover_glyph\":null,\"nonselection_glyph\":null,\"selection_glyph\":null},\"id\":\"ddd79f66-e4ea-47c9-9e73-320e5cc6de48\",\"type\":\"GlyphRenderer\"},{\"attributes\":{\"callback\":null,\"column_names\":[\"color\",\"line_color\",\"height\",\"width\",\"x\",\"fill_alpha\",\"y\",\"line_alpha\"],\"data\":{\"chart_index\":[{\"x\":15}],\"color\":[\"#f22c40\"],\"fill_alpha\":[0.8],\"height\":[15.0],\"line_alpha\":[1.0],\"line_color\":[\"white\"],\"width\":[0.8],\"x\":[15],\"y\":[7.5]}},\"id\":\"1ed1ad7c-79c0-469d-bdda-880ec8c27068\",\"type\":\"ColumnDataSource\"},{\"attributes\":{\"data_source\":{\"id\":\"cbaa2739-9374-4eb5-a4ab-43df296cfbb5\",\"type\":\"ColumnDataSource\"},\"glyph\":{\"id\":\"d5edb015-071c-4a80-808f-916a848dbbfb\",\"type\":\"Rect\"},\"hover_glyph\":null,\"nonselection_glyph\":null,\"selection_glyph\":null},\"id\":\"899396fd-0085-4965-984a-676362621d72\",\"type\":\"GlyphRenderer\"},{\"attributes\":{\"callback\":null,\"column_names\":[\"color\",\"line_color\",\"height\",\"width\",\"x\",\"fill_alpha\",\"y\",\"line_alpha\"],\"data\":{\"chart_index\":[{\"x\":2}],\"color\":[\"#f22c40\"],\"fill_alpha\":[0.8],\"height\":[2.0],\"line_alpha\":[1.0],\"line_color\":[\"white\"],\"width\":[0.8],\"x\":[2],\"y\":[1.0]}},\"id\":\"00ab5d83-703d-4d60-8c58-d9843730dd57\",\"type\":\"ColumnDataSource\"},{\"attributes\":{\"bottom_units\":\"screen\",\"fill_alpha\":{\"value\":0.5},\"fill_color\":{\"value\":\"lightgrey\"},\"left_units\":\"screen\",\"level\":\"overlay\",\"line_alpha\":{\"value\":1.0},\"line_color\":{\"value\":\"black\"},\"line_dash\":[4,4],\"line_width\":{\"value\":2},\"plot\":null,\"render_mode\":\"css\",\"right_units\":\"screen\",\"top_units\":\"screen\"},\"id\":\"f0b7307f-a416-4c84-995f-39dd365779c2\",\"type\":\"BoxAnnotation\"},{\"attributes\":{\"data_source\":{\"id\":\"b01ecf3d-a2f0-4909-8295-1a87ced509c6\",\"type\":\"ColumnDataSource\"},\"glyph\":{\"id\":\"be75e484-2779-4f7e-ab55-8aa2f8736ab8\",\"type\":\"Rect\"},\"hover_glyph\":null,\"nonselection_glyph\":null,\"selection_glyph\":null},\"id\":\"1fb6381f-c512-4aa4-807f-611d8e4adf45\",\"type\":\"GlyphRenderer\"},{\"attributes\":{\"callback\":null,\"factors\":[\"0\",\"1\",\"2\",\"3\",\"4\",\"5\",\"6\",\"7\",\"8\",\"9\",\"10\",\"11\",\"12\",\"13\",\"14\",\"15\",\"16\",\"17\",\"18\",\"19\",\"20\"]},\"id\":\"0c6c3f1e-de31-47be-929d-11e1fd611810\",\"type\":\"FactorRange\"},{\"attributes\":{\"callback\":null,\"end\":21.0},\"id\":\"4750cb24-3731-47a0-b53c-1ca4c2118dee\",\"type\":\"Range1d\"},{\"attributes\":{\"callback\":null,\"end\":3.2,\"start\":0.8},\"id\":\"395441f7-da7f-4068-b584-fe0115ef2768\",\"type\":\"Range1d\"},{\"attributes\":{\"data_source\":{\"id\":\"ea0b4641-cbb7-4941-98ee-7910f2a55981\",\"type\":\"ColumnDataSource\"},\"glyph\":{\"id\":\"94f187e6-c550-419b-9b3c-ffeee0ae430f\",\"type\":\"Rect\"},\"hover_glyph\":null,\"nonselection_glyph\":null,\"selection_glyph\":null},\"id\":\"c90d6b2e-e333-40f5-afad-00a5f70d94ab\",\"type\":\"GlyphRenderer\"},{\"attributes\":{\"data_source\":{\"id\":\"e442a2c2-b8ba-4a67-9cad-30cc104fbcee\",\"type\":\"ColumnDataSource\"},\"glyph\":{\"id\":\"8f5db466-c70d-48cd-be45-0c167f411df2\",\"type\":\"Rect\"},\"hover_glyph\":null,\"nonselection_glyph\":null,\"selection_glyph\":null},\"id\":\"a1789627-add6-4bc4-8d00-1f46b3068165\",\"type\":\"GlyphRenderer\"},{\"attributes\":{\"fill_alpha\":{\"field\":\"fill_alpha\"},\"fill_color\":{\"field\":\"color\"},\"height\":{\"field\":\"height\",\"units\":\"data\"},\"line_color\":{\"field\":\"line_color\"},\"width\":{\"field\":\"width\",\"units\":\"data\"},\"x\":{\"field\":\"x\"},\"y\":{\"field\":\"y\"}},\"id\":\"06b426b9-329b-4f20-92b0-331fa3471fa3\",\"type\":\"Rect\"},{\"attributes\":{\"fill_alpha\":{\"field\":\"fill_alpha\"},\"fill_color\":{\"field\":\"color\"},\"height\":{\"field\":\"height\",\"units\":\"data\"},\"line_color\":{\"field\":\"line_color\"},\"width\":{\"field\":\"width\",\"units\":\"data\"},\"x\":{\"field\":\"x\"},\"y\":{\"field\":\"y\"}},\"id\":\"de4dcb13-1604-49c4-8e34-5d7bf9039a9b\",\"type\":\"Rect\"},{\"attributes\":{\"overlay\":{\"id\":\"f0b7307f-a416-4c84-995f-39dd365779c2\",\"type\":\"BoxAnnotation\"},\"plot\":{\"id\":\"d00f583e-b9f2-4ea2-8d62-d58576f93a49\",\"subtype\":\"Chart\",\"type\":\"Plot\"}},\"id\":\"487e216f-6752-44aa-998a-603bcc40ce9b\",\"type\":\"BoxZoomTool\"},{\"attributes\":{\"fill_alpha\":{\"field\":\"fill_alpha\"},\"fill_color\":{\"field\":\"color\"},\"height\":{\"field\":\"height\",\"units\":\"data\"},\"line_color\":{\"field\":\"line_color\"},\"width\":{\"field\":\"width\",\"units\":\"data\"},\"x\":{\"field\":\"x\"},\"y\":{\"field\":\"y\"}},\"id\":\"e4ad32fd-db50-4f23-a472-a67870672170\",\"type\":\"Rect\"},{\"attributes\":{\"callback\":null,\"factors\":[\"0\",\"1\",\"2\",\"3\",\"4\",\"5\",\"6\",\"7\",\"8\",\"9\",\"10\",\"11\",\"12\",\"13\",\"14\",\"15\",\"16\",\"17\",\"18\",\"19\",\"20\"]},\"id\":\"e4d22a2b-149f-4fe2-9fb0-560d9d69d713\",\"type\":\"FactorRange\"},{\"attributes\":{\"plot\":{\"id\":\"9df36f1c-b1e5-47cf-bd02-8ca67964d13e\",\"subtype\":\"Chart\",\"type\":\"Plot\"}},\"id\":\"4c0728aa-ba64-4b98-a2cc-fa7b7aaaa780\",\"type\":\"PanTool\"},{\"attributes\":{\"data_source\":{\"id\":\"6570913c-4d6e-4bc7-8535-5f063cc07fd3\",\"type\":\"ColumnDataSource\"},\"glyph\":{\"id\":\"6ee96cd7-8548-4d5c-869f-151f7f27b99e\",\"type\":\"Rect\"},\"hover_glyph\":null,\"nonselection_glyph\":null,\"selection_glyph\":null},\"id\":\"c69b3c81-9fd9-4b4a-b8c5-e1698d637c0c\",\"type\":\"GlyphRenderer\"},{\"attributes\":{\"data_source\":{\"id\":\"a4458a96-8f82-48a3-9988-df74b79db011\",\"type\":\"ColumnDataSource\"},\"glyph\":{\"id\":\"c6fdf657-06cd-45f0-acc8-b87a43e9f703\",\"type\":\"Rect\"},\"hover_glyph\":null,\"nonselection_glyph\":null,\"selection_glyph\":null},\"id\":\"42b2aa09-4aab-428e-a651-673b789fd366\",\"type\":\"GlyphRenderer\"},{\"attributes\":{\"fill_alpha\":{\"field\":\"fill_alpha\"},\"fill_color\":{\"field\":\"color\"},\"height\":{\"field\":\"height\",\"units\":\"data\"},\"line_color\":{\"field\":\"line_color\"},\"width\":{\"field\":\"width\",\"units\":\"data\"},\"x\":{\"field\":\"x\"},\"y\":{\"field\":\"y\"}},\"id\":\"bbd7680c-288a-46e8-80c5-e2dcbf6793ee\",\"type\":\"Rect\"},{\"attributes\":{\"callback\":null,\"column_names\":[\"color\",\"line_color\",\"height\",\"width\",\"x\",\"fill_alpha\",\"y\",\"line_alpha\"],\"data\":{\"chart_index\":[{\"x\":5}],\"color\":[\"#f22c40\"],\"fill_alpha\":[0.8],\"height\":[5.0],\"line_alpha\":[1.0],\"line_color\":[\"white\"],\"width\":[0.8],\"x\":[5],\"y\":[2.5]}},\"id\":\"96f1030e-d575-4047-9f7f-ad23e8b4b250\",\"type\":\"ColumnDataSource\"},{\"attributes\":{\"data_source\":{\"id\":\"0f8aa8bd-67dd-4d7b-8b96-2ccf32b467e7\",\"type\":\"ColumnDataSource\"},\"glyph\":{\"id\":\"e765c0a2-831c-4808-bda1-a75be2399635\",\"type\":\"Rect\"},\"hover_glyph\":null,\"nonselection_glyph\":null,\"selection_glyph\":null},\"id\":\"df1e8c0b-a211-4058-9e27-118aa8360f60\",\"type\":\"GlyphRenderer\"},{\"attributes\":{\"fill_alpha\":{\"field\":\"fill_alpha\"},\"fill_color\":{\"field\":\"color\"},\"height\":{\"field\":\"height\",\"units\":\"data\"},\"line_color\":{\"field\":\"line_color\"},\"width\":{\"field\":\"width\",\"units\":\"data\"},\"x\":{\"field\":\"x\"},\"y\":{\"field\":\"y\"}},\"id\":\"12bedaba-67ee-4837-b743-a3d8929f380a\",\"type\":\"Rect\"},{\"attributes\":{\"fill_alpha\":{\"value\":0.7},\"fill_color\":{\"value\":\"#f22c40\"},\"line_color\":{\"value\":\"#f22c40\"},\"size\":{\"units\":\"screen\",\"value\":8},\"x\":{\"field\":\"x_values\"},\"y\":{\"field\":\"y_values\"}},\"id\":\"d6d80308-4d27-446e-b146-bc8ebffe3e7f\",\"type\":\"Circle\"},{\"attributes\":{\"axis_label\":\"Sum( Y )\",\"formatter\":{\"id\":\"83b7b66b-d2fa-4cde-8d34-adc600658b3d\",\"type\":\"BasicTickFormatter\"},\"plot\":{\"id\":\"9df36f1c-b1e5-47cf-bd02-8ca67964d13e\",\"subtype\":\"Chart\",\"type\":\"Plot\"},\"ticker\":{\"id\":\"c6c7571d-88b8-4871-aaf7-a379265a794c\",\"type\":\"BasicTicker\"}},\"id\":\"3475158f-31cd-4456-85e6-ea2151e030e6\",\"type\":\"LinearAxis\"},{\"attributes\":{},\"id\":\"d230dac1-bfb0-4e27-a941-10969f44e5bb\",\"type\":\"CategoricalTicker\"},{\"attributes\":{},\"id\":\"8ca4ada6-a65b-44c4-9dbe-e9b66b36b591\",\"type\":\"CategoricalTickFormatter\"},{\"attributes\":{\"legends\":[[\"A\",[{\"id\":\"5ffa71e1-ea90-45b2-8e45-f322bc4aa4d7\",\"type\":\"GlyphRenderer\"}]],[\"B\",[{\"id\":\"e22916fe-cb80-49e4-a787-63bc95ac383a\",\"type\":\"GlyphRenderer\"}]]],\"plot\":{\"id\":\"d00f583e-b9f2-4ea2-8d62-d58576f93a49\",\"subtype\":\"Chart\",\"type\":\"Plot\"}},\"id\":\"0b9e0fe5-3df1-49ae-a5ec-161fc6bcef0b\",\"type\":\"Legend\"},{\"attributes\":{\"callback\":null,\"column_names\":[\"color\",\"line_color\",\"height\",\"width\",\"x\",\"fill_alpha\",\"y\",\"line_alpha\"],\"data\":{\"chart_index\":[{\"x\":19}],\"color\":[\"#f22c40\"],\"fill_alpha\":[0.8],\"height\":[19.0],\"line_alpha\":[1.0],\"line_color\":[\"white\"],\"width\":[0.8],\"x\":[19],\"y\":[9.5]}},\"id\":\"91292b1e-5743-4054-8171-d86cead42835\",\"type\":\"ColumnDataSource\"},{\"attributes\":{\"data_source\":{\"id\":\"6f94e92c-c215-4148-a5d7-c553fb827e7d\",\"type\":\"ColumnDataSource\"},\"glyph\":{\"id\":\"ee1f21e6-d8d6-4c47-8f10-0a21b5e25777\",\"type\":\"Rect\"},\"hover_glyph\":null,\"nonselection_glyph\":null,\"selection_glyph\":null},\"id\":\"fef3cab2-57fd-4ba4-b86a-1c2394ebf563\",\"type\":\"GlyphRenderer\"},{\"attributes\":{\"data_source\":{\"id\":\"584aa545-a7a6-4757-9b43-d79476fc06f8\",\"type\":\"ColumnDataSource\"},\"glyph\":{\"id\":\"d4d94cf2-edfd-47f9-b3c3-a07394271d87\",\"type\":\"Rect\"},\"hover_glyph\":null,\"nonselection_glyph\":null,\"selection_glyph\":null},\"id\":\"4c47d3b1-4444-475d-b4cf-8c214b957991\",\"type\":\"GlyphRenderer\"},{\"attributes\":{\"bottom_units\":\"screen\",\"fill_alpha\":{\"value\":0.5},\"fill_color\":{\"value\":\"lightgrey\"},\"left_units\":\"screen\",\"level\":\"overlay\",\"line_alpha\":{\"value\":1.0},\"line_color\":{\"value\":\"black\"},\"line_dash\":[4,4],\"line_width\":{\"value\":2},\"plot\":null,\"render_mode\":\"css\",\"right_units\":\"screen\",\"top_units\":\"screen\"},\"id\":\"75cddb07-ea16-436a-b3d4-c5392398edad\",\"type\":\"BoxAnnotation\"},{\"attributes\":{\"below\":[{\"id\":\"0504eb43-c009-4ca1-9b7d-59e74650485a\",\"type\":\"CategoricalAxis\"}],\"left\":[{\"id\":\"a55e7192-96e6-4d34-b412-57cd22f3e87f\",\"type\":\"LinearAxis\"}],\"legend\":null,\"renderers\":[{\"id\":\"c810b509-d0d9-4fd1-8c09-d38c7324c21d\",\"type\":\"GlyphRenderer\"},{\"id\":\"b6efcc0b-cc49-4baf-9f27-a7157e0afe28\",\"type\":\"GlyphRenderer\"},{\"id\":\"7e857c8d-5958-4e86-8ce4-c7302268786f\",\"type\":\"GlyphRenderer\"},{\"id\":\"c90d6b2e-e333-40f5-afad-00a5f70d94ab\",\"type\":\"GlyphRenderer\"},{\"id\":\"fe0f8fbd-72de-4c1f-97ca-712e569461d0\",\"type\":\"GlyphRenderer\"},{\"id\":\"a1f87e3c-240d-46b3-bd98-f453fca6ccae\",\"type\":\"GlyphRenderer\"},{\"id\":\"8b6c5048-5aa0-4c20-8b46-c39b551f0299\",\"type\":\"GlyphRenderer\"},{\"id\":\"899396fd-0085-4965-984a-676362621d72\",\"type\":\"GlyphRenderer\"},{\"id\":\"42b2aa09-4aab-428e-a651-673b789fd366\",\"type\":\"GlyphRenderer\"},{\"id\":\"66e5f985-21bb-40ad-8d3f-03fe9964718a\",\"type\":\"GlyphRenderer\"},{\"id\":\"1fb6381f-c512-4aa4-807f-611d8e4adf45\",\"type\":\"GlyphRenderer\"},{\"id\":\"d2a89d44-7823-4e6f-bda3-22f738ef0522\",\"type\":\"GlyphRenderer\"},{\"id\":\"963c634a-0ccc-468e-a8aa-ad839ee594b8\",\"type\":\"GlyphRenderer\"},{\"id\":\"df1e8c0b-a211-4058-9e27-118aa8360f60\",\"type\":\"GlyphRenderer\"},{\"id\":\"bf48657f-cfad-4b99-8fe0-9e075449214c\",\"type\":\"GlyphRenderer\"},{\"id\":\"e8b00d50-d2d3-4425-be2b-251191e979b1\",\"type\":\"GlyphRenderer\"},{\"id\":\"b7908eea-3936-4e01-aa1a-30201dd1b3f0\",\"type\":\"GlyphRenderer\"},{\"id\":\"a8513373-dfe6-4c7b-b53b-581fe32ec7e4\",\"type\":\"GlyphRenderer\"},{\"id\":\"3edc0d6f-4263-4da8-b31b-396882051782\",\"type\":\"GlyphRenderer\"},{\"id\":\"e453fcf5-6733-495e-a3ac-49c8e98df30b\",\"type\":\"GlyphRenderer\"},{\"id\":\"804c1ae4-7b5f-4f98-ae6e-1ed061c5f773\",\"type\":\"GlyphRenderer\"},{\"id\":\"0504eb43-c009-4ca1-9b7d-59e74650485a\",\"type\":\"CategoricalAxis\"},{\"id\":\"a55e7192-96e6-4d34-b412-57cd22f3e87f\",\"type\":\"LinearAxis\"},{\"id\":\"3f9d21f5-4623-44b4-bc44-96284ffca6ca\",\"type\":\"Grid\"}],\"title\":\"My First Plot\",\"title_text_font_size\":{\"value\":\"14pt\"},\"tool_events\":{\"id\":\"86f49a4f-99cc-42fe-aea2-f85ba430df2e\",\"type\":\"ToolEvents\"},\"x_mapper_type\":\"auto\",\"x_range\":{\"id\":\"e4d22a2b-149f-4fe2-9fb0-560d9d69d713\",\"type\":\"FactorRange\"},\"xgrid\":false,\"xscale\":\"auto\",\"y_mapper_type\":\"auto\",\"y_range\":{\"id\":\"08f3f578-1b70-4e9d-b7aa-8dd647a51854\",\"type\":\"Range1d\"},\"yscale\":\"auto\"},\"id\":\"2bf18d35-a858-4449-b12f-fd366d466bda\",\"subtype\":\"Chart\",\"type\":\"Plot\"},{\"attributes\":{\"fill_alpha\":{\"field\":\"fill_alpha\"},\"fill_color\":{\"field\":\"color\"},\"height\":{\"field\":\"height\",\"units\":\"data\"},\"line_color\":{\"field\":\"line_color\"},\"width\":{\"field\":\"width\",\"units\":\"data\"},\"x\":{\"field\":\"x\"},\"y\":{\"field\":\"y\"}},\"id\":\"d42db55b-0b90-430a-986e-c8f87b328be2\",\"type\":\"Rect\"},{\"attributes\":{\"data_source\":{\"id\":\"753c0e8d-caad-4871-83bb-895a05863bd1\",\"type\":\"ColumnDataSource\"},\"glyph\":{\"id\":\"2f824cdb-b075-4540-a36d-9aa422092171\",\"type\":\"Rect\"},\"hover_glyph\":null,\"nonselection_glyph\":null,\"selection_glyph\":null},\"id\":\"c810b509-d0d9-4fd1-8c09-d38c7324c21d\",\"type\":\"GlyphRenderer\"},{\"attributes\":{},\"id\":\"ce01eaeb-a42d-47db-9bcf-1e5f17c89cd5\",\"type\":\"BasicTicker\"},{\"attributes\":{},\"id\":\"f2cccfd8-b0bc-4ce5-8839-b95678dcf469\",\"type\":\"BasicTickFormatter\"},{\"attributes\":{\"data_source\":{\"id\":\"2ab0d82e-f95f-476f-806c-01104983ac76\",\"type\":\"ColumnDataSource\"},\"glyph\":{\"id\":\"bbd7680c-288a-46e8-80c5-e2dcbf6793ee\",\"type\":\"Rect\"},\"hover_glyph\":null,\"nonselection_glyph\":null,\"selection_glyph\":null},\"id\":\"66e5f985-21bb-40ad-8d3f-03fe9964718a\",\"type\":\"GlyphRenderer\"},{\"attributes\":{\"callback\":null,\"column_names\":[\"color\",\"line_color\",\"height\",\"width\",\"x\",\"fill_alpha\",\"y\",\"line_alpha\"],\"data\":{\"chart_index\":[{\"x\":6}],\"color\":[\"#f22c40\"],\"fill_alpha\":[0.8],\"height\":[6.0],\"line_alpha\":[1.0],\"line_color\":[\"white\"],\"width\":[0.8],\"x\":[6],\"y\":[3.0]}},\"id\":\"4f127b08-c4e7-428d-91e2-89ea132ea611\",\"type\":\"ColumnDataSource\"},{\"attributes\":{\"plot\":{\"id\":\"d00f583e-b9f2-4ea2-8d62-d58576f93a49\",\"subtype\":\"Chart\",\"type\":\"Plot\"}},\"id\":\"61e6fc16-fdc5-4b0f-8371-91d61d123409\",\"type\":\"ResetTool\"},{\"attributes\":{\"callback\":null,\"column_names\":[\"color\",\"line_color\",\"height\",\"width\",\"x\",\"fill_alpha\",\"y\",\"line_alpha\"],\"data\":{\"chart_index\":[{\"x\":4}],\"color\":[\"#f22c40\"],\"fill_alpha\":[0.8],\"height\":[4.0],\"line_alpha\":[1.0],\"line_color\":[\"white\"],\"width\":[0.8],\"x\":[4],\"y\":[2.0]}},\"id\":\"9ecd2b1b-c3c1-407e-a358-be8ee944b986\",\"type\":\"ColumnDataSource\"},{\"attributes\":{\"data_source\":{\"id\":\"8997144a-dc86-47b6-b395-a657341b599e\",\"type\":\"ColumnDataSource\"},\"glyph\":{\"id\":\"262819f5-6321-4fd2-a4bd-a268be5a75cf\",\"type\":\"Circle\"},\"hover_glyph\":null,\"nonselection_glyph\":null,\"selection_glyph\":null},\"id\":\"e22916fe-cb80-49e4-a787-63bc95ac383a\",\"type\":\"GlyphRenderer\"},{\"attributes\":{\"plot\":{\"id\":\"d00f583e-b9f2-4ea2-8d62-d58576f93a49\",\"subtype\":\"Chart\",\"type\":\"Plot\"}},\"id\":\"dba8dc55-d135-4029-b8ed-6d06f0d2e575\",\"type\":\"HelpTool\"},{\"attributes\":{\"callback\":null,\"column_names\":[\"color\",\"line_color\",\"height\",\"width\",\"x\",\"fill_alpha\",\"y\",\"line_alpha\"],\"data\":{\"chart_index\":[{\"x\":14}],\"color\":[\"#f22c40\"],\"fill_alpha\":[0.8],\"height\":[14.0],\"line_alpha\":[1.0],\"line_color\":[\"white\"],\"width\":[0.8],\"x\":[14],\"y\":[7.0]}},\"id\":\"fb10e7e0-6f8f-401c-8dd8-a5edd8f2396c\",\"type\":\"ColumnDataSource\"},{\"attributes\":{\"axis_label\":\"X\",\"formatter\":{\"id\":\"85fff5e6-2539-4fcd-ad42-913752fa35fb\",\"type\":\"CategoricalTickFormatter\"},\"major_label_orientation\":0.7853981633974483,\"plot\":{\"id\":\"9df36f1c-b1e5-47cf-bd02-8ca67964d13e\",\"subtype\":\"Chart\",\"type\":\"Plot\"},\"ticker\":{\"id\":\"d230dac1-bfb0-4e27-a941-10969f44e5bb\",\"type\":\"CategoricalTicker\"}},\"id\":\"5adbbf94-962b-4aad-a2f6-1a1c08f1c5e4\",\"type\":\"CategoricalAxis\"},{\"attributes\":{\"callback\":null,\"column_names\":[\"color\",\"line_color\",\"height\",\"width\",\"x\",\"fill_alpha\",\"y\",\"line_alpha\"],\"data\":{\"chart_index\":[{\"x\":18}],\"color\":[\"#f22c40\"],\"fill_alpha\":[0.8],\"height\":[18.0],\"line_alpha\":[1.0],\"line_color\":[\"white\"],\"width\":[0.8],\"x\":[18],\"y\":[9.0]}},\"id\":\"584aa545-a7a6-4757-9b43-d79476fc06f8\",\"type\":\"ColumnDataSource\"},{\"attributes\":{\"plot\":{\"id\":\"9df36f1c-b1e5-47cf-bd02-8ca67964d13e\",\"subtype\":\"Chart\",\"type\":\"Plot\"}},\"id\":\"431428e4-f066-4303-9b24-1565d8db2d15\",\"type\":\"ResizeTool\"},{\"attributes\":{\"fill_alpha\":{\"field\":\"fill_alpha\"},\"fill_color\":{\"field\":\"color\"},\"height\":{\"field\":\"height\",\"units\":\"data\"},\"line_color\":{\"field\":\"line_color\"},\"width\":{\"field\":\"width\",\"units\":\"data\"},\"x\":{\"field\":\"x\"},\"y\":{\"field\":\"y\"}},\"id\":\"1d53a587-bc8a-4227-8194-5275a37a0415\",\"type\":\"Rect\"},{\"attributes\":{\"fill_alpha\":{\"field\":\"fill_alpha\"},\"fill_color\":{\"field\":\"color\"},\"height\":{\"field\":\"height\",\"units\":\"data\"},\"line_color\":{\"field\":\"line_color\"},\"width\":{\"field\":\"width\",\"units\":\"data\"},\"x\":{\"field\":\"x\"},\"y\":{\"field\":\"y\"}},\"id\":\"3e4f3f67-cc3a-45a5-b088-6cfba592c415\",\"type\":\"Rect\"},{\"attributes\":{\"callback\":null,\"column_names\":[\"color\",\"line_color\",\"height\",\"width\",\"x\",\"fill_alpha\",\"y\",\"line_alpha\"],\"data\":{\"chart_index\":[{\"x\":19}],\"color\":[\"#f22c40\"],\"fill_alpha\":[0.8],\"height\":[19.0],\"line_alpha\":[1.0],\"line_color\":[\"white\"],\"width\":[0.8],\"x\":[19],\"y\":[9.5]}},\"id\":\"da4e6f73-dbff-41e9-8fa0-6cbb54d526d7\",\"type\":\"ColumnDataSource\"},{\"attributes\":{\"axis_label\":\"X\",\"formatter\":{\"id\":\"f2cccfd8-b0bc-4ce5-8839-b95678dcf469\",\"type\":\"BasicTickFormatter\"},\"plot\":{\"id\":\"d00f583e-b9f2-4ea2-8d62-d58576f93a49\",\"subtype\":\"Chart\",\"type\":\"Plot\"},\"ticker\":{\"id\":\"e4b244ab-866c-4273-9276-da537c289fcf\",\"type\":\"BasicTicker\"}},\"id\":\"b8c6305a-e2d9-4d16-b06b-13c41ba6e864\",\"type\":\"LinearAxis\"},{\"attributes\":{\"callback\":null,\"column_names\":[\"color\",\"line_color\",\"height\",\"width\",\"x\",\"fill_alpha\",\"y\",\"line_alpha\"],\"data\":{\"chart_index\":[{\"x\":2}],\"color\":[\"#f22c40\"],\"fill_alpha\":[0.8],\"height\":[2.0],\"line_alpha\":[1.0],\"line_color\":[\"white\"],\"width\":[0.8],\"x\":[2],\"y\":[1.0]}},\"id\":\"b6b86d4b-9cdc-4d87-b9c0-f4596f023cab\",\"type\":\"ColumnDataSource\"},{\"attributes\":{\"axis_label\":\"height\",\"formatter\":{\"id\":\"04bc55e4-926d-46d5-ab79-168a3182434b\",\"type\":\"BasicTickFormatter\"},\"plot\":{\"id\":\"2bf18d35-a858-4449-b12f-fd366d466bda\",\"subtype\":\"Chart\",\"type\":\"Plot\"},\"ticker\":{\"id\":\"9ecf0cbd-3b94-4153-8a6d-b6bbcd0f8258\",\"type\":\"BasicTicker\"}},\"id\":\"a55e7192-96e6-4d34-b412-57cd22f3e87f\",\"type\":\"LinearAxis\"},{\"attributes\":{\"fill_alpha\":{\"field\":\"fill_alpha\"},\"fill_color\":{\"field\":\"color\"},\"height\":{\"field\":\"height\",\"units\":\"data\"},\"line_color\":{\"field\":\"line_color\"},\"width\":{\"field\":\"width\",\"units\":\"data\"},\"x\":{\"field\":\"x\"},\"y\":{\"field\":\"y\"}},\"id\":\"1a561b72-b1c6-403e-8ace-50048c603264\",\"type\":\"Rect\"},{\"attributes\":{},\"id\":\"83b7b66b-d2fa-4cde-8d34-adc600658b3d\",\"type\":\"BasicTickFormatter\"},{\"attributes\":{\"fill_alpha\":{\"field\":\"fill_alpha\"},\"fill_color\":{\"field\":\"color\"},\"height\":{\"field\":\"height\",\"units\":\"data\"},\"line_color\":{\"field\":\"line_color\"},\"width\":{\"field\":\"width\",\"units\":\"data\"},\"x\":{\"field\":\"x\"},\"y\":{\"field\":\"y\"}},\"id\":\"cf6c16a5-ed30-484c-84f4-9600be1b7c22\",\"type\":\"Rect\"},{\"attributes\":{\"fill_alpha\":{\"field\":\"fill_alpha\"},\"fill_color\":{\"field\":\"color\"},\"height\":{\"field\":\"height\",\"units\":\"data\"},\"line_color\":{\"field\":\"line_color\"},\"width\":{\"field\":\"width\",\"units\":\"data\"},\"x\":{\"field\":\"x\"},\"y\":{\"field\":\"y\"}},\"id\":\"ee1f21e6-d8d6-4c47-8f10-0a21b5e25777\",\"type\":\"Rect\"},{\"attributes\":{\"plot\":{\"id\":\"9df36f1c-b1e5-47cf-bd02-8ca67964d13e\",\"subtype\":\"Chart\",\"type\":\"Plot\"}},\"id\":\"7794d5bb-ad76-4689-827d-2ab54e842f85\",\"type\":\"HelpTool\"},{\"attributes\":{\"data_source\":{\"id\":\"da4e6f73-dbff-41e9-8fa0-6cbb54d526d7\",\"type\":\"ColumnDataSource\"},\"glyph\":{\"id\":\"59c533f1-feff-41db-8e6f-0096c33f5638\",\"type\":\"Rect\"},\"hover_glyph\":null,\"nonselection_glyph\":null,\"selection_glyph\":null},\"id\":\"e453fcf5-6733-495e-a3ac-49c8e98df30b\",\"type\":\"GlyphRenderer\"},{\"attributes\":{\"plot\":{\"id\":\"d00f583e-b9f2-4ea2-8d62-d58576f93a49\",\"subtype\":\"Chart\",\"type\":\"Plot\"}},\"id\":\"7bd09bb0-e246-4333-88b3-367fe021a354\",\"type\":\"PanTool\"},{\"attributes\":{\"axis_label\":\"number\",\"formatter\":{\"id\":\"8ca4ada6-a65b-44c4-9dbe-e9b66b36b591\",\"type\":\"CategoricalTickFormatter\"},\"major_label_orientation\":0.7853981633974483,\"plot\":{\"id\":\"2bf18d35-a858-4449-b12f-fd366d466bda\",\"subtype\":\"Chart\",\"type\":\"Plot\"},\"ticker\":{\"id\":\"13136558-1ef1-4cbf-9216-269744bded97\",\"type\":\"CategoricalTicker\"}},\"id\":\"0504eb43-c009-4ca1-9b7d-59e74650485a\",\"type\":\"CategoricalAxis\"},{\"attributes\":{},\"id\":\"c6c7571d-88b8-4871-aaf7-a379265a794c\",\"type\":\"BasicTicker\"}],\"root_ids\":[\"d00f583e-b9f2-4ea2-8d62-d58576f93a49\",\"9df36f1c-b1e5-47cf-bd02-8ca67964d13e\",\"2bf18d35-a858-4449-b12f-fd366d466bda\"]},\"title\":\"Bokeh Application\",\"version\":\"0.11.1\"}};\n",
       "            var render_items = [{\"docid\":\"2c5b3bb9-251b-4c29-b446-f091ac9f7b23\",\"elementid\":\"d544e6e5-2569-463c-9ace-c7f0922259d1\",\"modelid\":\"2bf18d35-a858-4449-b12f-fd366d466bda\",\"notebook_comms_target\":\"334d9c53-531a-42b1-82f0-16ba32c5ac5c\"}];\n",
       "            \n",
       "            Bokeh.embed.embed_items(docs_json, render_items);\n",
       "        });\n",
       "      },\n",
       "      function(Bokeh) {\n",
       "      }\n",
       "    ];\n",
       "  \n",
       "    function run_inline_js() {\n",
       "      for (var i = 0; i < inline_js.length; i++) {\n",
       "        inline_js[i](window.Bokeh);\n",
       "      }\n",
       "    }\n",
       "  \n",
       "    if (window._bokeh_is_loading === 0) {\n",
       "      console.log(\"Bokeh: BokehJS loaded, going straight to plotting\");\n",
       "      run_inline_js();\n",
       "    } else {\n",
       "      load_libs(js_urls, function() {\n",
       "        console.log(\"Bokeh: BokehJS plotting callback run at\", now());\n",
       "        run_inline_js();\n",
       "      });\n",
       "    }\n",
       "  }(this));\n",
       "</script>"
      ]
     },
     "metadata": {},
     "output_type": "display_data"
    },
    {
     "data": {
      "text/html": [
       "<p><code>&lt;Bokeh Notebook handle for <strong>In[2]</strong>&gt;</code></p>"
      ],
      "text/plain": [
       "<bokeh.io._CommsHandle at 0x10f931630>"
      ]
     },
     "execution_count": 54,
     "metadata": {},
     "output_type": "execute_result"
    }
   ],
   "source": [
    "myFirstPlot = Bar(data, 'x', 'y', title='My First Plot', tools='', xlabel='number', ylabel='height')\n",
    "show(myFirstPlot)"
   ]
  },
  {
   "cell_type": "markdown",
   "metadata": {},
   "source": [
    "Hopefully, you can understand what we did there. As well as the `data` object, containing the values that we wanted to plot out, we passed several additional arguments to the `Bar` function. These arguments alterred the figure that was output. The arguments all have logical names - `title`, `xlabel` etc - and there are other arguments that we could specify. If you want to learn about them, you can find all of the `bokeh.charts` documentation [here](http://bokeh.pydata.org/en/latest/docs/user_guide/charts.html#userguide-charts)."
   ]
  },
  {
   "cell_type": "markdown",
   "metadata": {},
   "source": [
    "The `charts` library also contains several other functions for common types of plot, and `bokeh.io` provides functions to display these plots together. For example, below we will create a scatter plot and display that alongside our bar chart in the output:"
   ]
  },
  {
   "cell_type": "code",
   "execution_count": 55,
   "metadata": {
    "collapsed": false
   },
   "outputs": [
    {
     "name": "stdout",
     "output_type": "stream",
     "text": [
      "{'Y': [1, 2, 1, 2, 1, 2, 1, 2, 3, 1, 2, 3, 3, 3, 2, 1], 'S': ['A', 'A', 'A', 'A', 'A', 'A', 'A', 'A', 'B', 'B', 'B', 'B', 'B', 'B', 'B', 'B'], 'X': [0, 1, 2, 3, 4, 5, 6, 7, 0, 1, 2, 3, 4, 5, 6, 7]}\n"
     ]
    },
    {
     "data": {
      "text/html": [
       "\n",
       "\n",
       "    <div class=\"plotdiv\" id=\"4be21271-3ed4-4995-80d1-7973b837642b\"></div>\n",
       "<script type=\"text/javascript\">\n",
       "  \n",
       "  (function(global) {\n",
       "    function now() {\n",
       "      return new Date();\n",
       "    }\n",
       "  \n",
       "    if (typeof (window._bokeh_onload_callbacks) === \"undefined\") {\n",
       "      window._bokeh_onload_callbacks = [];\n",
       "    }\n",
       "  \n",
       "    function run_callbacks() {\n",
       "      window._bokeh_onload_callbacks.forEach(function(callback) { callback() });\n",
       "      delete window._bokeh_onload_callbacks\n",
       "      console.info(\"Bokeh: all callbacks have finished\");\n",
       "    }\n",
       "  \n",
       "    function load_libs(js_urls, callback) {\n",
       "      window._bokeh_onload_callbacks.push(callback);\n",
       "      if (window._bokeh_is_loading > 0) {\n",
       "        console.log(\"Bokeh: BokehJS is being loaded, scheduling callback at\", now());\n",
       "        return null;\n",
       "      }\n",
       "      if (js_urls == null || js_urls.length === 0) {\n",
       "        run_callbacks();\n",
       "        return null;\n",
       "      }\n",
       "      console.log(\"Bokeh: BokehJS not loaded, scheduling load and callback at\", now());\n",
       "      window._bokeh_is_loading = js_urls.length;\n",
       "      for (var i = 0; i < js_urls.length; i++) {\n",
       "        var url = js_urls[i];\n",
       "        var s = document.createElement('script');\n",
       "        s.src = url;\n",
       "        s.async = false;\n",
       "        s.onreadystatechange = s.onload = function() {\n",
       "          window._bokeh_is_loading--;\n",
       "          if (window._bokeh_is_loading === 0) {\n",
       "            console.log(\"Bokeh: all BokehJS libraries loaded\");\n",
       "            run_callbacks()\n",
       "          }\n",
       "        };\n",
       "        s.onerror = function() {\n",
       "          console.warn(\"failed to load library \" + url);\n",
       "        };\n",
       "        console.log(\"Bokeh: injecting script tag for BokehJS library: \", url);\n",
       "        document.getElementsByTagName(\"head\")[0].appendChild(s);\n",
       "      }\n",
       "    };var element = document.getElementById(\"4be21271-3ed4-4995-80d1-7973b837642b\");\n",
       "    if (element == null) {\n",
       "      console.log(\"Bokeh: ERROR: autoload.js configured with elementid '4be21271-3ed4-4995-80d1-7973b837642b' but no matching script tag was found. \")\n",
       "      return false;\n",
       "    }\n",
       "  \n",
       "    var js_urls = [];\n",
       "  \n",
       "    var inline_js = [\n",
       "      function(Bokeh) {\n",
       "        Bokeh.$(function() {\n",
       "            var docs_json = {\"07bebc1f-9c6e-4146-91b5-c9c50963a956\":{\"roots\":{\"references\":[{\"attributes\":{\"fill_alpha\":{\"field\":\"fill_alpha\"},\"fill_color\":{\"field\":\"color\"},\"height\":{\"field\":\"height\",\"units\":\"data\"},\"line_color\":{\"field\":\"line_color\"},\"width\":{\"field\":\"width\",\"units\":\"data\"},\"x\":{\"field\":\"x\"},\"y\":{\"field\":\"y\"}},\"id\":\"8d4aea70-caf6-4ff5-a558-552bcb46ab86\",\"type\":\"Rect\"},{\"attributes\":{\"callback\":null,\"column_names\":[\"color\",\"line_color\",\"height\",\"width\",\"x\",\"fill_alpha\",\"y\",\"line_alpha\"],\"data\":{\"chart_index\":[{\"x\":18}],\"color\":[\"#f22c40\"],\"fill_alpha\":[0.8],\"height\":[18.0],\"line_alpha\":[1.0],\"line_color\":[\"white\"],\"width\":[0.8],\"x\":[18],\"y\":[9.0]}},\"id\":\"a6d00c8c-4ef0-499b-9ce6-71fb4c6bf5fe\",\"type\":\"ColumnDataSource\"},{\"attributes\":{\"callback\":null,\"column_names\":[\"color\",\"line_color\",\"height\",\"width\",\"x\",\"fill_alpha\",\"y\",\"line_alpha\"],\"data\":{\"chart_index\":[{\"x\":7}],\"color\":[\"#f22c40\"],\"fill_alpha\":[0.8],\"height\":[7.0],\"line_alpha\":[1.0],\"line_color\":[\"white\"],\"width\":[0.8],\"x\":[7],\"y\":[3.5]}},\"id\":\"cbaa2739-9374-4eb5-a4ab-43df296cfbb5\",\"type\":\"ColumnDataSource\"},{\"attributes\":{\"fill_alpha\":{\"field\":\"fill_alpha\"},\"fill_color\":{\"field\":\"color\"},\"height\":{\"field\":\"height\",\"units\":\"data\"},\"line_color\":{\"field\":\"line_color\"},\"width\":{\"field\":\"width\",\"units\":\"data\"},\"x\":{\"field\":\"x\"},\"y\":{\"field\":\"y\"}},\"id\":\"d5edb015-071c-4a80-808f-916a848dbbfb\",\"type\":\"Rect\"},{\"attributes\":{\"fill_alpha\":{\"field\":\"fill_alpha\"},\"fill_color\":{\"field\":\"color\"},\"height\":{\"field\":\"height\",\"units\":\"data\"},\"line_color\":{\"field\":\"line_color\"},\"width\":{\"field\":\"width\",\"units\":\"data\"},\"x\":{\"field\":\"x\"},\"y\":{\"field\":\"y\"}},\"id\":\"ea46513c-f07d-4631-ad39-29c11c058bdb\",\"type\":\"Rect\"},{\"attributes\":{\"plot\":{\"id\":\"cd7d963d-c0ab-4ea7-85cf-2a739d7099e3\",\"subtype\":\"Chart\",\"type\":\"Plot\"},\"ticker\":{\"id\":\"1ef2d4f6-42cc-4c48-9a44-6d63225c1470\",\"type\":\"BasicTicker\"}},\"id\":\"1fae8bd7-c0fc-4a93-a39c-12e255ff1966\",\"type\":\"Grid\"},{\"attributes\":{\"callback\":null,\"column_names\":[\"color\",\"line_color\",\"height\",\"width\",\"x\",\"fill_alpha\",\"y\",\"line_alpha\"],\"data\":{\"chart_index\":[{\"x\":4}],\"color\":[\"#f22c40\"],\"fill_alpha\":[0.8],\"height\":[4.0],\"line_alpha\":[1.0],\"line_color\":[\"white\"],\"width\":[0.8],\"x\":[4],\"y\":[2.0]}},\"id\":\"aa1f5f78-c659-41fe-8c04-7ad03d88aedc\",\"type\":\"ColumnDataSource\"},{\"attributes\":{\"callback\":null,\"column_names\":[\"y_values\",\"x_values\"],\"data\":{\"S\":[\"A\",\"A\",\"A\",\"A\",\"A\",\"A\",\"A\",\"A\"],\"chart_index\":[{\"S\":\"A\"},{\"S\":\"A\"},{\"S\":\"A\"},{\"S\":\"A\"},{\"S\":\"A\"},{\"S\":\"A\"},{\"S\":\"A\"},{\"S\":\"A\"}],\"x_values\":[0,1,2,3,4,5,6,7],\"y_values\":[1,2,1,2,1,2,1,2]}},\"id\":\"b04f3801-0df8-476c-ba67-eafc4cf51fcb\",\"type\":\"ColumnDataSource\"},{\"attributes\":{\"data_source\":{\"id\":\"382fac64-a053-40f8-a094-ee7a0422311d\",\"type\":\"ColumnDataSource\"},\"glyph\":{\"id\":\"ea46513c-f07d-4631-ad39-29c11c058bdb\",\"type\":\"Rect\"},\"hover_glyph\":null,\"nonselection_glyph\":null,\"selection_glyph\":null},\"id\":\"d2a89d44-7823-4e6f-bda3-22f738ef0522\",\"type\":\"GlyphRenderer\"},{\"attributes\":{\"plot\":{\"id\":\"9df36f1c-b1e5-47cf-bd02-8ca67964d13e\",\"subtype\":\"Chart\",\"type\":\"Plot\"}},\"id\":\"b7587747-03e7-446e-91aa-b32d3e697f94\",\"type\":\"WheelZoomTool\"},{\"attributes\":{\"callback\":null,\"column_names\":[\"color\",\"line_color\",\"height\",\"width\",\"x\",\"fill_alpha\",\"y\",\"line_alpha\"],\"data\":{\"chart_index\":[{\"x\":16}],\"color\":[\"#f22c40\"],\"fill_alpha\":[0.8],\"height\":[16.0],\"line_alpha\":[1.0],\"line_color\":[\"white\"],\"width\":[0.8],\"x\":[16],\"y\":[8.0]}},\"id\":\"f9a68fde-d3bf-4214-b6ef-ea264964d6fd\",\"type\":\"ColumnDataSource\"},{\"attributes\":{\"plot\":{\"id\":\"d00f583e-b9f2-4ea2-8d62-d58576f93a49\",\"subtype\":\"Chart\",\"type\":\"Plot\"},\"ticker\":{\"id\":\"e4b244ab-866c-4273-9276-da537c289fcf\",\"type\":\"BasicTicker\"}},\"id\":\"cd7aab10-d428-4fc6-a182-173d472605ee\",\"type\":\"Grid\"},{\"attributes\":{\"callback\":null,\"column_names\":[\"color\",\"line_color\",\"height\",\"width\",\"x\",\"fill_alpha\",\"y\",\"line_alpha\"],\"data\":{\"chart_index\":[{\"x\":17}],\"color\":[\"#f22c40\"],\"fill_alpha\":[0.8],\"height\":[17.0],\"line_alpha\":[1.0],\"line_color\":[\"white\"],\"width\":[0.8],\"x\":[17],\"y\":[8.5]}},\"id\":\"484a041b-7489-40ae-80a6-a20534e4f8e8\",\"type\":\"ColumnDataSource\"},{\"attributes\":{\"callback\":null,\"column_names\":[\"color\",\"line_color\",\"height\",\"width\",\"x\",\"fill_alpha\",\"y\",\"line_alpha\"],\"data\":{\"chart_index\":[{\"x\":12}],\"color\":[\"#f22c40\"],\"fill_alpha\":[0.8],\"height\":[12.0],\"line_alpha\":[1.0],\"line_color\":[\"white\"],\"width\":[0.8],\"x\":[12],\"y\":[6.0]}},\"id\":\"3a608a3a-0212-4e43-b1c2-da76a44ca682\",\"type\":\"ColumnDataSource\"},{\"attributes\":{\"axis_label\":\"X\",\"formatter\":{\"id\":\"85fff5e6-2539-4fcd-ad42-913752fa35fb\",\"type\":\"CategoricalTickFormatter\"},\"major_label_orientation\":0.7853981633974483,\"plot\":{\"id\":\"9df36f1c-b1e5-47cf-bd02-8ca67964d13e\",\"subtype\":\"Chart\",\"type\":\"Plot\"},\"ticker\":{\"id\":\"d230dac1-bfb0-4e27-a941-10969f44e5bb\",\"type\":\"CategoricalTicker\"}},\"id\":\"5adbbf94-962b-4aad-a2f6-1a1c08f1c5e4\",\"type\":\"CategoricalAxis\"},{\"attributes\":{\"fill_alpha\":{\"field\":\"fill_alpha\"},\"fill_color\":{\"field\":\"color\"},\"height\":{\"field\":\"height\",\"units\":\"data\"},\"line_color\":{\"field\":\"line_color\"},\"width\":{\"field\":\"width\",\"units\":\"data\"},\"x\":{\"field\":\"x\"},\"y\":{\"field\":\"y\"}},\"id\":\"2f824cdb-b075-4540-a36d-9aa422092171\",\"type\":\"Rect\"},{\"attributes\":{\"data_source\":{\"id\":\"dcd77144-a3d9-41ed-b087-df20d7bc8209\",\"type\":\"ColumnDataSource\"},\"glyph\":{\"id\":\"d42db55b-0b90-430a-986e-c8f87b328be2\",\"type\":\"Rect\"},\"hover_glyph\":null,\"nonselection_glyph\":null,\"selection_glyph\":null},\"id\":\"a2035ffe-fa59-4f7a-bf63-af8be879dd76\",\"type\":\"GlyphRenderer\"},{\"attributes\":{\"data_source\":{\"id\":\"a6d00c8c-4ef0-499b-9ce6-71fb4c6bf5fe\",\"type\":\"ColumnDataSource\"},\"glyph\":{\"id\":\"1d53a587-bc8a-4227-8194-5275a37a0415\",\"type\":\"Rect\"},\"hover_glyph\":null,\"nonselection_glyph\":null,\"selection_glyph\":null},\"id\":\"3edc0d6f-4263-4da8-b31b-396882051782\",\"type\":\"GlyphRenderer\"},{\"attributes\":{\"callback\":null,\"column_names\":[\"color\",\"line_color\",\"height\",\"width\",\"x\",\"fill_alpha\",\"y\",\"line_alpha\"],\"data\":{\"chart_index\":[{\"x\":7}],\"color\":[\"#f22c40\"],\"fill_alpha\":[0.8],\"height\":[7.0],\"line_alpha\":[1.0],\"line_color\":[\"white\"],\"width\":[0.8],\"x\":[7],\"y\":[3.5]}},\"id\":\"ca8b1a29-04de-42ef-aeea-82756cd2c7ce\",\"type\":\"ColumnDataSource\"},{\"attributes\":{\"callback\":null,\"column_names\":[\"y_values\",\"x_values\"],\"data\":{\"S\":[\"A\",\"A\",\"A\",\"A\",\"A\",\"A\",\"A\",\"A\"],\"chart_index\":[{\"S\":\"A\"},{\"S\":\"A\"},{\"S\":\"A\"},{\"S\":\"A\"},{\"S\":\"A\"},{\"S\":\"A\"},{\"S\":\"A\"},{\"S\":\"A\"}],\"x_values\":[0,1,2,3,4,5,6,7],\"y_values\":[1,2,1,2,1,2,1,2]}},\"id\":\"1912f0d3-51e4-4f6c-a067-0d6fd2b37b2e\",\"type\":\"ColumnDataSource\"},{\"attributes\":{\"children\":[{\"id\":\"2bf18d35-a858-4449-b12f-fd366d466bda\",\"subtype\":\"Chart\",\"type\":\"Plot\"},{\"id\":\"cd7d963d-c0ab-4ea7-85cf-2a739d7099e3\",\"subtype\":\"Chart\",\"type\":\"Plot\"}]},\"id\":\"b225ead2-fe94-41a1-920d-1973081836bc\",\"type\":\"HBox\"},{\"attributes\":{\"callback\":null,\"column_names\":[\"color\",\"line_color\",\"height\",\"width\",\"x\",\"fill_alpha\",\"y\",\"line_alpha\"],\"data\":{\"chart_index\":[{\"x\":17}],\"color\":[\"#f22c40\"],\"fill_alpha\":[0.8],\"height\":[17.0],\"line_alpha\":[1.0],\"line_color\":[\"white\"],\"width\":[0.8],\"x\":[17],\"y\":[8.5]}},\"id\":\"fe0580cf-ec03-4206-910b-11e85c58633f\",\"type\":\"ColumnDataSource\"},{\"attributes\":{\"plot\":{\"id\":\"d00f583e-b9f2-4ea2-8d62-d58576f93a49\",\"subtype\":\"Chart\",\"type\":\"Plot\"}},\"id\":\"d358e4e0-eac5-4456-b2f5-b760f27170bc\",\"type\":\"WheelZoomTool\"},{\"attributes\":{\"callback\":null,\"column_names\":[\"color\",\"line_color\",\"height\",\"width\",\"x\",\"fill_alpha\",\"y\",\"line_alpha\"],\"data\":{\"chart_index\":[{\"x\":20}],\"color\":[\"#f22c40\"],\"fill_alpha\":[0.8],\"height\":[20.0],\"line_alpha\":[1.0],\"line_color\":[\"white\"],\"width\":[0.8],\"x\":[20],\"y\":[10.0]}},\"id\":\"ea4b7cd8-f0e9-41f9-aac7-a8466c236884\",\"type\":\"ColumnDataSource\"},{\"attributes\":{\"fill_alpha\":{\"field\":\"fill_alpha\"},\"fill_color\":{\"field\":\"color\"},\"height\":{\"field\":\"height\",\"units\":\"data\"},\"line_color\":{\"field\":\"line_color\"},\"width\":{\"field\":\"width\",\"units\":\"data\"},\"x\":{\"field\":\"x\"},\"y\":{\"field\":\"y\"}},\"id\":\"d4d94cf2-edfd-47f9-b3c3-a07394271d87\",\"type\":\"Rect\"},{\"attributes\":{\"callback\":null,\"column_names\":[\"color\",\"line_color\",\"height\",\"width\",\"x\",\"fill_alpha\",\"y\",\"line_alpha\"],\"data\":{\"chart_index\":[{\"x\":11}],\"color\":[\"#f22c40\"],\"fill_alpha\":[0.8],\"height\":[11.0],\"line_alpha\":[1.0],\"line_color\":[\"white\"],\"width\":[0.8],\"x\":[11],\"y\":[5.5]}},\"id\":\"382fac64-a053-40f8-a094-ee7a0422311d\",\"type\":\"ColumnDataSource\"},{\"attributes\":{\"plot\":{\"id\":\"cd7d963d-c0ab-4ea7-85cf-2a739d7099e3\",\"subtype\":\"Chart\",\"type\":\"Plot\"}},\"id\":\"d7d2ede8-ac2c-4083-b843-1005dc33ec96\",\"type\":\"ResizeTool\"},{\"attributes\":{\"fill_alpha\":{\"field\":\"fill_alpha\"},\"fill_color\":{\"field\":\"color\"},\"height\":{\"field\":\"height\",\"units\":\"data\"},\"line_color\":{\"field\":\"line_color\"},\"width\":{\"field\":\"width\",\"units\":\"data\"},\"x\":{\"field\":\"x\"},\"y\":{\"field\":\"y\"}},\"id\":\"1fa7388c-d142-4e33-aff3-7cc322cfc424\",\"type\":\"Rect\"},{\"attributes\":{\"data_source\":{\"id\":\"4f127b08-c4e7-428d-91e2-89ea132ea611\",\"type\":\"ColumnDataSource\"},\"glyph\":{\"id\":\"1775b1ed-5d8b-42f7-a6b4-ddaa090e5f09\",\"type\":\"Rect\"},\"hover_glyph\":null,\"nonselection_glyph\":null,\"selection_glyph\":null},\"id\":\"d4a354c7-d23c-4345-a42c-c6fc1ec947b2\",\"type\":\"GlyphRenderer\"},{\"attributes\":{},\"id\":\"85fff5e6-2539-4fcd-ad42-913752fa35fb\",\"type\":\"CategoricalTickFormatter\"},{\"attributes\":{\"plot\":{\"id\":\"9df36f1c-b1e5-47cf-bd02-8ca67964d13e\",\"subtype\":\"Chart\",\"type\":\"Plot\"}},\"id\":\"f3fc1ea7-54f8-4993-ab72-4d555591cc1a\",\"type\":\"ResetTool\"},{\"attributes\":{},\"id\":\"86f49a4f-99cc-42fe-aea2-f85ba430df2e\",\"type\":\"ToolEvents\"},{\"attributes\":{\"callback\":null,\"column_names\":[\"color\",\"line_color\",\"height\",\"width\",\"x\",\"fill_alpha\",\"y\",\"line_alpha\"],\"data\":{\"chart_index\":[{\"x\":20}],\"color\":[\"#f22c40\"],\"fill_alpha\":[0.8],\"height\":[20.0],\"line_alpha\":[1.0],\"line_color\":[\"white\"],\"width\":[0.8],\"x\":[20],\"y\":[10.0]}},\"id\":\"973f0289-f7e0-4978-b212-e0ec95634efd\",\"type\":\"ColumnDataSource\"},{\"attributes\":{\"fill_alpha\":{\"field\":\"fill_alpha\"},\"fill_color\":{\"field\":\"color\"},\"height\":{\"field\":\"height\",\"units\":\"data\"},\"line_color\":{\"field\":\"line_color\"},\"width\":{\"field\":\"width\",\"units\":\"data\"},\"x\":{\"field\":\"x\"},\"y\":{\"field\":\"y\"}},\"id\":\"94f187e6-c550-419b-9b3c-ffeee0ae430f\",\"type\":\"Rect\"},{\"attributes\":{\"fill_alpha\":{\"field\":\"fill_alpha\"},\"fill_color\":{\"field\":\"color\"},\"height\":{\"field\":\"height\",\"units\":\"data\"},\"line_color\":{\"field\":\"line_color\"},\"width\":{\"field\":\"width\",\"units\":\"data\"},\"x\":{\"field\":\"x\"},\"y\":{\"field\":\"y\"}},\"id\":\"03f95ed9-d68e-405f-a638-09593aba8173\",\"type\":\"Rect\"},{\"attributes\":{\"data_source\":{\"id\":\"9ecd2b1b-c3c1-407e-a358-be8ee944b986\",\"type\":\"ColumnDataSource\"},\"glyph\":{\"id\":\"cf6c16a5-ed30-484c-84f4-9600be1b7c22\",\"type\":\"Rect\"},\"hover_glyph\":null,\"nonselection_glyph\":null,\"selection_glyph\":null},\"id\":\"fe0f8fbd-72de-4c1f-97ca-712e569461d0\",\"type\":\"GlyphRenderer\"},{\"attributes\":{\"data_source\":{\"id\":\"da4e6f73-dbff-41e9-8fa0-6cbb54d526d7\",\"type\":\"ColumnDataSource\"},\"glyph\":{\"id\":\"59c533f1-feff-41db-8e6f-0096c33f5638\",\"type\":\"Rect\"},\"hover_glyph\":null,\"nonselection_glyph\":null,\"selection_glyph\":null},\"id\":\"e453fcf5-6733-495e-a3ac-49c8e98df30b\",\"type\":\"GlyphRenderer\"},{\"attributes\":{\"fill_alpha\":{\"field\":\"fill_alpha\"},\"fill_color\":{\"field\":\"color\"},\"height\":{\"field\":\"height\",\"units\":\"data\"},\"line_color\":{\"field\":\"line_color\"},\"width\":{\"field\":\"width\",\"units\":\"data\"},\"x\":{\"field\":\"x\"},\"y\":{\"field\":\"y\"}},\"id\":\"00e84c5a-c3b2-47d0-996e-0a1e33a61ae8\",\"type\":\"Rect\"},{\"attributes\":{\"axis_label\":\"Y\",\"formatter\":{\"id\":\"05bbab33-8990-45a7-bc0d-9db5459dd8a3\",\"type\":\"BasicTickFormatter\"},\"plot\":{\"id\":\"cd7d963d-c0ab-4ea7-85cf-2a739d7099e3\",\"subtype\":\"Chart\",\"type\":\"Plot\"},\"ticker\":{\"id\":\"47f4184b-33e3-47b2-90d0-373c948f62bb\",\"type\":\"BasicTicker\"}},\"id\":\"68efb5b8-c589-4be5-80b6-63a360338693\",\"type\":\"LinearAxis\"},{\"attributes\":{\"data_source\":{\"id\":\"973f0289-f7e0-4978-b212-e0ec95634efd\",\"type\":\"ColumnDataSource\"},\"glyph\":{\"id\":\"8d4aea70-caf6-4ff5-a558-552bcb46ab86\",\"type\":\"Rect\"},\"hover_glyph\":null,\"nonselection_glyph\":null,\"selection_glyph\":null},\"id\":\"804c1ae4-7b5f-4f98-ae6e-1ed061c5f773\",\"type\":\"GlyphRenderer\"},{\"attributes\":{\"data_source\":{\"id\":\"96f1030e-d575-4047-9f7f-ad23e8b4b250\",\"type\":\"ColumnDataSource\"},\"glyph\":{\"id\":\"48cb7a51-daae-463a-be81-91589e5e9732\",\"type\":\"Rect\"},\"hover_glyph\":null,\"nonselection_glyph\":null,\"selection_glyph\":null},\"id\":\"a1f87e3c-240d-46b3-bd98-f453fca6ccae\",\"type\":\"GlyphRenderer\"},{\"attributes\":{\"callback\":null,\"column_names\":[\"color\",\"line_color\",\"height\",\"width\",\"x\",\"fill_alpha\",\"y\",\"line_alpha\"],\"data\":{\"chart_index\":[{\"x\":1}],\"color\":[\"#f22c40\"],\"fill_alpha\":[0.8],\"height\":[1.0],\"line_alpha\":[1.0],\"line_color\":[\"white\"],\"width\":[0.8],\"x\":[1],\"y\":[0.5]}},\"id\":\"f7864e2c-61be-4933-9076-80388748bdc1\",\"type\":\"ColumnDataSource\"},{\"attributes\":{\"fill_alpha\":{\"field\":\"fill_alpha\"},\"fill_color\":{\"field\":\"color\"},\"height\":{\"field\":\"height\",\"units\":\"data\"},\"line_color\":{\"field\":\"line_color\"},\"width\":{\"field\":\"width\",\"units\":\"data\"},\"x\":{\"field\":\"x\"},\"y\":{\"field\":\"y\"}},\"id\":\"514d8717-a898-4274-9c87-6a208580b287\",\"type\":\"Rect\"},{\"attributes\":{\"data_source\":{\"id\":\"aa1f5f78-c659-41fe-8c04-7ad03d88aedc\",\"type\":\"ColumnDataSource\"},\"glyph\":{\"id\":\"63951f4d-891e-47cd-926a-aca0f310b069\",\"type\":\"Rect\"},\"hover_glyph\":null,\"nonselection_glyph\":null,\"selection_glyph\":null},\"id\":\"9877bf72-d45b-46d0-a424-dd52a80b35d5\",\"type\":\"GlyphRenderer\"},{\"attributes\":{\"callback\":null,\"column_names\":[\"color\",\"line_color\",\"height\",\"width\",\"x\",\"fill_alpha\",\"y\",\"line_alpha\"],\"data\":{\"chart_index\":[{\"x\":14}],\"color\":[\"#f22c40\"],\"fill_alpha\":[0.8],\"height\":[14.0],\"line_alpha\":[1.0],\"line_color\":[\"white\"],\"width\":[0.8],\"x\":[14],\"y\":[7.0]}},\"id\":\"bc217606-70df-4276-b3a0-b8c0c762db85\",\"type\":\"ColumnDataSource\"},{\"attributes\":{\"callback\":null,\"end\":7.7,\"start\":-0.7000000000000001},\"id\":\"ab31d846-64a1-4989-933a-46df902be745\",\"type\":\"Range1d\"},{\"attributes\":{\"data_source\":{\"id\":\"1912f0d3-51e4-4f6c-a067-0d6fd2b37b2e\",\"type\":\"ColumnDataSource\"},\"glyph\":{\"id\":\"4570094d-17b8-431e-976b-1ba943af386d\",\"type\":\"Circle\"},\"hover_glyph\":null,\"nonselection_glyph\":null,\"selection_glyph\":null},\"id\":\"429bba5f-4674-470c-937d-0611d58feb90\",\"type\":\"GlyphRenderer\"},{\"attributes\":{\"fill_alpha\":{\"field\":\"fill_alpha\"},\"fill_color\":{\"field\":\"color\"},\"height\":{\"field\":\"height\",\"units\":\"data\"},\"line_color\":{\"field\":\"line_color\"},\"width\":{\"field\":\"width\",\"units\":\"data\"},\"x\":{\"field\":\"x\"},\"y\":{\"field\":\"y\"}},\"id\":\"be75e484-2779-4f7e-ab55-8aa2f8736ab8\",\"type\":\"Rect\"},{\"attributes\":{\"callback\":null,\"column_names\":[\"color\",\"line_color\",\"height\",\"width\",\"x\",\"fill_alpha\",\"y\",\"line_alpha\"],\"data\":{\"chart_index\":[{\"x\":13}],\"color\":[\"#f22c40\"],\"fill_alpha\":[0.8],\"height\":[13.0],\"line_alpha\":[1.0],\"line_color\":[\"white\"],\"width\":[0.8],\"x\":[13],\"y\":[6.5]}},\"id\":\"0f8aa8bd-67dd-4d7b-8b96-2ccf32b467e7\",\"type\":\"ColumnDataSource\"},{\"attributes\":{\"fill_alpha\":{\"field\":\"fill_alpha\"},\"fill_color\":{\"field\":\"color\"},\"height\":{\"field\":\"height\",\"units\":\"data\"},\"line_color\":{\"field\":\"line_color\"},\"width\":{\"field\":\"width\",\"units\":\"data\"},\"x\":{\"field\":\"x\"},\"y\":{\"field\":\"y\"}},\"id\":\"c6fdf657-06cd-45f0-acc8-b87a43e9f703\",\"type\":\"Rect\"},{\"attributes\":{\"data_source\":{\"id\":\"f9a68fde-d3bf-4214-b6ef-ea264964d6fd\",\"type\":\"ColumnDataSource\"},\"glyph\":{\"id\":\"e4ad32fd-db50-4f23-a472-a67870672170\",\"type\":\"Rect\"},\"hover_glyph\":null,\"nonselection_glyph\":null,\"selection_glyph\":null},\"id\":\"b7908eea-3936-4e01-aa1a-30201dd1b3f0\",\"type\":\"GlyphRenderer\"},{\"attributes\":{\"callback\":null,\"column_names\":[\"color\",\"line_color\",\"height\",\"width\",\"x\",\"fill_alpha\",\"y\",\"line_alpha\"],\"data\":{\"chart_index\":[{\"x\":16}],\"color\":[\"#f22c40\"],\"fill_alpha\":[0.8],\"height\":[16.0],\"line_alpha\":[1.0],\"line_color\":[\"white\"],\"width\":[0.8],\"x\":[16],\"y\":[8.0]}},\"id\":\"55581c09-db5c-47b6-bc22-3e2aa2877440\",\"type\":\"ColumnDataSource\"},{\"attributes\":{\"callback\":null,\"column_names\":[\"color\",\"line_color\",\"height\",\"width\",\"x\",\"fill_alpha\",\"y\",\"line_alpha\"],\"data\":{\"chart_index\":[{\"x\":3}],\"color\":[\"#f22c40\"],\"fill_alpha\":[0.8],\"height\":[3.0],\"line_alpha\":[1.0],\"line_color\":[\"white\"],\"width\":[0.8],\"x\":[3],\"y\":[1.5]}},\"id\":\"6570913c-4d6e-4bc7-8535-5f063cc07fd3\",\"type\":\"ColumnDataSource\"},{\"attributes\":{\"fill_alpha\":{\"field\":\"fill_alpha\"},\"fill_color\":{\"field\":\"color\"},\"height\":{\"field\":\"height\",\"units\":\"data\"},\"line_color\":{\"field\":\"line_color\"},\"width\":{\"field\":\"width\",\"units\":\"data\"},\"x\":{\"field\":\"x\"},\"y\":{\"field\":\"y\"}},\"id\":\"8f5db466-c70d-48cd-be45-0c167f411df2\",\"type\":\"Rect\"},{\"attributes\":{\"callback\":null,\"column_names\":[\"color\",\"line_color\",\"height\",\"width\",\"x\",\"fill_alpha\",\"y\",\"line_alpha\"],\"data\":{\"chart_index\":[{\"x\":9}],\"color\":[\"#f22c40\"],\"fill_alpha\":[0.8],\"height\":[9.0],\"line_alpha\":[1.0],\"line_color\":[\"white\"],\"width\":[0.8],\"x\":[9],\"y\":[4.5]}},\"id\":\"2ab0d82e-f95f-476f-806c-01104983ac76\",\"type\":\"ColumnDataSource\"},{\"attributes\":{\"fill_alpha\":{\"field\":\"fill_alpha\"},\"fill_color\":{\"field\":\"color\"},\"height\":{\"field\":\"height\",\"units\":\"data\"},\"line_color\":{\"field\":\"line_color\"},\"width\":{\"field\":\"width\",\"units\":\"data\"},\"x\":{\"field\":\"x\"},\"y\":{\"field\":\"y\"}},\"id\":\"1775b1ed-5d8b-42f7-a6b4-ddaa090e5f09\",\"type\":\"Rect\"},{\"attributes\":{\"callback\":null,\"column_names\":[\"color\",\"line_color\",\"height\",\"width\",\"x\",\"fill_alpha\",\"y\",\"line_alpha\"],\"data\":{\"chart_index\":[{\"x\":0}],\"color\":[\"#f22c40\"],\"fill_alpha\":[0.8],\"height\":[0.0],\"line_alpha\":[1.0],\"line_color\":[\"white\"],\"width\":[0.8],\"x\":[0],\"y\":[0.0]}},\"id\":\"753c0e8d-caad-4871-83bb-895a05863bd1\",\"type\":\"ColumnDataSource\"},{\"attributes\":{\"fill_alpha\":{\"field\":\"fill_alpha\"},\"fill_color\":{\"field\":\"color\"},\"height\":{\"field\":\"height\",\"units\":\"data\"},\"line_color\":{\"field\":\"line_color\"},\"width\":{\"field\":\"width\",\"units\":\"data\"},\"x\":{\"field\":\"x\"},\"y\":{\"field\":\"y\"}},\"id\":\"e765c0a2-831c-4808-bda1-a75be2399635\",\"type\":\"Rect\"},{\"attributes\":{},\"id\":\"05bbab33-8990-45a7-bc0d-9db5459dd8a3\",\"type\":\"BasicTickFormatter\"},{\"attributes\":{\"data_source\":{\"id\":\"f7864e2c-61be-4933-9076-80388748bdc1\",\"type\":\"ColumnDataSource\"},\"glyph\":{\"id\":\"00e84c5a-c3b2-47d0-996e-0a1e33a61ae8\",\"type\":\"Rect\"},\"hover_glyph\":null,\"nonselection_glyph\":null,\"selection_glyph\":null},\"id\":\"b6efcc0b-cc49-4baf-9f27-a7157e0afe28\",\"type\":\"GlyphRenderer\"},{\"attributes\":{\"dimension\":1,\"plot\":{\"id\":\"2bf18d35-a858-4449-b12f-fd366d466bda\",\"subtype\":\"Chart\",\"type\":\"Plot\"},\"ticker\":{\"id\":\"9ecf0cbd-3b94-4153-8a6d-b6bbcd0f8258\",\"type\":\"BasicTicker\"}},\"id\":\"3f9d21f5-4623-44b4-bc44-96284ffca6ca\",\"type\":\"Grid\"},{\"attributes\":{\"data_source\":{\"id\":\"484a041b-7489-40ae-80a6-a20534e4f8e8\",\"type\":\"ColumnDataSource\"},\"glyph\":{\"id\":\"e1bba0d4-0486-4a14-ac8b-65efc56e5dae\",\"type\":\"Rect\"},\"hover_glyph\":null,\"nonselection_glyph\":null,\"selection_glyph\":null},\"id\":\"a8513373-dfe6-4c7b-b53b-581fe32ec7e4\",\"type\":\"GlyphRenderer\"},{\"attributes\":{\"fill_alpha\":{\"field\":\"fill_alpha\"},\"fill_color\":{\"field\":\"color\"},\"height\":{\"field\":\"height\",\"units\":\"data\"},\"line_color\":{\"field\":\"line_color\"},\"width\":{\"field\":\"width\",\"units\":\"data\"},\"x\":{\"field\":\"x\"},\"y\":{\"field\":\"y\"}},\"id\":\"36612eaa-820e-4dcd-9708-e605297617eb\",\"type\":\"Rect\"},{\"attributes\":{\"data_source\":{\"id\":\"eaa25800-a428-4b30-b7fb-26840b65fca6\",\"type\":\"ColumnDataSource\"},\"glyph\":{\"id\":\"4ec46815-52dc-4ac4-82b1-82e9016ccf58\",\"type\":\"Rect\"},\"hover_glyph\":null,\"nonselection_glyph\":null,\"selection_glyph\":null},\"id\":\"f60e39a5-6620-47be-96ce-886e85c4138e\",\"type\":\"GlyphRenderer\"},{\"attributes\":{\"data_source\":{\"id\":\"b04f3801-0df8-476c-ba67-eafc4cf51fcb\",\"type\":\"ColumnDataSource\"},\"glyph\":{\"id\":\"d6d80308-4d27-446e-b146-bc8ebffe3e7f\",\"type\":\"Circle\"},\"hover_glyph\":null,\"nonselection_glyph\":null,\"selection_glyph\":null},\"id\":\"5ffa71e1-ea90-45b2-8e45-f322bc4aa4d7\",\"type\":\"GlyphRenderer\"},{\"attributes\":{\"data_source\":{\"id\":\"304b60f6-200b-4f5d-85f6-9f753cd047d8\",\"type\":\"ColumnDataSource\"},\"glyph\":{\"id\":\"fbd4865a-d53f-46b4-8349-4347138d1f67\",\"type\":\"Rect\"},\"hover_glyph\":null,\"nonselection_glyph\":null,\"selection_glyph\":null},\"id\":\"b8159d21-67ed-4174-9b0d-eea0e2085e7a\",\"type\":\"GlyphRenderer\"},{\"attributes\":{},\"id\":\"1ef2d4f6-42cc-4c48-9a44-6d63225c1470\",\"type\":\"BasicTicker\"},{\"attributes\":{\"fill_alpha\":{\"field\":\"fill_alpha\"},\"fill_color\":{\"field\":\"color\"},\"height\":{\"field\":\"height\",\"units\":\"data\"},\"line_color\":{\"field\":\"line_color\"},\"width\":{\"field\":\"width\",\"units\":\"data\"},\"x\":{\"field\":\"x\"},\"y\":{\"field\":\"y\"}},\"id\":\"087c8c4d-54f0-4cad-8307-c600b1a71760\",\"type\":\"Rect\"},{\"attributes\":{\"below\":[{\"id\":\"b8c6305a-e2d9-4d16-b06b-13c41ba6e864\",\"type\":\"LinearAxis\"}],\"left\":[{\"id\":\"390037a3-6d70-4538-8554-dd0043328c18\",\"type\":\"LinearAxis\"}],\"legend\":\"top_right\",\"renderers\":[{\"id\":\"f0b7307f-a416-4c84-995f-39dd365779c2\",\"type\":\"BoxAnnotation\"},{\"id\":\"5ffa71e1-ea90-45b2-8e45-f322bc4aa4d7\",\"type\":\"GlyphRenderer\"},{\"id\":\"e22916fe-cb80-49e4-a787-63bc95ac383a\",\"type\":\"GlyphRenderer\"},{\"id\":\"0b9e0fe5-3df1-49ae-a5ec-161fc6bcef0b\",\"type\":\"Legend\"},{\"id\":\"b8c6305a-e2d9-4d16-b06b-13c41ba6e864\",\"type\":\"LinearAxis\"},{\"id\":\"390037a3-6d70-4538-8554-dd0043328c18\",\"type\":\"LinearAxis\"},{\"id\":\"cd7aab10-d428-4fc6-a182-173d472605ee\",\"type\":\"Grid\"},{\"id\":\"3ab4fba8-7682-4076-8a77-fefa4ef0600a\",\"type\":\"Grid\"}],\"title_text_font_size\":{\"value\":\"14pt\"},\"tool_events\":{\"id\":\"1a39e375-1faf-421c-8e76-95a4437dda6a\",\"type\":\"ToolEvents\"},\"tools\":[{\"id\":\"7bd09bb0-e246-4333-88b3-367fe021a354\",\"type\":\"PanTool\"},{\"id\":\"d358e4e0-eac5-4456-b2f5-b760f27170bc\",\"type\":\"WheelZoomTool\"},{\"id\":\"487e216f-6752-44aa-998a-603bcc40ce9b\",\"type\":\"BoxZoomTool\"},{\"id\":\"05074aae-925e-410e-81c3-61e58efb8207\",\"type\":\"PreviewSaveTool\"},{\"id\":\"becac1ee-6654-444f-97fb-237f5652159c\",\"type\":\"ResizeTool\"},{\"id\":\"61e6fc16-fdc5-4b0f-8371-91d61d123409\",\"type\":\"ResetTool\"},{\"id\":\"dba8dc55-d135-4029-b8ed-6d06f0d2e575\",\"type\":\"HelpTool\"}],\"x_mapper_type\":\"auto\",\"x_range\":{\"id\":\"ba87dbaa-e25c-4364-b33e-3aba0d954097\",\"type\":\"Range1d\"},\"xscale\":\"auto\",\"y_mapper_type\":\"auto\",\"y_range\":{\"id\":\"395441f7-da7f-4068-b584-fe0115ef2768\",\"type\":\"Range1d\"},\"yscale\":\"auto\"},\"id\":\"d00f583e-b9f2-4ea2-8d62-d58576f93a49\",\"subtype\":\"Chart\",\"type\":\"Plot\"},{\"attributes\":{\"fill_alpha\":{\"field\":\"fill_alpha\"},\"fill_color\":{\"field\":\"color\"},\"height\":{\"field\":\"height\",\"units\":\"data\"},\"line_color\":{\"field\":\"line_color\"},\"width\":{\"field\":\"width\",\"units\":\"data\"},\"x\":{\"field\":\"x\"},\"y\":{\"field\":\"y\"}},\"id\":\"64b84739-f21e-4a53-95b7-492f1be92bf0\",\"type\":\"Rect\"},{\"attributes\":{\"plot\":{\"id\":\"d00f583e-b9f2-4ea2-8d62-d58576f93a49\",\"subtype\":\"Chart\",\"type\":\"Plot\"}},\"id\":\"05074aae-925e-410e-81c3-61e58efb8207\",\"type\":\"PreviewSaveTool\"},{\"attributes\":{\"below\":[{\"id\":\"5adbbf94-962b-4aad-a2f6-1a1c08f1c5e4\",\"type\":\"CategoricalAxis\"}],\"left\":[{\"id\":\"3475158f-31cd-4456-85e6-ea2151e030e6\",\"type\":\"LinearAxis\"}],\"legend\":null,\"renderers\":[{\"id\":\"75cddb07-ea16-436a-b3d4-c5392398edad\",\"type\":\"BoxAnnotation\"},{\"id\":\"b8159d21-67ed-4174-9b0d-eea0e2085e7a\",\"type\":\"GlyphRenderer\"},{\"id\":\"4c929d98-badf-4a57-a805-e9022e0e081d\",\"type\":\"GlyphRenderer\"},{\"id\":\"b5acdddf-054c-4931-ae4b-585982dc1b50\",\"type\":\"GlyphRenderer\"},{\"id\":\"c69b3c81-9fd9-4b4a-b8c5-e1698d637c0c\",\"type\":\"GlyphRenderer\"},{\"id\":\"9877bf72-d45b-46d0-a424-dd52a80b35d5\",\"type\":\"GlyphRenderer\"},{\"id\":\"a3213469-f3f3-4208-89b1-7d13f58f1810\",\"type\":\"GlyphRenderer\"},{\"id\":\"d4a354c7-d23c-4345-a42c-c6fc1ec947b2\",\"type\":\"GlyphRenderer\"},{\"id\":\"213b4174-fdb5-4a96-aa3c-e9c8c8e849a1\",\"type\":\"GlyphRenderer\"},{\"id\":\"4fe596e2-7308-4075-80a4-616abc893428\",\"type\":\"GlyphRenderer\"},{\"id\":\"fef3cab2-57fd-4ba4-b86a-1c2394ebf563\",\"type\":\"GlyphRenderer\"},{\"id\":\"a2035ffe-fa59-4f7a-bf63-af8be879dd76\",\"type\":\"GlyphRenderer\"},{\"id\":\"a1789627-add6-4bc4-8d00-1f46b3068165\",\"type\":\"GlyphRenderer\"},{\"id\":\"13ef54eb-ed55-4498-af51-444b535d1f63\",\"type\":\"GlyphRenderer\"},{\"id\":\"f60e39a5-6620-47be-96ce-886e85c4138e\",\"type\":\"GlyphRenderer\"},{\"id\":\"043107fd-2784-49a9-a659-11b4ffe3777b\",\"type\":\"GlyphRenderer\"},{\"id\":\"2f81a9e3-665f-473c-b22f-efdb366ae602\",\"type\":\"GlyphRenderer\"},{\"id\":\"43733469-89d9-413e-9e8f-d3aca22988fb\",\"type\":\"GlyphRenderer\"},{\"id\":\"ddd79f66-e4ea-47c9-9e73-320e5cc6de48\",\"type\":\"GlyphRenderer\"},{\"id\":\"4c47d3b1-4444-475d-b4cf-8c214b957991\",\"type\":\"GlyphRenderer\"},{\"id\":\"46cfe634-b415-47e2-be2b-98c37e11d866\",\"type\":\"GlyphRenderer\"},{\"id\":\"974eba74-1901-46ae-b3da-8e7c0e3ab51d\",\"type\":\"GlyphRenderer\"},{\"id\":\"5adbbf94-962b-4aad-a2f6-1a1c08f1c5e4\",\"type\":\"CategoricalAxis\"},{\"id\":\"3475158f-31cd-4456-85e6-ea2151e030e6\",\"type\":\"LinearAxis\"},{\"id\":\"9ac1c3ba-3901-4f66-920d-fe5a38327074\",\"type\":\"Grid\"}],\"title_text_font_size\":{\"value\":\"14pt\"},\"tool_events\":{\"id\":\"c469359b-d974-498b-86bb-c876474dbffc\",\"type\":\"ToolEvents\"},\"tools\":[{\"id\":\"4c0728aa-ba64-4b98-a2cc-fa7b7aaaa780\",\"type\":\"PanTool\"},{\"id\":\"b7587747-03e7-446e-91aa-b32d3e697f94\",\"type\":\"WheelZoomTool\"},{\"id\":\"5ba23349-2c23-43cf-b65a-9a854631b3f9\",\"type\":\"BoxZoomTool\"},{\"id\":\"1e27bcaf-e967-4b11-ad69-37b0b4a846f2\",\"type\":\"PreviewSaveTool\"},{\"id\":\"431428e4-f066-4303-9b24-1565d8db2d15\",\"type\":\"ResizeTool\"},{\"id\":\"f3fc1ea7-54f8-4993-ab72-4d555591cc1a\",\"type\":\"ResetTool\"},{\"id\":\"7794d5bb-ad76-4689-827d-2ab54e842f85\",\"type\":\"HelpTool\"}],\"x_mapper_type\":\"auto\",\"x_range\":{\"id\":\"0c6c3f1e-de31-47be-929d-11e1fd611810\",\"type\":\"FactorRange\"},\"xgrid\":false,\"xscale\":\"auto\",\"y_mapper_type\":\"auto\",\"y_range\":{\"id\":\"4750cb24-3731-47a0-b53c-1ca4c2118dee\",\"type\":\"Range1d\"},\"yscale\":\"auto\"},\"id\":\"9df36f1c-b1e5-47cf-bd02-8ca67964d13e\",\"subtype\":\"Chart\",\"type\":\"Plot\"},{\"attributes\":{\"callback\":null,\"column_names\":[\"color\",\"line_color\",\"height\",\"width\",\"x\",\"fill_alpha\",\"y\",\"line_alpha\"],\"data\":{\"chart_index\":[{\"x\":9}],\"color\":[\"#f22c40\"],\"fill_alpha\":[0.8],\"height\":[9.0],\"line_alpha\":[1.0],\"line_color\":[\"white\"],\"width\":[0.8],\"x\":[9],\"y\":[4.5]}},\"id\":\"6f94e92c-c215-4148-a5d7-c553fb827e7d\",\"type\":\"ColumnDataSource\"},{\"attributes\":{\"dimension\":1,\"plot\":{\"id\":\"9df36f1c-b1e5-47cf-bd02-8ca67964d13e\",\"subtype\":\"Chart\",\"type\":\"Plot\"},\"ticker\":{\"id\":\"c6c7571d-88b8-4871-aaf7-a379265a794c\",\"type\":\"BasicTicker\"}},\"id\":\"9ac1c3ba-3901-4f66-920d-fe5a38327074\",\"type\":\"Grid\"},{\"attributes\":{\"data_source\":{\"id\":\"00ab5d83-703d-4d60-8c58-d9843730dd57\",\"type\":\"ColumnDataSource\"},\"glyph\":{\"id\":\"320efc47-5c42-410f-be27-79268ae59803\",\"type\":\"Rect\"},\"hover_glyph\":null,\"nonselection_glyph\":null,\"selection_glyph\":null},\"id\":\"7e857c8d-5958-4e86-8ce4-c7302268786f\",\"type\":\"GlyphRenderer\"},{\"attributes\":{\"callback\":null,\"column_names\":[\"color\",\"line_color\",\"height\",\"width\",\"x\",\"fill_alpha\",\"y\",\"line_alpha\"],\"data\":{\"chart_index\":[{\"x\":1}],\"color\":[\"#f22c40\"],\"fill_alpha\":[0.8],\"height\":[1.0],\"line_alpha\":[1.0],\"line_color\":[\"white\"],\"width\":[0.8],\"x\":[1],\"y\":[0.5]}},\"id\":\"1555b0b1-ce2d-438d-a0bc-364b7a4c2c95\",\"type\":\"ColumnDataSource\"},{\"attributes\":{\"data_source\":{\"id\":\"ea4b7cd8-f0e9-41f9-aac7-a8466c236884\",\"type\":\"ColumnDataSource\"},\"glyph\":{\"id\":\"5d32e0e9-7e77-4738-9369-552b4a2d8304\",\"type\":\"Rect\"},\"hover_glyph\":null,\"nonselection_glyph\":null,\"selection_glyph\":null},\"id\":\"974eba74-1901-46ae-b3da-8e7c0e3ab51d\",\"type\":\"GlyphRenderer\"},{\"attributes\":{\"data_source\":{\"id\":\"3a608a3a-0212-4e43-b1c2-da76a44ca682\",\"type\":\"ColumnDataSource\"},\"glyph\":{\"id\":\"58e15e61-ee8c-4a65-b585-671102b01806\",\"type\":\"Rect\"},\"hover_glyph\":null,\"nonselection_glyph\":null,\"selection_glyph\":null},\"id\":\"963c634a-0ccc-468e-a8aa-ad839ee594b8\",\"type\":\"GlyphRenderer\"},{\"attributes\":{\"fill_alpha\":{\"field\":\"fill_alpha\"},\"fill_color\":{\"field\":\"color\"},\"height\":{\"field\":\"height\",\"units\":\"data\"},\"line_color\":{\"field\":\"line_color\"},\"width\":{\"field\":\"width\",\"units\":\"data\"},\"x\":{\"field\":\"x\"},\"y\":{\"field\":\"y\"}},\"id\":\"320efc47-5c42-410f-be27-79268ae59803\",\"type\":\"Rect\"},{\"attributes\":{\"callback\":null,\"column_names\":[\"color\",\"line_color\",\"height\",\"width\",\"x\",\"fill_alpha\",\"y\",\"line_alpha\"],\"data\":{\"chart_index\":[{\"x\":10}],\"color\":[\"#f22c40\"],\"fill_alpha\":[0.8],\"height\":[10.0],\"line_alpha\":[1.0],\"line_color\":[\"white\"],\"width\":[0.8],\"x\":[10],\"y\":[5.0]}},\"id\":\"b01ecf3d-a2f0-4909-8295-1a87ced509c6\",\"type\":\"ColumnDataSource\"},{\"attributes\":{\"callback\":null,\"column_names\":[\"color\",\"line_color\",\"height\",\"width\",\"x\",\"fill_alpha\",\"y\",\"line_alpha\"],\"data\":{\"chart_index\":[{\"x\":6}],\"color\":[\"#f22c40\"],\"fill_alpha\":[0.8],\"height\":[6.0],\"line_alpha\":[1.0],\"line_color\":[\"white\"],\"width\":[0.8],\"x\":[6],\"y\":[3.0]}},\"id\":\"55935138-5a75-49cd-a24c-46181aad579a\",\"type\":\"ColumnDataSource\"},{\"attributes\":{\"data_source\":{\"id\":\"1ed1ad7c-79c0-469d-bdda-880ec8c27068\",\"type\":\"ColumnDataSource\"},\"glyph\":{\"id\":\"ff83a63c-844e-41dc-9179-3051ea87bfb1\",\"type\":\"Rect\"},\"hover_glyph\":null,\"nonselection_glyph\":null,\"selection_glyph\":null},\"id\":\"e8b00d50-d2d3-4425-be2b-251191e979b1\",\"type\":\"GlyphRenderer\"},{\"attributes\":{\"callback\":null,\"end\":21.0},\"id\":\"08f3f578-1b70-4e9d-b7aa-8dd647a51854\",\"type\":\"Range1d\"},{\"attributes\":{\"plot\":{\"id\":\"cd7d963d-c0ab-4ea7-85cf-2a739d7099e3\",\"subtype\":\"Chart\",\"type\":\"Plot\"}},\"id\":\"811a7ceb-16d2-441a-b8ed-488bedd4fb60\",\"type\":\"ResetTool\"},{\"attributes\":{\"callback\":null,\"column_names\":[\"color\",\"line_color\",\"height\",\"width\",\"x\",\"fill_alpha\",\"y\",\"line_alpha\"],\"data\":{\"chart_index\":[{\"x\":8}],\"color\":[\"#f22c40\"],\"fill_alpha\":[0.8],\"height\":[8.0],\"line_alpha\":[1.0],\"line_color\":[\"white\"],\"width\":[0.8],\"x\":[8],\"y\":[4.0]}},\"id\":\"a4458a96-8f82-48a3-9988-df74b79db011\",\"type\":\"ColumnDataSource\"},{\"attributes\":{\"callback\":null,\"column_names\":[\"color\",\"line_color\",\"height\",\"width\",\"x\",\"fill_alpha\",\"y\",\"line_alpha\"],\"data\":{\"chart_index\":[{\"x\":12}],\"color\":[\"#f22c40\"],\"fill_alpha\":[0.8],\"height\":[12.0],\"line_alpha\":[1.0],\"line_color\":[\"white\"],\"width\":[0.8],\"x\":[12],\"y\":[6.0]}},\"id\":\"6c68f6be-703b-4ab7-b3c4-238da45dcb7b\",\"type\":\"ColumnDataSource\"},{\"attributes\":{\"data_source\":{\"id\":\"2673e030-64d0-416d-b4b3-8aedf8bd8b23\",\"type\":\"ColumnDataSource\"},\"glyph\":{\"id\":\"087c8c4d-54f0-4cad-8307-c600b1a71760\",\"type\":\"Rect\"},\"hover_glyph\":null,\"nonselection_glyph\":null,\"selection_glyph\":null},\"id\":\"a3213469-f3f3-4208-89b1-7d13f58f1810\",\"type\":\"GlyphRenderer\"},{\"attributes\":{\"legends\":[[\"A\",[{\"id\":\"429bba5f-4674-470c-937d-0611d58feb90\",\"type\":\"GlyphRenderer\"}]],[\"B\",[{\"id\":\"1b3dcfaa-3b23-4d03-9406-53cef97dddcb\",\"type\":\"GlyphRenderer\"}]]],\"plot\":{\"id\":\"cd7d963d-c0ab-4ea7-85cf-2a739d7099e3\",\"subtype\":\"Chart\",\"type\":\"Plot\"}},\"id\":\"f11d3348-cfe0-4ff6-aa54-990fbc2f2cfe\",\"type\":\"Legend\"},{\"attributes\":{},\"id\":\"e4b244ab-866c-4273-9276-da537c289fcf\",\"type\":\"BasicTicker\"},{\"attributes\":{},\"id\":\"6db3a2b5-01c0-4bf6-b7f8-0df0b9f0b24c\",\"type\":\"BasicTickFormatter\"},{\"attributes\":{\"callback\":null,\"column_names\":[\"color\",\"line_color\",\"height\",\"width\",\"x\",\"fill_alpha\",\"y\",\"line_alpha\"],\"data\":{\"chart_index\":[{\"x\":10}],\"color\":[\"#f22c40\"],\"fill_alpha\":[0.8],\"height\":[10.0],\"line_alpha\":[1.0],\"line_color\":[\"white\"],\"width\":[0.8],\"x\":[10],\"y\":[5.0]}},\"id\":\"dcd77144-a3d9-41ed-b087-df20d7bc8209\",\"type\":\"ColumnDataSource\"},{\"attributes\":{\"callback\":null,\"column_names\":[\"y_values\",\"x_values\"],\"data\":{\"S\":[\"B\",\"B\",\"B\",\"B\",\"B\",\"B\",\"B\",\"B\"],\"chart_index\":[{\"S\":\"B\"},{\"S\":\"B\"},{\"S\":\"B\"},{\"S\":\"B\"},{\"S\":\"B\"},{\"S\":\"B\"},{\"S\":\"B\"},{\"S\":\"B\"}],\"x_values\":[0,1,2,3,4,5,6,7],\"y_values\":[3,1,2,3,3,3,2,1]}},\"id\":\"8997144a-dc86-47b6-b395-a657341b599e\",\"type\":\"ColumnDataSource\"},{\"attributes\":{\"overlay\":{\"id\":\"f0b7307f-a416-4c84-995f-39dd365779c2\",\"type\":\"BoxAnnotation\"},\"plot\":{\"id\":\"d00f583e-b9f2-4ea2-8d62-d58576f93a49\",\"subtype\":\"Chart\",\"type\":\"Plot\"}},\"id\":\"487e216f-6752-44aa-998a-603bcc40ce9b\",\"type\":\"BoxZoomTool\"},{\"attributes\":{\"data_source\":{\"id\":\"ca8b1a29-04de-42ef-aeea-82756cd2c7ce\",\"type\":\"ColumnDataSource\"},\"glyph\":{\"id\":\"03f95ed9-d68e-405f-a638-09593aba8173\",\"type\":\"Rect\"},\"hover_glyph\":null,\"nonselection_glyph\":null,\"selection_glyph\":null},\"id\":\"213b4174-fdb5-4a96-aa3c-e9c8c8e849a1\",\"type\":\"GlyphRenderer\"},{\"attributes\":{\"data_source\":{\"id\":\"55935138-5a75-49cd-a24c-46181aad579a\",\"type\":\"ColumnDataSource\"},\"glyph\":{\"id\":\"1a561b72-b1c6-403e-8ace-50048c603264\",\"type\":\"Rect\"},\"hover_glyph\":null,\"nonselection_glyph\":null,\"selection_glyph\":null},\"id\":\"8b6c5048-5aa0-4c20-8b46-c39b551f0299\",\"type\":\"GlyphRenderer\"},{\"attributes\":{\"data_source\":{\"id\":\"bc217606-70df-4276-b3a0-b8c0c762db85\",\"type\":\"ColumnDataSource\"},\"glyph\":{\"id\":\"06b426b9-329b-4f20-92b0-331fa3471fa3\",\"type\":\"Rect\"},\"hover_glyph\":null,\"nonselection_glyph\":null,\"selection_glyph\":null},\"id\":\"bf48657f-cfad-4b99-8fe0-9e075449214c\",\"type\":\"GlyphRenderer\"},{\"attributes\":{},\"id\":\"9ecf0cbd-3b94-4153-8a6d-b6bbcd0f8258\",\"type\":\"BasicTicker\"},{\"attributes\":{\"fill_alpha\":{\"field\":\"fill_alpha\"},\"fill_color\":{\"field\":\"color\"},\"height\":{\"field\":\"height\",\"units\":\"data\"},\"line_color\":{\"field\":\"line_color\"},\"width\":{\"field\":\"width\",\"units\":\"data\"},\"x\":{\"field\":\"x\"},\"y\":{\"field\":\"y\"}},\"id\":\"fbd4865a-d53f-46b4-8349-4347138d1f67\",\"type\":\"Rect\"},{\"attributes\":{\"fill_alpha\":{\"field\":\"fill_alpha\"},\"fill_color\":{\"field\":\"color\"},\"height\":{\"field\":\"height\",\"units\":\"data\"},\"line_color\":{\"field\":\"line_color\"},\"width\":{\"field\":\"width\",\"units\":\"data\"},\"x\":{\"field\":\"x\"},\"y\":{\"field\":\"y\"}},\"id\":\"4ec46815-52dc-4ac4-82b1-82e9016ccf58\",\"type\":\"Rect\"},{\"attributes\":{\"callback\":null,\"end\":7.7,\"start\":-0.7000000000000001},\"id\":\"ba87dbaa-e25c-4364-b33e-3aba0d954097\",\"type\":\"Range1d\"},{\"attributes\":{\"data_source\":{\"id\":\"fb10e7e0-6f8f-401c-8dd8-a5edd8f2396c\",\"type\":\"ColumnDataSource\"},\"glyph\":{\"id\":\"ec795310-ef3b-4db9-83de-5fd21aa94997\",\"type\":\"Rect\"},\"hover_glyph\":null,\"nonselection_glyph\":null,\"selection_glyph\":null},\"id\":\"043107fd-2784-49a9-a659-11b4ffe3777b\",\"type\":\"GlyphRenderer\"},{\"attributes\":{\"callback\":null,\"column_names\":[\"color\",\"line_color\",\"height\",\"width\",\"x\",\"fill_alpha\",\"y\",\"line_alpha\"],\"data\":{\"chart_index\":[{\"x\":13}],\"color\":[\"#f22c40\"],\"fill_alpha\":[0.8],\"height\":[13.0],\"line_alpha\":[1.0],\"line_color\":[\"white\"],\"width\":[0.8],\"x\":[13],\"y\":[6.5]}},\"id\":\"eaa25800-a428-4b30-b7fb-26840b65fca6\",\"type\":\"ColumnDataSource\"},{\"attributes\":{\"fill_alpha\":{\"field\":\"fill_alpha\"},\"fill_color\":{\"field\":\"color\"},\"height\":{\"field\":\"height\",\"units\":\"data\"},\"line_color\":{\"field\":\"line_color\"},\"width\":{\"field\":\"width\",\"units\":\"data\"},\"x\":{\"field\":\"x\"},\"y\":{\"field\":\"y\"}},\"id\":\"48cb7a51-daae-463a-be81-91589e5e9732\",\"type\":\"Rect\"},{\"attributes\":{\"plot\":{\"id\":\"cd7d963d-c0ab-4ea7-85cf-2a739d7099e3\",\"subtype\":\"Chart\",\"type\":\"Plot\"}},\"id\":\"318c76ef-787f-42bf-a62e-868f15490288\",\"type\":\"PreviewSaveTool\"},{\"attributes\":{\"data_source\":{\"id\":\"b6b86d4b-9cdc-4d87-b9c0-f4596f023cab\",\"type\":\"ColumnDataSource\"},\"glyph\":{\"id\":\"1fa7388c-d142-4e33-aff3-7cc322cfc424\",\"type\":\"Rect\"},\"hover_glyph\":null,\"nonselection_glyph\":null,\"selection_glyph\":null},\"id\":\"b5acdddf-054c-4931-ae4b-585982dc1b50\",\"type\":\"GlyphRenderer\"},{\"attributes\":{},\"id\":\"74e7798d-dd0a-4905-b78c-82b35803e06c\",\"type\":\"BasicTickFormatter\"},{\"attributes\":{\"plot\":{\"id\":\"9df36f1c-b1e5-47cf-bd02-8ca67964d13e\",\"subtype\":\"Chart\",\"type\":\"Plot\"}},\"id\":\"4c0728aa-ba64-4b98-a2cc-fa7b7aaaa780\",\"type\":\"PanTool\"},{\"attributes\":{\"plot\":{\"id\":\"9df36f1c-b1e5-47cf-bd02-8ca67964d13e\",\"subtype\":\"Chart\",\"type\":\"Plot\"}},\"id\":\"1e27bcaf-e967-4b11-ad69-37b0b4a846f2\",\"type\":\"PreviewSaveTool\"},{\"attributes\":{\"fill_alpha\":{\"field\":\"fill_alpha\"},\"fill_color\":{\"field\":\"color\"},\"height\":{\"field\":\"height\",\"units\":\"data\"},\"line_color\":{\"field\":\"line_color\"},\"width\":{\"field\":\"width\",\"units\":\"data\"},\"x\":{\"field\":\"x\"},\"y\":{\"field\":\"y\"}},\"id\":\"6e5be99a-0db5-46a5-b2c5-68662ac11a1f\",\"type\":\"Rect\"},{\"attributes\":{\"fill_alpha\":{\"field\":\"fill_alpha\"},\"fill_color\":{\"field\":\"color\"},\"height\":{\"field\":\"height\",\"units\":\"data\"},\"line_color\":{\"field\":\"line_color\"},\"width\":{\"field\":\"width\",\"units\":\"data\"},\"x\":{\"field\":\"x\"},\"y\":{\"field\":\"y\"}},\"id\":\"59c533f1-feff-41db-8e6f-0096c33f5638\",\"type\":\"Rect\"},{\"attributes\":{},\"id\":\"04bc55e4-926d-46d5-ab79-168a3182434b\",\"type\":\"BasicTickFormatter\"},{\"attributes\":{\"data_source\":{\"id\":\"1555b0b1-ce2d-438d-a0bc-364b7a4c2c95\",\"type\":\"ColumnDataSource\"},\"glyph\":{\"id\":\"6e5be99a-0db5-46a5-b2c5-68662ac11a1f\",\"type\":\"Rect\"},\"hover_glyph\":null,\"nonselection_glyph\":null,\"selection_glyph\":null},\"id\":\"4c929d98-badf-4a57-a805-e9022e0e081d\",\"type\":\"GlyphRenderer\"},{\"attributes\":{\"callback\":null,\"column_names\":[\"color\",\"line_color\",\"height\",\"width\",\"x\",\"fill_alpha\",\"y\",\"line_alpha\"],\"data\":{\"chart_index\":[{\"x\":0}],\"color\":[\"#f22c40\"],\"fill_alpha\":[0.8],\"height\":[0.0],\"line_alpha\":[1.0],\"line_color\":[\"white\"],\"width\":[0.8],\"x\":[0],\"y\":[0.0]}},\"id\":\"304b60f6-200b-4f5d-85f6-9f753cd047d8\",\"type\":\"ColumnDataSource\"},{\"attributes\":{\"fill_alpha\":{\"field\":\"fill_alpha\"},\"fill_color\":{\"field\":\"color\"},\"height\":{\"field\":\"height\",\"units\":\"data\"},\"line_color\":{\"field\":\"line_color\"},\"width\":{\"field\":\"width\",\"units\":\"data\"},\"x\":{\"field\":\"x\"},\"y\":{\"field\":\"y\"}},\"id\":\"6ee96cd7-8548-4d5c-869f-151f7f27b99e\",\"type\":\"Rect\"},{\"attributes\":{\"fill_alpha\":{\"field\":\"fill_alpha\"},\"fill_color\":{\"field\":\"color\"},\"height\":{\"field\":\"height\",\"units\":\"data\"},\"line_color\":{\"field\":\"line_color\"},\"width\":{\"field\":\"width\",\"units\":\"data\"},\"x\":{\"field\":\"x\"},\"y\":{\"field\":\"y\"}},\"id\":\"5d32e0e9-7e77-4738-9369-552b4a2d8304\",\"type\":\"Rect\"},{\"attributes\":{\"data_source\":{\"id\":\"3b08dd2b-6e21-47bb-bfee-7f1ec1bb65aa\",\"type\":\"ColumnDataSource\"},\"glyph\":{\"id\":\"3e4f3f67-cc3a-45a5-b088-6cfba592c415\",\"type\":\"Rect\"},\"hover_glyph\":null,\"nonselection_glyph\":null,\"selection_glyph\":null},\"id\":\"2f81a9e3-665f-473c-b22f-efdb366ae602\",\"type\":\"GlyphRenderer\"},{\"attributes\":{\"overlay\":{\"id\":\"75cddb07-ea16-436a-b3d4-c5392398edad\",\"type\":\"BoxAnnotation\"},\"plot\":{\"id\":\"9df36f1c-b1e5-47cf-bd02-8ca67964d13e\",\"subtype\":\"Chart\",\"type\":\"Plot\"}},\"id\":\"5ba23349-2c23-43cf-b65a-9a854631b3f9\",\"type\":\"BoxZoomTool\"},{\"attributes\":{\"fill_alpha\":{\"field\":\"fill_alpha\"},\"fill_color\":{\"field\":\"color\"},\"height\":{\"field\":\"height\",\"units\":\"data\"},\"line_color\":{\"field\":\"line_color\"},\"width\":{\"field\":\"width\",\"units\":\"data\"},\"x\":{\"field\":\"x\"},\"y\":{\"field\":\"y\"}},\"id\":\"ff83a63c-844e-41dc-9179-3051ea87bfb1\",\"type\":\"Rect\"},{\"attributes\":{\"data_source\":{\"id\":\"6c68f6be-703b-4ab7-b3c4-238da45dcb7b\",\"type\":\"ColumnDataSource\"},\"glyph\":{\"id\":\"12bedaba-67ee-4837-b743-a3d8929f380a\",\"type\":\"Rect\"},\"hover_glyph\":null,\"nonselection_glyph\":null,\"selection_glyph\":null},\"id\":\"13ef54eb-ed55-4498-af51-444b535d1f63\",\"type\":\"GlyphRenderer\"},{\"attributes\":{\"callback\":null,\"column_names\":[\"color\",\"line_color\",\"height\",\"width\",\"x\",\"fill_alpha\",\"y\",\"line_alpha\"],\"data\":{\"chart_index\":[{\"x\":3}],\"color\":[\"#f22c40\"],\"fill_alpha\":[0.8],\"height\":[3.0],\"line_alpha\":[1.0],\"line_color\":[\"white\"],\"width\":[0.8],\"x\":[3],\"y\":[1.5]}},\"id\":\"ea0b4641-cbb7-4941-98ee-7910f2a55981\",\"type\":\"ColumnDataSource\"},{\"attributes\":{\"axis_label\":\"Y\",\"formatter\":{\"id\":\"6db3a2b5-01c0-4bf6-b7f8-0df0b9f0b24c\",\"type\":\"BasicTickFormatter\"},\"plot\":{\"id\":\"d00f583e-b9f2-4ea2-8d62-d58576f93a49\",\"subtype\":\"Chart\",\"type\":\"Plot\"},\"ticker\":{\"id\":\"ce01eaeb-a42d-47db-9bcf-1e5f17c89cd5\",\"type\":\"BasicTicker\"}},\"id\":\"390037a3-6d70-4538-8554-dd0043328c18\",\"type\":\"LinearAxis\"},{\"attributes\":{\"fill_alpha\":{\"field\":\"fill_alpha\"},\"fill_color\":{\"field\":\"color\"},\"height\":{\"field\":\"height\",\"units\":\"data\"},\"line_color\":{\"field\":\"line_color\"},\"width\":{\"field\":\"width\",\"units\":\"data\"},\"x\":{\"field\":\"x\"},\"y\":{\"field\":\"y\"}},\"id\":\"e1bba0d4-0486-4a14-ac8b-65efc56e5dae\",\"type\":\"Rect\"},{\"attributes\":{\"callback\":null,\"column_names\":[\"color\",\"line_color\",\"height\",\"width\",\"x\",\"fill_alpha\",\"y\",\"line_alpha\"],\"data\":{\"chart_index\":[{\"x\":11}],\"color\":[\"#f22c40\"],\"fill_alpha\":[0.8],\"height\":[11.0],\"line_alpha\":[1.0],\"line_color\":[\"white\"],\"width\":[0.8],\"x\":[11],\"y\":[5.5]}},\"id\":\"e442a2c2-b8ba-4a67-9cad-30cc104fbcee\",\"type\":\"ColumnDataSource\"},{\"attributes\":{\"fill_alpha\":{\"field\":\"fill_alpha\"},\"fill_color\":{\"field\":\"color\"},\"height\":{\"field\":\"height\",\"units\":\"data\"},\"line_color\":{\"field\":\"line_color\"},\"width\":{\"field\":\"width\",\"units\":\"data\"},\"x\":{\"field\":\"x\"},\"y\":{\"field\":\"y\"}},\"id\":\"63951f4d-891e-47cd-926a-aca0f310b069\",\"type\":\"Rect\"},{\"attributes\":{\"plot\":{\"id\":\"cd7d963d-c0ab-4ea7-85cf-2a739d7099e3\",\"subtype\":\"Chart\",\"type\":\"Plot\"}},\"id\":\"aefc7dcb-6829-4ebf-b632-57928e0c26bc\",\"type\":\"WheelZoomTool\"},{\"attributes\":{\"plot\":{\"id\":\"d00f583e-b9f2-4ea2-8d62-d58576f93a49\",\"subtype\":\"Chart\",\"type\":\"Plot\"}},\"id\":\"becac1ee-6654-444f-97fb-237f5652159c\",\"type\":\"ResizeTool\"},{\"attributes\":{},\"id\":\"c469359b-d974-498b-86bb-c876474dbffc\",\"type\":\"ToolEvents\"},{\"attributes\":{\"data_source\":{\"id\":\"55581c09-db5c-47b6-bc22-3e2aa2877440\",\"type\":\"ColumnDataSource\"},\"glyph\":{\"id\":\"36612eaa-820e-4dcd-9708-e605297617eb\",\"type\":\"Rect\"},\"hover_glyph\":null,\"nonselection_glyph\":null,\"selection_glyph\":null},\"id\":\"43733469-89d9-413e-9e8f-d3aca22988fb\",\"type\":\"GlyphRenderer\"},{\"attributes\":{\"bottom_units\":\"screen\",\"fill_alpha\":{\"value\":0.5},\"fill_color\":{\"value\":\"lightgrey\"},\"left_units\":\"screen\",\"level\":\"overlay\",\"line_alpha\":{\"value\":1.0},\"line_color\":{\"value\":\"black\"},\"line_dash\":[4,4],\"line_width\":{\"value\":2},\"plot\":null,\"render_mode\":\"css\",\"right_units\":\"screen\",\"top_units\":\"screen\"},\"id\":\"216381f6-8d53-4f5d-8129-dda81042081e\",\"type\":\"BoxAnnotation\"},{\"attributes\":{\"fill_alpha\":{\"field\":\"fill_alpha\"},\"fill_color\":{\"field\":\"color\"},\"height\":{\"field\":\"height\",\"units\":\"data\"},\"line_color\":{\"field\":\"line_color\"},\"width\":{\"field\":\"width\",\"units\":\"data\"},\"x\":{\"field\":\"x\"},\"y\":{\"field\":\"y\"}},\"id\":\"ec795310-ef3b-4db9-83de-5fd21aa94997\",\"type\":\"Rect\"},{\"attributes\":{\"axis_label\":\"X\",\"formatter\":{\"id\":\"74e7798d-dd0a-4905-b78c-82b35803e06c\",\"type\":\"BasicTickFormatter\"},\"plot\":{\"id\":\"cd7d963d-c0ab-4ea7-85cf-2a739d7099e3\",\"subtype\":\"Chart\",\"type\":\"Plot\"},\"ticker\":{\"id\":\"1ef2d4f6-42cc-4c48-9a44-6d63225c1470\",\"type\":\"BasicTicker\"}},\"id\":\"50dfc641-639d-46b6-aa38-4193c8676ff8\",\"type\":\"LinearAxis\"},{\"attributes\":{\"fill_alpha\":{\"field\":\"fill_alpha\"},\"fill_color\":{\"field\":\"color\"},\"height\":{\"field\":\"height\",\"units\":\"data\"},\"line_color\":{\"field\":\"line_color\"},\"width\":{\"field\":\"width\",\"units\":\"data\"},\"x\":{\"field\":\"x\"},\"y\":{\"field\":\"y\"}},\"id\":\"58e15e61-ee8c-4a65-b585-671102b01806\",\"type\":\"Rect\"},{\"attributes\":{\"data_source\":{\"id\":\"91292b1e-5743-4054-8171-d86cead42835\",\"type\":\"ColumnDataSource\"},\"glyph\":{\"id\":\"514d8717-a898-4274-9c87-6a208580b287\",\"type\":\"Rect\"},\"hover_glyph\":null,\"nonselection_glyph\":null,\"selection_glyph\":null},\"id\":\"46cfe634-b415-47e2-be2b-98c37e11d866\",\"type\":\"GlyphRenderer\"},{\"attributes\":{\"dimension\":1,\"plot\":{\"id\":\"d00f583e-b9f2-4ea2-8d62-d58576f93a49\",\"subtype\":\"Chart\",\"type\":\"Plot\"},\"ticker\":{\"id\":\"ce01eaeb-a42d-47db-9bcf-1e5f17c89cd5\",\"type\":\"BasicTicker\"}},\"id\":\"3ab4fba8-7682-4076-8a77-fefa4ef0600a\",\"type\":\"Grid\"},{\"attributes\":{},\"id\":\"13136558-1ef1-4cbf-9216-269744bded97\",\"type\":\"CategoricalTicker\"},{\"attributes\":{\"callback\":null,\"end\":3.2,\"start\":0.8},\"id\":\"da18c54c-2826-46db-950c-054fd87b46d6\",\"type\":\"Range1d\"},{\"attributes\":{\"callback\":null,\"column_names\":[\"color\",\"line_color\",\"height\",\"width\",\"x\",\"fill_alpha\",\"y\",\"line_alpha\"],\"data\":{\"chart_index\":[{\"x\":15}],\"color\":[\"#f22c40\"],\"fill_alpha\":[0.8],\"height\":[15.0],\"line_alpha\":[1.0],\"line_color\":[\"white\"],\"width\":[0.8],\"x\":[15],\"y\":[7.5]}},\"id\":\"3b08dd2b-6e21-47bb-bfee-7f1ec1bb65aa\",\"type\":\"ColumnDataSource\"},{\"attributes\":{\"data_source\":{\"id\":\"4b2cf064-9cb9-4d25-bdc4-ef87918c4bfb\",\"type\":\"ColumnDataSource\"},\"glyph\":{\"id\":\"64b84739-f21e-4a53-95b7-492f1be92bf0\",\"type\":\"Rect\"},\"hover_glyph\":null,\"nonselection_glyph\":null,\"selection_glyph\":null},\"id\":\"4fe596e2-7308-4075-80a4-616abc893428\",\"type\":\"GlyphRenderer\"},{\"attributes\":{\"callback\":null,\"column_names\":[\"color\",\"line_color\",\"height\",\"width\",\"x\",\"fill_alpha\",\"y\",\"line_alpha\"],\"data\":{\"chart_index\":[{\"x\":15}],\"color\":[\"#f22c40\"],\"fill_alpha\":[0.8],\"height\":[15.0],\"line_alpha\":[1.0],\"line_color\":[\"white\"],\"width\":[0.8],\"x\":[15],\"y\":[7.5]}},\"id\":\"1ed1ad7c-79c0-469d-bdda-880ec8c27068\",\"type\":\"ColumnDataSource\"},{\"attributes\":{\"data_source\":{\"id\":\"cbaa2739-9374-4eb5-a4ab-43df296cfbb5\",\"type\":\"ColumnDataSource\"},\"glyph\":{\"id\":\"d5edb015-071c-4a80-808f-916a848dbbfb\",\"type\":\"Rect\"},\"hover_glyph\":null,\"nonselection_glyph\":null,\"selection_glyph\":null},\"id\":\"899396fd-0085-4965-984a-676362621d72\",\"type\":\"GlyphRenderer\"},{\"attributes\":{\"callback\":null,\"column_names\":[\"color\",\"line_color\",\"height\",\"width\",\"x\",\"fill_alpha\",\"y\",\"line_alpha\"],\"data\":{\"chart_index\":[{\"x\":2}],\"color\":[\"#f22c40\"],\"fill_alpha\":[0.8],\"height\":[2.0],\"line_alpha\":[1.0],\"line_color\":[\"white\"],\"width\":[0.8],\"x\":[2],\"y\":[1.0]}},\"id\":\"00ab5d83-703d-4d60-8c58-d9843730dd57\",\"type\":\"ColumnDataSource\"},{\"attributes\":{\"bottom_units\":\"screen\",\"fill_alpha\":{\"value\":0.5},\"fill_color\":{\"value\":\"lightgrey\"},\"left_units\":\"screen\",\"level\":\"overlay\",\"line_alpha\":{\"value\":1.0},\"line_color\":{\"value\":\"black\"},\"line_dash\":[4,4],\"line_width\":{\"value\":2},\"plot\":null,\"render_mode\":\"css\",\"right_units\":\"screen\",\"top_units\":\"screen\"},\"id\":\"f0b7307f-a416-4c84-995f-39dd365779c2\",\"type\":\"BoxAnnotation\"},{\"attributes\":{\"data_source\":{\"id\":\"b01ecf3d-a2f0-4909-8295-1a87ced509c6\",\"type\":\"ColumnDataSource\"},\"glyph\":{\"id\":\"be75e484-2779-4f7e-ab55-8aa2f8736ab8\",\"type\":\"Rect\"},\"hover_glyph\":null,\"nonselection_glyph\":null,\"selection_glyph\":null},\"id\":\"1fb6381f-c512-4aa4-807f-611d8e4adf45\",\"type\":\"GlyphRenderer\"},{\"attributes\":{\"callback\":null,\"factors\":[\"0\",\"1\",\"2\",\"3\",\"4\",\"5\",\"6\",\"7\",\"8\",\"9\",\"10\",\"11\",\"12\",\"13\",\"14\",\"15\",\"16\",\"17\",\"18\",\"19\",\"20\"]},\"id\":\"0c6c3f1e-de31-47be-929d-11e1fd611810\",\"type\":\"FactorRange\"},{\"attributes\":{\"callback\":null,\"end\":21.0},\"id\":\"4750cb24-3731-47a0-b53c-1ca4c2118dee\",\"type\":\"Range1d\"},{\"attributes\":{\"callback\":null,\"end\":3.2,\"start\":0.8},\"id\":\"395441f7-da7f-4068-b584-fe0115ef2768\",\"type\":\"Range1d\"},{\"attributes\":{\"dimension\":1,\"plot\":{\"id\":\"cd7d963d-c0ab-4ea7-85cf-2a739d7099e3\",\"subtype\":\"Chart\",\"type\":\"Plot\"},\"ticker\":{\"id\":\"47f4184b-33e3-47b2-90d0-373c948f62bb\",\"type\":\"BasicTicker\"}},\"id\":\"c3c72221-1a97-4d05-b7f4-f10f403e5a38\",\"type\":\"Grid\"},{\"attributes\":{\"data_source\":{\"id\":\"ea0b4641-cbb7-4941-98ee-7910f2a55981\",\"type\":\"ColumnDataSource\"},\"glyph\":{\"id\":\"94f187e6-c550-419b-9b3c-ffeee0ae430f\",\"type\":\"Rect\"},\"hover_glyph\":null,\"nonselection_glyph\":null,\"selection_glyph\":null},\"id\":\"c90d6b2e-e333-40f5-afad-00a5f70d94ab\",\"type\":\"GlyphRenderer\"},{\"attributes\":{\"data_source\":{\"id\":\"e442a2c2-b8ba-4a67-9cad-30cc104fbcee\",\"type\":\"ColumnDataSource\"},\"glyph\":{\"id\":\"8f5db466-c70d-48cd-be45-0c167f411df2\",\"type\":\"Rect\"},\"hover_glyph\":null,\"nonselection_glyph\":null,\"selection_glyph\":null},\"id\":\"a1789627-add6-4bc4-8d00-1f46b3068165\",\"type\":\"GlyphRenderer\"},{\"attributes\":{\"fill_alpha\":{\"field\":\"fill_alpha\"},\"fill_color\":{\"field\":\"color\"},\"height\":{\"field\":\"height\",\"units\":\"data\"},\"line_color\":{\"field\":\"line_color\"},\"width\":{\"field\":\"width\",\"units\":\"data\"},\"x\":{\"field\":\"x\"},\"y\":{\"field\":\"y\"}},\"id\":\"06b426b9-329b-4f20-92b0-331fa3471fa3\",\"type\":\"Rect\"},{\"attributes\":{\"data_source\":{\"id\":\"62ac7a87-2fd8-4c6b-b6eb-d5df096171ab\",\"type\":\"ColumnDataSource\"},\"glyph\":{\"id\":\"dcde0e5e-a6dd-4bed-a3c0-01dd1668aa10\",\"type\":\"Circle\"},\"hover_glyph\":null,\"nonselection_glyph\":null,\"selection_glyph\":null},\"id\":\"1b3dcfaa-3b23-4d03-9406-53cef97dddcb\",\"type\":\"GlyphRenderer\"},{\"attributes\":{\"fill_alpha\":{\"field\":\"fill_alpha\"},\"fill_color\":{\"field\":\"color\"},\"height\":{\"field\":\"height\",\"units\":\"data\"},\"line_color\":{\"field\":\"line_color\"},\"width\":{\"field\":\"width\",\"units\":\"data\"},\"x\":{\"field\":\"x\"},\"y\":{\"field\":\"y\"}},\"id\":\"de4dcb13-1604-49c4-8e34-5d7bf9039a9b\",\"type\":\"Rect\"},{\"attributes\":{\"plot\":{\"id\":\"d00f583e-b9f2-4ea2-8d62-d58576f93a49\",\"subtype\":\"Chart\",\"type\":\"Plot\"}},\"id\":\"61e6fc16-fdc5-4b0f-8371-91d61d123409\",\"type\":\"ResetTool\"},{\"attributes\":{\"plot\":{\"id\":\"cd7d963d-c0ab-4ea7-85cf-2a739d7099e3\",\"subtype\":\"Chart\",\"type\":\"Plot\"}},\"id\":\"e72fb6cb-4a3b-4c46-b538-7874aa870b21\",\"type\":\"PanTool\"},{\"attributes\":{\"fill_alpha\":{\"field\":\"fill_alpha\"},\"fill_color\":{\"field\":\"color\"},\"height\":{\"field\":\"height\",\"units\":\"data\"},\"line_color\":{\"field\":\"line_color\"},\"width\":{\"field\":\"width\",\"units\":\"data\"},\"x\":{\"field\":\"x\"},\"y\":{\"field\":\"y\"}},\"id\":\"e4ad32fd-db50-4f23-a472-a67870672170\",\"type\":\"Rect\"},{\"attributes\":{},\"id\":\"47f4184b-33e3-47b2-90d0-373c948f62bb\",\"type\":\"BasicTicker\"},{\"attributes\":{\"callback\":null,\"factors\":[\"0\",\"1\",\"2\",\"3\",\"4\",\"5\",\"6\",\"7\",\"8\",\"9\",\"10\",\"11\",\"12\",\"13\",\"14\",\"15\",\"16\",\"17\",\"18\",\"19\",\"20\"]},\"id\":\"e4d22a2b-149f-4fe2-9fb0-560d9d69d713\",\"type\":\"FactorRange\"},{\"attributes\":{\"fill_alpha\":{\"value\":0.7},\"fill_color\":{\"value\":\"#5ab738\"},\"line_color\":{\"value\":\"#5ab738\"},\"size\":{\"units\":\"screen\",\"value\":8},\"x\":{\"field\":\"x_values\"},\"y\":{\"field\":\"y_values\"}},\"id\":\"262819f5-6321-4fd2-a4bd-a268be5a75cf\",\"type\":\"Circle\"},{\"attributes\":{\"data_source\":{\"id\":\"6570913c-4d6e-4bc7-8535-5f063cc07fd3\",\"type\":\"ColumnDataSource\"},\"glyph\":{\"id\":\"6ee96cd7-8548-4d5c-869f-151f7f27b99e\",\"type\":\"Rect\"},\"hover_glyph\":null,\"nonselection_glyph\":null,\"selection_glyph\":null},\"id\":\"c69b3c81-9fd9-4b4a-b8c5-e1698d637c0c\",\"type\":\"GlyphRenderer\"},{\"attributes\":{\"data_source\":{\"id\":\"a4458a96-8f82-48a3-9988-df74b79db011\",\"type\":\"ColumnDataSource\"},\"glyph\":{\"id\":\"c6fdf657-06cd-45f0-acc8-b87a43e9f703\",\"type\":\"Rect\"},\"hover_glyph\":null,\"nonselection_glyph\":null,\"selection_glyph\":null},\"id\":\"42b2aa09-4aab-428e-a651-673b789fd366\",\"type\":\"GlyphRenderer\"},{\"attributes\":{\"fill_alpha\":{\"field\":\"fill_alpha\"},\"fill_color\":{\"field\":\"color\"},\"height\":{\"field\":\"height\",\"units\":\"data\"},\"line_color\":{\"field\":\"line_color\"},\"width\":{\"field\":\"width\",\"units\":\"data\"},\"x\":{\"field\":\"x\"},\"y\":{\"field\":\"y\"}},\"id\":\"bbd7680c-288a-46e8-80c5-e2dcbf6793ee\",\"type\":\"Rect\"},{\"attributes\":{},\"id\":\"1a39e375-1faf-421c-8e76-95a4437dda6a\",\"type\":\"ToolEvents\"},{\"attributes\":{\"callback\":null,\"column_names\":[\"color\",\"line_color\",\"height\",\"width\",\"x\",\"fill_alpha\",\"y\",\"line_alpha\"],\"data\":{\"chart_index\":[{\"x\":19}],\"color\":[\"#f22c40\"],\"fill_alpha\":[0.8],\"height\":[19.0],\"line_alpha\":[1.0],\"line_color\":[\"white\"],\"width\":[0.8],\"x\":[19],\"y\":[9.5]}},\"id\":\"da4e6f73-dbff-41e9-8fa0-6cbb54d526d7\",\"type\":\"ColumnDataSource\"},{\"attributes\":{\"callback\":null,\"column_names\":[\"color\",\"line_color\",\"height\",\"width\",\"x\",\"fill_alpha\",\"y\",\"line_alpha\"],\"data\":{\"chart_index\":[{\"x\":5}],\"color\":[\"#f22c40\"],\"fill_alpha\":[0.8],\"height\":[5.0],\"line_alpha\":[1.0],\"line_color\":[\"white\"],\"width\":[0.8],\"x\":[5],\"y\":[2.5]}},\"id\":\"96f1030e-d575-4047-9f7f-ad23e8b4b250\",\"type\":\"ColumnDataSource\"},{\"attributes\":{\"callback\":null,\"column_names\":[\"y_values\",\"x_values\"],\"data\":{\"S\":[\"B\",\"B\",\"B\",\"B\",\"B\",\"B\",\"B\",\"B\"],\"chart_index\":[{\"S\":\"B\"},{\"S\":\"B\"},{\"S\":\"B\"},{\"S\":\"B\"},{\"S\":\"B\"},{\"S\":\"B\"},{\"S\":\"B\"},{\"S\":\"B\"}],\"x_values\":[0,1,2,3,4,5,6,7],\"y_values\":[3,1,2,3,3,3,2,1]}},\"id\":\"62ac7a87-2fd8-4c6b-b6eb-d5df096171ab\",\"type\":\"ColumnDataSource\"},{\"attributes\":{\"data_source\":{\"id\":\"0f8aa8bd-67dd-4d7b-8b96-2ccf32b467e7\",\"type\":\"ColumnDataSource\"},\"glyph\":{\"id\":\"e765c0a2-831c-4808-bda1-a75be2399635\",\"type\":\"Rect\"},\"hover_glyph\":null,\"nonselection_glyph\":null,\"selection_glyph\":null},\"id\":\"df1e8c0b-a211-4058-9e27-118aa8360f60\",\"type\":\"GlyphRenderer\"},{\"attributes\":{\"fill_alpha\":{\"field\":\"fill_alpha\"},\"fill_color\":{\"field\":\"color\"},\"height\":{\"field\":\"height\",\"units\":\"data\"},\"line_color\":{\"field\":\"line_color\"},\"width\":{\"field\":\"width\",\"units\":\"data\"},\"x\":{\"field\":\"x\"},\"y\":{\"field\":\"y\"}},\"id\":\"12bedaba-67ee-4837-b743-a3d8929f380a\",\"type\":\"Rect\"},{\"attributes\":{\"fill_alpha\":{\"value\":0.7},\"fill_color\":{\"value\":\"#f22c40\"},\"line_color\":{\"value\":\"#f22c40\"},\"size\":{\"units\":\"screen\",\"value\":8},\"x\":{\"field\":\"x_values\"},\"y\":{\"field\":\"y_values\"}},\"id\":\"d6d80308-4d27-446e-b146-bc8ebffe3e7f\",\"type\":\"Circle\"},{\"attributes\":{\"fill_alpha\":{\"value\":0.7},\"fill_color\":{\"value\":\"#f22c40\"},\"line_color\":{\"value\":\"#f22c40\"},\"size\":{\"units\":\"screen\",\"value\":8},\"x\":{\"field\":\"x_values\"},\"y\":{\"field\":\"y_values\"}},\"id\":\"4570094d-17b8-431e-976b-1ba943af386d\",\"type\":\"Circle\"},{\"attributes\":{},\"id\":\"281a257d-dcac-4413-9187-261fe3e30c2d\",\"type\":\"ToolEvents\"},{\"attributes\":{\"axis_label\":\"Sum( Y )\",\"formatter\":{\"id\":\"83b7b66b-d2fa-4cde-8d34-adc600658b3d\",\"type\":\"BasicTickFormatter\"},\"plot\":{\"id\":\"9df36f1c-b1e5-47cf-bd02-8ca67964d13e\",\"subtype\":\"Chart\",\"type\":\"Plot\"},\"ticker\":{\"id\":\"c6c7571d-88b8-4871-aaf7-a379265a794c\",\"type\":\"BasicTicker\"}},\"id\":\"3475158f-31cd-4456-85e6-ea2151e030e6\",\"type\":\"LinearAxis\"},{\"attributes\":{\"plot\":{\"id\":\"cd7d963d-c0ab-4ea7-85cf-2a739d7099e3\",\"subtype\":\"Chart\",\"type\":\"Plot\"}},\"id\":\"c74f188e-6374-4fea-8483-572145edd674\",\"type\":\"HelpTool\"},{\"attributes\":{},\"id\":\"d230dac1-bfb0-4e27-a941-10969f44e5bb\",\"type\":\"CategoricalTicker\"},{\"attributes\":{},\"id\":\"8ca4ada6-a65b-44c4-9dbe-e9b66b36b591\",\"type\":\"CategoricalTickFormatter\"},{\"attributes\":{\"callback\":null,\"column_names\":[\"color\",\"line_color\",\"height\",\"width\",\"x\",\"fill_alpha\",\"y\",\"line_alpha\"],\"data\":{\"chart_index\":[{\"x\":8}],\"color\":[\"#f22c40\"],\"fill_alpha\":[0.8],\"height\":[8.0],\"line_alpha\":[1.0],\"line_color\":[\"white\"],\"width\":[0.8],\"x\":[8],\"y\":[4.0]}},\"id\":\"4b2cf064-9cb9-4d25-bdc4-ef87918c4bfb\",\"type\":\"ColumnDataSource\"},{\"attributes\":{\"legends\":[[\"A\",[{\"id\":\"5ffa71e1-ea90-45b2-8e45-f322bc4aa4d7\",\"type\":\"GlyphRenderer\"}]],[\"B\",[{\"id\":\"e22916fe-cb80-49e4-a787-63bc95ac383a\",\"type\":\"GlyphRenderer\"}]]],\"plot\":{\"id\":\"d00f583e-b9f2-4ea2-8d62-d58576f93a49\",\"subtype\":\"Chart\",\"type\":\"Plot\"}},\"id\":\"0b9e0fe5-3df1-49ae-a5ec-161fc6bcef0b\",\"type\":\"Legend\"},{\"attributes\":{\"callback\":null,\"column_names\":[\"color\",\"line_color\",\"height\",\"width\",\"x\",\"fill_alpha\",\"y\",\"line_alpha\"],\"data\":{\"chart_index\":[{\"x\":19}],\"color\":[\"#f22c40\"],\"fill_alpha\":[0.8],\"height\":[19.0],\"line_alpha\":[1.0],\"line_color\":[\"white\"],\"width\":[0.8],\"x\":[19],\"y\":[9.5]}},\"id\":\"91292b1e-5743-4054-8171-d86cead42835\",\"type\":\"ColumnDataSource\"},{\"attributes\":{\"data_source\":{\"id\":\"6f94e92c-c215-4148-a5d7-c553fb827e7d\",\"type\":\"ColumnDataSource\"},\"glyph\":{\"id\":\"ee1f21e6-d8d6-4c47-8f10-0a21b5e25777\",\"type\":\"Rect\"},\"hover_glyph\":null,\"nonselection_glyph\":null,\"selection_glyph\":null},\"id\":\"fef3cab2-57fd-4ba4-b86a-1c2394ebf563\",\"type\":\"GlyphRenderer\"},{\"attributes\":{\"data_source\":{\"id\":\"584aa545-a7a6-4757-9b43-d79476fc06f8\",\"type\":\"ColumnDataSource\"},\"glyph\":{\"id\":\"d4d94cf2-edfd-47f9-b3c3-a07394271d87\",\"type\":\"Rect\"},\"hover_glyph\":null,\"nonselection_glyph\":null,\"selection_glyph\":null},\"id\":\"4c47d3b1-4444-475d-b4cf-8c214b957991\",\"type\":\"GlyphRenderer\"},{\"attributes\":{\"bottom_units\":\"screen\",\"fill_alpha\":{\"value\":0.5},\"fill_color\":{\"value\":\"lightgrey\"},\"left_units\":\"screen\",\"level\":\"overlay\",\"line_alpha\":{\"value\":1.0},\"line_color\":{\"value\":\"black\"},\"line_dash\":[4,4],\"line_width\":{\"value\":2},\"plot\":null,\"render_mode\":\"css\",\"right_units\":\"screen\",\"top_units\":\"screen\"},\"id\":\"75cddb07-ea16-436a-b3d4-c5392398edad\",\"type\":\"BoxAnnotation\"},{\"attributes\":{\"overlay\":{\"id\":\"216381f6-8d53-4f5d-8129-dda81042081e\",\"type\":\"BoxAnnotation\"},\"plot\":{\"id\":\"cd7d963d-c0ab-4ea7-85cf-2a739d7099e3\",\"subtype\":\"Chart\",\"type\":\"Plot\"}},\"id\":\"6a61a1eb-8e8d-4bf3-b8ab-42186210c134\",\"type\":\"BoxZoomTool\"},{\"attributes\":{\"below\":[{\"id\":\"0504eb43-c009-4ca1-9b7d-59e74650485a\",\"type\":\"CategoricalAxis\"}],\"left\":[{\"id\":\"a55e7192-96e6-4d34-b412-57cd22f3e87f\",\"type\":\"LinearAxis\"}],\"legend\":null,\"renderers\":[{\"id\":\"c810b509-d0d9-4fd1-8c09-d38c7324c21d\",\"type\":\"GlyphRenderer\"},{\"id\":\"b6efcc0b-cc49-4baf-9f27-a7157e0afe28\",\"type\":\"GlyphRenderer\"},{\"id\":\"7e857c8d-5958-4e86-8ce4-c7302268786f\",\"type\":\"GlyphRenderer\"},{\"id\":\"c90d6b2e-e333-40f5-afad-00a5f70d94ab\",\"type\":\"GlyphRenderer\"},{\"id\":\"fe0f8fbd-72de-4c1f-97ca-712e569461d0\",\"type\":\"GlyphRenderer\"},{\"id\":\"a1f87e3c-240d-46b3-bd98-f453fca6ccae\",\"type\":\"GlyphRenderer\"},{\"id\":\"8b6c5048-5aa0-4c20-8b46-c39b551f0299\",\"type\":\"GlyphRenderer\"},{\"id\":\"899396fd-0085-4965-984a-676362621d72\",\"type\":\"GlyphRenderer\"},{\"id\":\"42b2aa09-4aab-428e-a651-673b789fd366\",\"type\":\"GlyphRenderer\"},{\"id\":\"66e5f985-21bb-40ad-8d3f-03fe9964718a\",\"type\":\"GlyphRenderer\"},{\"id\":\"1fb6381f-c512-4aa4-807f-611d8e4adf45\",\"type\":\"GlyphRenderer\"},{\"id\":\"d2a89d44-7823-4e6f-bda3-22f738ef0522\",\"type\":\"GlyphRenderer\"},{\"id\":\"963c634a-0ccc-468e-a8aa-ad839ee594b8\",\"type\":\"GlyphRenderer\"},{\"id\":\"df1e8c0b-a211-4058-9e27-118aa8360f60\",\"type\":\"GlyphRenderer\"},{\"id\":\"bf48657f-cfad-4b99-8fe0-9e075449214c\",\"type\":\"GlyphRenderer\"},{\"id\":\"e8b00d50-d2d3-4425-be2b-251191e979b1\",\"type\":\"GlyphRenderer\"},{\"id\":\"b7908eea-3936-4e01-aa1a-30201dd1b3f0\",\"type\":\"GlyphRenderer\"},{\"id\":\"a8513373-dfe6-4c7b-b53b-581fe32ec7e4\",\"type\":\"GlyphRenderer\"},{\"id\":\"3edc0d6f-4263-4da8-b31b-396882051782\",\"type\":\"GlyphRenderer\"},{\"id\":\"e453fcf5-6733-495e-a3ac-49c8e98df30b\",\"type\":\"GlyphRenderer\"},{\"id\":\"804c1ae4-7b5f-4f98-ae6e-1ed061c5f773\",\"type\":\"GlyphRenderer\"},{\"id\":\"0504eb43-c009-4ca1-9b7d-59e74650485a\",\"type\":\"CategoricalAxis\"},{\"id\":\"a55e7192-96e6-4d34-b412-57cd22f3e87f\",\"type\":\"LinearAxis\"},{\"id\":\"3f9d21f5-4623-44b4-bc44-96284ffca6ca\",\"type\":\"Grid\"}],\"title\":\"My First Plot\",\"title_text_font_size\":{\"value\":\"14pt\"},\"tool_events\":{\"id\":\"86f49a4f-99cc-42fe-aea2-f85ba430df2e\",\"type\":\"ToolEvents\"},\"x_mapper_type\":\"auto\",\"x_range\":{\"id\":\"e4d22a2b-149f-4fe2-9fb0-560d9d69d713\",\"type\":\"FactorRange\"},\"xgrid\":false,\"xscale\":\"auto\",\"y_mapper_type\":\"auto\",\"y_range\":{\"id\":\"08f3f578-1b70-4e9d-b7aa-8dd647a51854\",\"type\":\"Range1d\"},\"yscale\":\"auto\"},\"id\":\"2bf18d35-a858-4449-b12f-fd366d466bda\",\"subtype\":\"Chart\",\"type\":\"Plot\"},{\"attributes\":{\"fill_alpha\":{\"field\":\"fill_alpha\"},\"fill_color\":{\"field\":\"color\"},\"height\":{\"field\":\"height\",\"units\":\"data\"},\"line_color\":{\"field\":\"line_color\"},\"width\":{\"field\":\"width\",\"units\":\"data\"},\"x\":{\"field\":\"x\"},\"y\":{\"field\":\"y\"}},\"id\":\"d42db55b-0b90-430a-986e-c8f87b328be2\",\"type\":\"Rect\"},{\"attributes\":{\"data_source\":{\"id\":\"753c0e8d-caad-4871-83bb-895a05863bd1\",\"type\":\"ColumnDataSource\"},\"glyph\":{\"id\":\"2f824cdb-b075-4540-a36d-9aa422092171\",\"type\":\"Rect\"},\"hover_glyph\":null,\"nonselection_glyph\":null,\"selection_glyph\":null},\"id\":\"c810b509-d0d9-4fd1-8c09-d38c7324c21d\",\"type\":\"GlyphRenderer\"},{\"attributes\":{},\"id\":\"ce01eaeb-a42d-47db-9bcf-1e5f17c89cd5\",\"type\":\"BasicTicker\"},{\"attributes\":{},\"id\":\"f2cccfd8-b0bc-4ce5-8839-b95678dcf469\",\"type\":\"BasicTickFormatter\"},{\"attributes\":{\"data_source\":{\"id\":\"2ab0d82e-f95f-476f-806c-01104983ac76\",\"type\":\"ColumnDataSource\"},\"glyph\":{\"id\":\"bbd7680c-288a-46e8-80c5-e2dcbf6793ee\",\"type\":\"Rect\"},\"hover_glyph\":null,\"nonselection_glyph\":null,\"selection_glyph\":null},\"id\":\"66e5f985-21bb-40ad-8d3f-03fe9964718a\",\"type\":\"GlyphRenderer\"},{\"attributes\":{\"callback\":null,\"column_names\":[\"color\",\"line_color\",\"height\",\"width\",\"x\",\"fill_alpha\",\"y\",\"line_alpha\"],\"data\":{\"chart_index\":[{\"x\":6}],\"color\":[\"#f22c40\"],\"fill_alpha\":[0.8],\"height\":[6.0],\"line_alpha\":[1.0],\"line_color\":[\"white\"],\"width\":[0.8],\"x\":[6],\"y\":[3.0]}},\"id\":\"4f127b08-c4e7-428d-91e2-89ea132ea611\",\"type\":\"ColumnDataSource\"},{\"attributes\":{\"callback\":null,\"column_names\":[\"color\",\"line_color\",\"height\",\"width\",\"x\",\"fill_alpha\",\"y\",\"line_alpha\"],\"data\":{\"chart_index\":[{\"x\":4}],\"color\":[\"#f22c40\"],\"fill_alpha\":[0.8],\"height\":[4.0],\"line_alpha\":[1.0],\"line_color\":[\"white\"],\"width\":[0.8],\"x\":[4],\"y\":[2.0]}},\"id\":\"9ecd2b1b-c3c1-407e-a358-be8ee944b986\",\"type\":\"ColumnDataSource\"},{\"attributes\":{\"data_source\":{\"id\":\"8997144a-dc86-47b6-b395-a657341b599e\",\"type\":\"ColumnDataSource\"},\"glyph\":{\"id\":\"262819f5-6321-4fd2-a4bd-a268be5a75cf\",\"type\":\"Circle\"},\"hover_glyph\":null,\"nonselection_glyph\":null,\"selection_glyph\":null},\"id\":\"e22916fe-cb80-49e4-a787-63bc95ac383a\",\"type\":\"GlyphRenderer\"},{\"attributes\":{\"plot\":{\"id\":\"d00f583e-b9f2-4ea2-8d62-d58576f93a49\",\"subtype\":\"Chart\",\"type\":\"Plot\"}},\"id\":\"dba8dc55-d135-4029-b8ed-6d06f0d2e575\",\"type\":\"HelpTool\"},{\"attributes\":{\"callback\":null,\"column_names\":[\"color\",\"line_color\",\"height\",\"width\",\"x\",\"fill_alpha\",\"y\",\"line_alpha\"],\"data\":{\"chart_index\":[{\"x\":14}],\"color\":[\"#f22c40\"],\"fill_alpha\":[0.8],\"height\":[14.0],\"line_alpha\":[1.0],\"line_color\":[\"white\"],\"width\":[0.8],\"x\":[14],\"y\":[7.0]}},\"id\":\"fb10e7e0-6f8f-401c-8dd8-a5edd8f2396c\",\"type\":\"ColumnDataSource\"},{\"attributes\":{\"callback\":null,\"column_names\":[\"color\",\"line_color\",\"height\",\"width\",\"x\",\"fill_alpha\",\"y\",\"line_alpha\"],\"data\":{\"chart_index\":[{\"x\":18}],\"color\":[\"#f22c40\"],\"fill_alpha\":[0.8],\"height\":[18.0],\"line_alpha\":[1.0],\"line_color\":[\"white\"],\"width\":[0.8],\"x\":[18],\"y\":[9.0]}},\"id\":\"584aa545-a7a6-4757-9b43-d79476fc06f8\",\"type\":\"ColumnDataSource\"},{\"attributes\":{\"fill_alpha\":{\"value\":0.7},\"fill_color\":{\"value\":\"#5ab738\"},\"line_color\":{\"value\":\"#5ab738\"},\"size\":{\"units\":\"screen\",\"value\":8},\"x\":{\"field\":\"x_values\"},\"y\":{\"field\":\"y_values\"}},\"id\":\"dcde0e5e-a6dd-4bed-a3c0-01dd1668aa10\",\"type\":\"Circle\"},{\"attributes\":{\"plot\":{\"id\":\"9df36f1c-b1e5-47cf-bd02-8ca67964d13e\",\"subtype\":\"Chart\",\"type\":\"Plot\"}},\"id\":\"431428e4-f066-4303-9b24-1565d8db2d15\",\"type\":\"ResizeTool\"},{\"attributes\":{\"fill_alpha\":{\"field\":\"fill_alpha\"},\"fill_color\":{\"field\":\"color\"},\"height\":{\"field\":\"height\",\"units\":\"data\"},\"line_color\":{\"field\":\"line_color\"},\"width\":{\"field\":\"width\",\"units\":\"data\"},\"x\":{\"field\":\"x\"},\"y\":{\"field\":\"y\"}},\"id\":\"1d53a587-bc8a-4227-8194-5275a37a0415\",\"type\":\"Rect\"},{\"attributes\":{\"callback\":null,\"column_names\":[\"color\",\"line_color\",\"height\",\"width\",\"x\",\"fill_alpha\",\"y\",\"line_alpha\"],\"data\":{\"chart_index\":[{\"x\":5}],\"color\":[\"#f22c40\"],\"fill_alpha\":[0.8],\"height\":[5.0],\"line_alpha\":[1.0],\"line_color\":[\"white\"],\"width\":[0.8],\"x\":[5],\"y\":[2.5]}},\"id\":\"2673e030-64d0-416d-b4b3-8aedf8bd8b23\",\"type\":\"ColumnDataSource\"},{\"attributes\":{\"fill_alpha\":{\"field\":\"fill_alpha\"},\"fill_color\":{\"field\":\"color\"},\"height\":{\"field\":\"height\",\"units\":\"data\"},\"line_color\":{\"field\":\"line_color\"},\"width\":{\"field\":\"width\",\"units\":\"data\"},\"x\":{\"field\":\"x\"},\"y\":{\"field\":\"y\"}},\"id\":\"3e4f3f67-cc3a-45a5-b088-6cfba592c415\",\"type\":\"Rect\"},{\"attributes\":{\"data_source\":{\"id\":\"fe0580cf-ec03-4206-910b-11e85c58633f\",\"type\":\"ColumnDataSource\"},\"glyph\":{\"id\":\"de4dcb13-1604-49c4-8e34-5d7bf9039a9b\",\"type\":\"Rect\"},\"hover_glyph\":null,\"nonselection_glyph\":null,\"selection_glyph\":null},\"id\":\"ddd79f66-e4ea-47c9-9e73-320e5cc6de48\",\"type\":\"GlyphRenderer\"},{\"attributes\":{\"axis_label\":\"X\",\"formatter\":{\"id\":\"f2cccfd8-b0bc-4ce5-8839-b95678dcf469\",\"type\":\"BasicTickFormatter\"},\"plot\":{\"id\":\"d00f583e-b9f2-4ea2-8d62-d58576f93a49\",\"subtype\":\"Chart\",\"type\":\"Plot\"},\"ticker\":{\"id\":\"e4b244ab-866c-4273-9276-da537c289fcf\",\"type\":\"BasicTicker\"}},\"id\":\"b8c6305a-e2d9-4d16-b06b-13c41ba6e864\",\"type\":\"LinearAxis\"},{\"attributes\":{\"callback\":null,\"column_names\":[\"color\",\"line_color\",\"height\",\"width\",\"x\",\"fill_alpha\",\"y\",\"line_alpha\"],\"data\":{\"chart_index\":[{\"x\":2}],\"color\":[\"#f22c40\"],\"fill_alpha\":[0.8],\"height\":[2.0],\"line_alpha\":[1.0],\"line_color\":[\"white\"],\"width\":[0.8],\"x\":[2],\"y\":[1.0]}},\"id\":\"b6b86d4b-9cdc-4d87-b9c0-f4596f023cab\",\"type\":\"ColumnDataSource\"},{\"attributes\":{\"axis_label\":\"height\",\"formatter\":{\"id\":\"04bc55e4-926d-46d5-ab79-168a3182434b\",\"type\":\"BasicTickFormatter\"},\"plot\":{\"id\":\"2bf18d35-a858-4449-b12f-fd366d466bda\",\"subtype\":\"Chart\",\"type\":\"Plot\"},\"ticker\":{\"id\":\"9ecf0cbd-3b94-4153-8a6d-b6bbcd0f8258\",\"type\":\"BasicTicker\"}},\"id\":\"a55e7192-96e6-4d34-b412-57cd22f3e87f\",\"type\":\"LinearAxis\"},{\"attributes\":{\"below\":[{\"id\":\"50dfc641-639d-46b6-aa38-4193c8676ff8\",\"type\":\"LinearAxis\"}],\"left\":[{\"id\":\"68efb5b8-c589-4be5-80b6-63a360338693\",\"type\":\"LinearAxis\"}],\"legend\":\"top_right\",\"renderers\":[{\"id\":\"216381f6-8d53-4f5d-8129-dda81042081e\",\"type\":\"BoxAnnotation\"},{\"id\":\"429bba5f-4674-470c-937d-0611d58feb90\",\"type\":\"GlyphRenderer\"},{\"id\":\"1b3dcfaa-3b23-4d03-9406-53cef97dddcb\",\"type\":\"GlyphRenderer\"},{\"id\":\"f11d3348-cfe0-4ff6-aa54-990fbc2f2cfe\",\"type\":\"Legend\"},{\"id\":\"50dfc641-639d-46b6-aa38-4193c8676ff8\",\"type\":\"LinearAxis\"},{\"id\":\"68efb5b8-c589-4be5-80b6-63a360338693\",\"type\":\"LinearAxis\"},{\"id\":\"1fae8bd7-c0fc-4a93-a39c-12e255ff1966\",\"type\":\"Grid\"},{\"id\":\"c3c72221-1a97-4d05-b7f4-f10f403e5a38\",\"type\":\"Grid\"}],\"title_text_font_size\":{\"value\":\"14pt\"},\"tool_events\":{\"id\":\"281a257d-dcac-4413-9187-261fe3e30c2d\",\"type\":\"ToolEvents\"},\"tools\":[{\"id\":\"e72fb6cb-4a3b-4c46-b538-7874aa870b21\",\"type\":\"PanTool\"},{\"id\":\"aefc7dcb-6829-4ebf-b632-57928e0c26bc\",\"type\":\"WheelZoomTool\"},{\"id\":\"6a61a1eb-8e8d-4bf3-b8ab-42186210c134\",\"type\":\"BoxZoomTool\"},{\"id\":\"318c76ef-787f-42bf-a62e-868f15490288\",\"type\":\"PreviewSaveTool\"},{\"id\":\"d7d2ede8-ac2c-4083-b843-1005dc33ec96\",\"type\":\"ResizeTool\"},{\"id\":\"811a7ceb-16d2-441a-b8ed-488bedd4fb60\",\"type\":\"ResetTool\"},{\"id\":\"c74f188e-6374-4fea-8483-572145edd674\",\"type\":\"HelpTool\"}],\"x_mapper_type\":\"auto\",\"x_range\":{\"id\":\"ab31d846-64a1-4989-933a-46df902be745\",\"type\":\"Range1d\"},\"xscale\":\"auto\",\"y_mapper_type\":\"auto\",\"y_range\":{\"id\":\"da18c54c-2826-46db-950c-054fd87b46d6\",\"type\":\"Range1d\"},\"yscale\":\"auto\"},\"id\":\"cd7d963d-c0ab-4ea7-85cf-2a739d7099e3\",\"subtype\":\"Chart\",\"type\":\"Plot\"},{\"attributes\":{\"fill_alpha\":{\"field\":\"fill_alpha\"},\"fill_color\":{\"field\":\"color\"},\"height\":{\"field\":\"height\",\"units\":\"data\"},\"line_color\":{\"field\":\"line_color\"},\"width\":{\"field\":\"width\",\"units\":\"data\"},\"x\":{\"field\":\"x\"},\"y\":{\"field\":\"y\"}},\"id\":\"1a561b72-b1c6-403e-8ace-50048c603264\",\"type\":\"Rect\"},{\"attributes\":{},\"id\":\"83b7b66b-d2fa-4cde-8d34-adc600658b3d\",\"type\":\"BasicTickFormatter\"},{\"attributes\":{\"fill_alpha\":{\"field\":\"fill_alpha\"},\"fill_color\":{\"field\":\"color\"},\"height\":{\"field\":\"height\",\"units\":\"data\"},\"line_color\":{\"field\":\"line_color\"},\"width\":{\"field\":\"width\",\"units\":\"data\"},\"x\":{\"field\":\"x\"},\"y\":{\"field\":\"y\"}},\"id\":\"cf6c16a5-ed30-484c-84f4-9600be1b7c22\",\"type\":\"Rect\"},{\"attributes\":{\"fill_alpha\":{\"field\":\"fill_alpha\"},\"fill_color\":{\"field\":\"color\"},\"height\":{\"field\":\"height\",\"units\":\"data\"},\"line_color\":{\"field\":\"line_color\"},\"width\":{\"field\":\"width\",\"units\":\"data\"},\"x\":{\"field\":\"x\"},\"y\":{\"field\":\"y\"}},\"id\":\"ee1f21e6-d8d6-4c47-8f10-0a21b5e25777\",\"type\":\"Rect\"},{\"attributes\":{\"plot\":{\"id\":\"9df36f1c-b1e5-47cf-bd02-8ca67964d13e\",\"subtype\":\"Chart\",\"type\":\"Plot\"}},\"id\":\"7794d5bb-ad76-4689-827d-2ab54e842f85\",\"type\":\"HelpTool\"},{\"attributes\":{\"plot\":{\"id\":\"d00f583e-b9f2-4ea2-8d62-d58576f93a49\",\"subtype\":\"Chart\",\"type\":\"Plot\"}},\"id\":\"7bd09bb0-e246-4333-88b3-367fe021a354\",\"type\":\"PanTool\"},{\"attributes\":{\"axis_label\":\"number\",\"formatter\":{\"id\":\"8ca4ada6-a65b-44c4-9dbe-e9b66b36b591\",\"type\":\"CategoricalTickFormatter\"},\"major_label_orientation\":0.7853981633974483,\"plot\":{\"id\":\"2bf18d35-a858-4449-b12f-fd366d466bda\",\"subtype\":\"Chart\",\"type\":\"Plot\"},\"ticker\":{\"id\":\"13136558-1ef1-4cbf-9216-269744bded97\",\"type\":\"CategoricalTicker\"}},\"id\":\"0504eb43-c009-4ca1-9b7d-59e74650485a\",\"type\":\"CategoricalAxis\"},{\"attributes\":{},\"id\":\"c6c7571d-88b8-4871-aaf7-a379265a794c\",\"type\":\"BasicTicker\"}],\"root_ids\":[\"d00f583e-b9f2-4ea2-8d62-d58576f93a49\",\"9df36f1c-b1e5-47cf-bd02-8ca67964d13e\",\"b225ead2-fe94-41a1-920d-1973081836bc\"]},\"title\":\"Bokeh Application\",\"version\":\"0.11.1\"}};\n",
       "            var render_items = [{\"docid\":\"07bebc1f-9c6e-4146-91b5-c9c50963a956\",\"elementid\":\"4be21271-3ed4-4995-80d1-7973b837642b\",\"modelid\":\"b225ead2-fe94-41a1-920d-1973081836bc\",\"notebook_comms_target\":\"bf2ed263-af68-4165-bcbb-59af53528537\"}];\n",
       "            \n",
       "            Bokeh.embed.embed_items(docs_json, render_items);\n",
       "        });\n",
       "      },\n",
       "      function(Bokeh) {\n",
       "      }\n",
       "    ];\n",
       "  \n",
       "    function run_inline_js() {\n",
       "      for (var i = 0; i < inline_js.length; i++) {\n",
       "        inline_js[i](window.Bokeh);\n",
       "      }\n",
       "    }\n",
       "  \n",
       "    if (window._bokeh_is_loading === 0) {\n",
       "      console.log(\"Bokeh: BokehJS loaded, going straight to plotting\");\n",
       "      run_inline_js();\n",
       "    } else {\n",
       "      load_libs(js_urls, function() {\n",
       "        console.log(\"Bokeh: BokehJS plotting callback run at\", now());\n",
       "        run_inline_js();\n",
       "      });\n",
       "    }\n",
       "  }(this));\n",
       "</script>"
      ]
     },
     "metadata": {},
     "output_type": "display_data"
    },
    {
     "data": {
      "text/html": [
       "<p><code>&lt;Bokeh Notebook handle for <strong>In[2]</strong>&gt;</code></p>"
      ],
      "text/plain": [
       "<bokeh.io._CommsHandle at 0x10f956208>"
      ]
     },
     "execution_count": 55,
     "metadata": {},
     "output_type": "execute_result"
    }
   ],
   "source": [
    "from bokeh.charts import Scatter\n",
    "from bokeh.io import hplot\n",
    "data2 = {'X': [0,1,2,3,4,5,6,7,0,1,2,3,4,5,6,7],\n",
    "         'Y': [1,2,1,2,1,2,1,2,3,1,2,3,3,3,2,1],\n",
    "         'S': ['A','A','A','A','A','A','A','A','B','B','B','B','B','B','B','B']}\n",
    "print(data2)\n",
    "mySecondPlot = Scatter(data2, x='X', y='Y', color='S', legend='top_right')\n",
    "layout = hplot(myFirstPlot, mySecondPlot)\n",
    "show(layout)"
   ]
  },
  {
   "cell_type": "markdown",
   "metadata": {},
   "source": [
    "These examples should have given you an understanding of the basics of creating and laying out charts with `bokeh`. Now, you will apply this knowledge to plot out the data that was read and stored from the file earlier."
   ]
  },
  {
   "cell_type": "markdown",
   "metadata": {},
   "source": [
    "#### _Exercise 5.6_"
   ]
  },
  {
   "cell_type": "markdown",
   "metadata": {},
   "source": [
    "Similarly to what you did before with `matplotlib`, plot all of the data that you read from the file earlier into a single file of bar plots, one for each site. This is challenging, but take it bit by bit and you should be able to do it.  \n",
    "* You will need to start by declaring the name of the output HTML file.\n",
    "* Next, start with a loop over the sites. \n",
    "* In that loop, you need to \n",
    "  * gather the data for the bar heights (the counts),\n",
    "  * then call the `Bar` function, passing in the row heights, a list of labels for the bars (the taxon IDs) and the site name as a title for the chart. \n",
    "* Once you have it working like that, try changing the program so that the sites and taxon IDs are in alphabetical order. \n",
    "* Then try changing the color of the bars, so that each taxon is represented in a different color. Make sure that this coloring is consistent across your plots.  \n",
    "\n",
    "You might need to refer to the `help()` documentation and the online user guide linked above for the plotting functions to achieve everything listed above, but with a little time and effort, you should be able to get your plots to look as below."
   ]
  },
  {
   "cell_type": "markdown",
   "metadata": {},
   "source": [
    "If you are really adventurous, plot all of the data on a single set of axes, with the data interleaved and the bars for different sites in different colours."
   ]
  },
  {
   "cell_type": "markdown",
   "metadata": {},
   "source": [
    "After you have finished on this exercise, or if you get really stuck and need to look at a solution, take a look at [this notebook](http://nbviewer.ipython.org/github/tobyhodges/ITPP/blob/v2/Exercise5_6WalkthroughBokeh.ipynb), which runs through my way of producing the site plots with a different bar color for each taxon."
   ]
  },
  {
   "cell_type": "markdown",
   "metadata": {},
   "source": [
    "#### Summary"
   ]
  },
  {
   "cell_type": "markdown",
   "metadata": {},
   "source": [
    "* Files are opened with the `open()` command, and this returns a file object.\n",
    "* Methods of the file object, such as `.readline()` or `.readlines()` can be used to get data from the file.\n",
    "* Files can also be used as iterable data type in `for` statements (and other contexts).\n",
    "* Python doesn’t convert data types automatically, so you need to use functions like `str()` and `int()` to convert between strings and numbers.\n",
    "* Python modules provide additional functionality for the language, and can perform many common data analysis tasks. "
   ]
  }
 ],
 "metadata": {
  "kernelspec": {
   "display_name": "Python 3",
   "language": "python",
   "name": "python3"
  },
  "language_info": {
   "codemirror_mode": {
    "name": "ipython",
    "version": 3
   },
   "file_extension": ".py",
   "mimetype": "text/x-python",
   "name": "python",
   "nbconvert_exporter": "python",
   "pygments_lexer": "ipython3",
   "version": "3.5.1"
  }
 },
 "nbformat": 4,
 "nbformat_minor": 0
}
